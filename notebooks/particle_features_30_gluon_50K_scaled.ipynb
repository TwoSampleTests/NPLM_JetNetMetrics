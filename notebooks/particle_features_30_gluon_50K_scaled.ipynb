{
 "cells": [
  {
   "cell_type": "markdown",
   "metadata": {},
   "source": [
    "# Initialize"
   ]
  },
  {
   "cell_type": "code",
   "execution_count": 1,
   "metadata": {},
   "outputs": [
    {
     "name": "stdout",
     "output_type": "stream",
     "text": [
      "/leonardo_scratch/fast/INF24_pmlhep_1/sgrossi0/projects/TwoSampleTest/NPLM_JetNetMetrics\n"
     ]
    },
    {
     "name": "stderr",
     "output_type": "stream",
     "text": [
      "/leonardo_scratch/fast/INF24_pmlhep_1/envs/tf2_custom_torch2.2/lib/python3.11/site-packages/IPython/core/magics/osm.py:417: UserWarning: This is now an optional IPython functionality, setting dhist requires you to install the `pickleshare` library.\n",
      "  self.shell.db['dhist'] = compress_dhist(dhist)[-100:]\n"
     ]
    }
   ],
   "source": [
    "%cd \"/leonardo_scratch/fast/INF24_pmlhep_1/sgrossi0/projects/TwoSampleTest/NPLM_JetNetMetrics\""
   ]
  },
  {
   "cell_type": "code",
   "execution_count": 2,
   "metadata": {},
   "outputs": [
    {
     "name": "stdout",
     "output_type": "stream",
     "text": [
      "2025-01-07 13:00:48.593166: Importing os...\n",
      "2025-01-07 13:00:48.593394: Importing sys...\n",
      "Visible devices: [3]\n",
      "2025-01-07 13:00:48.593638: Importing timer from timeit...\n",
      "2025-01-07 13:00:48.593706: Setting env variables for tf import (only device(s) [3] will be available)...\n",
      "2025-01-07 13:00:48.593832: Importing numpy...\n",
      "2025-01-07 13:00:48.725496: Importing matplotlib...\n",
      "2025-01-07 13:00:49.067027: Importing h5py...\n",
      "2025-01-07 13:00:49.097330: Importing importlib.util...\n",
      "2025-01-07 13:00:49.097433: Importing json...\n",
      "2025-01-07 13:00:49.097500: Importing pandas...\n",
      "2025-01-07 13:00:49.516482: Importing random...\n",
      "2025-01-07 13:00:49.516618: Importing scipy utils...\n",
      "2025-01-07 13:00:49.996998: Importing subprocess...\n",
      "2025-01-07 13:00:49.997144: Importing textwrap...\n",
      "2025-01-07 13:00:49.997209: Importing tensorflow...\n",
      "Tensorflow version: 2.16.1\n",
      "2025-01-07 13:00:53.291776: Importing tensorflow_probability...\n",
      "Tensorflow probability version: 0.24.0\n",
      "2025-01-07 13:00:54.373498: Importing timeit...\n",
      "2025-01-07 13:00:54.373588: Importing tqdm...\n",
      "2025-01-07 13:00:54.380863: Importing typing...\n",
      "2025-01-07 13:00:54.380967: Setting tf configs...\n",
      "2025-01-07 13:00:54.476091: Importing GMetrics module...\n"
     ]
    },
    {
     "name": "stderr",
     "output_type": "stream",
     "text": [
      "/leonardo_scratch/fast/INF24_pmlhep_1/envs/tf2_custom_torch2.2/lib/python3.11/site-packages/jetnet/utils/utils.py:7: FutureWarning: In version 2024.7.0 (target date: 2024-06-30 11:59:59-05:00), this will be an error.\n",
      "To raise these warnings as errors (and get stack traces to find out where they're called), run\n",
      "    import warnings\n",
      "    warnings.filterwarnings(\"error\", module=\"coffea.*\")\n",
      "after the first `import coffea` or use `@pytest.mark.filterwarnings(\"error:::coffea.*\")` in pytest.\n",
      "Issue: coffea.nanoevents.methods.vector will be removed and replaced with scikit-hep vector. Nanoevents schemas internal to coffea will be migrated. Otherwise please consider using that package!.\n",
      "  from coffea.nanoevents.methods import vector\n"
     ]
    },
    {
     "name": "stdout",
     "output_type": "stream",
     "text": [
      "2025-01-07 13:00:59.968086: Importing jetnet.evaluation.gen_metrics module...\n",
      "Successfully loaded GPU #3, model: NVIDIA A100-SXM-64GB\n",
      "Loaded 1 GPUs: ['NVIDIA A100-SXM-64GB']\n",
      "2025-01-07 13:00:59.998277: All done.\n"
     ]
    }
   ],
   "source": [
    "visible_devices = [3]\n",
    "from datetime import datetime\n",
    "print(datetime.now().strftime(\"%Y-%m-%d %H:%M:%S.%f\")+\":\", \"Importing os...\")\n",
    "import os\n",
    "print(datetime.now().strftime(\"%Y-%m-%d %H:%M:%S.%f\")+\":\", \"Importing sys...\")\n",
    "import sys\n",
    "if not any(\"ipykernel\" in arg for arg in sys.argv):\n",
    "    print(datetime.now().strftime(\"%Y-%m-%d %H:%M:%S.%f\")+\":\", \"Importing and initializing argparse...\")\n",
    "    import argparse\n",
    "    parser = argparse.ArgumentParser()\n",
    "    parser.add_argument(\"-v\", \"--visible_devices\", help=\"Set visible devices\", nargs='*', type=list, default=visible_devices)\n",
    "    args = parser.parse_args()\n",
    "    visible_devices = args.visible_devices if args.visible_devices else visible_devices\n",
    "    if not isinstance(visible_devices, list):\n",
    "        raise ValueError(\"Visible devices must be a list of integers\")\n",
    "    for i in visible_devices:\n",
    "        if not isinstance(i, int):\n",
    "            raise ValueError(\"Visible devices must be a list of integers\")\n",
    "print(\"Visible devices:\", visible_devices)\n",
    "print(datetime.now().strftime(\"%Y-%m-%d %H:%M:%S.%f\")+\":\", \"Importing timer from timeit...\")\n",
    "from timeit import default_timer as timer\n",
    "print(datetime.now().strftime(\"%Y-%m-%d %H:%M:%S.%f\")+\":\", \"Setting env variables for tf import (only device(s)\", visible_devices, \"will be available)...\")\n",
    "os.environ[\"CUDA_VISIBLE_DEVICES\"] = ','.join([str(i) for i in visible_devices]) # type: ignore\n",
    "os.environ['TF_CPP_MIN_LOG_LEVEL'] = '2'\n",
    "#os.environ['TF_XLA_FLAGS'] = '--tf_xla_enable_xla_devices'\n",
    "#os.environ['TF_XLA_FLAGS'] = '--tf_xla_auto_jit=2'\n",
    "print(datetime.now().strftime(\"%Y-%m-%d %H:%M:%S.%f\")+\":\", \"Importing numpy...\")\n",
    "import numpy as np # type: ignore\n",
    "print(datetime.now().strftime(\"%Y-%m-%d %H:%M:%S.%f\")+\":\", \"Importing matplotlib...\")\n",
    "from matplotlib import pyplot as plt\n",
    "print(datetime.now().strftime(\"%Y-%m-%d %H:%M:%S.%f\")+\":\", \"Importing h5py...\")\n",
    "import h5py # type: ignore\n",
    "print(datetime.now().strftime(\"%Y-%m-%d %H:%M:%S.%f\")+\":\", \"Importing importlib.util...\")\n",
    "import importlib.util\n",
    "print(datetime.now().strftime(\"%Y-%m-%d %H:%M:%S.%f\")+\":\", \"Importing json...\")\n",
    "import json\n",
    "print(datetime.now().strftime(\"%Y-%m-%d %H:%M:%S.%f\")+\":\", \"Importing pandas...\")\n",
    "import pandas as pd\n",
    "print(datetime.now().strftime(\"%Y-%m-%d %H:%M:%S.%f\")+\":\", \"Importing random...\")\n",
    "import random\n",
    "print(datetime.now().strftime(\"%Y-%m-%d %H:%M:%S.%f\")+\":\", \"Importing scipy utils...\")\n",
    "from scipy.stats import norm, lognorm, chi2, kstwo, kstwobign, ks_2samp, moment\n",
    "from scipy.special import kolmogorov\n",
    "from scipy.optimize import minimize, curve_fit, root, bisect\n",
    "print(datetime.now().strftime(\"%Y-%m-%d %H:%M:%S.%f\")+\":\", \"Importing subprocess...\")\n",
    "import subprocess\n",
    "print(datetime.now().strftime(\"%Y-%m-%d %H:%M:%S.%f\")+\":\", \"Importing textwrap...\")\n",
    "import textwrap\n",
    "print(datetime.now().strftime(\"%Y-%m-%d %H:%M:%S.%f\")+\":\", \"Importing tensorflow...\")\n",
    "import tensorflow as tf # type: ignore\n",
    "print(\"Tensorflow version:\", tf.__version__)\n",
    "print(datetime.now().strftime(\"%Y-%m-%d %H:%M:%S.%f\")+\":\", \"Importing tensorflow_probability...\")\n",
    "import tensorflow_probability as tfp # type: ignore\n",
    "tfd = tfp.distributions\n",
    "print(\"Tensorflow probability version:\", tfp.__version__)\n",
    "print(datetime.now().strftime(\"%Y-%m-%d %H:%M:%S.%f\")+\":\", \"Importing timeit...\")\n",
    "from timeit import default_timer as timer\n",
    "print(datetime.now().strftime(\"%Y-%m-%d %H:%M:%S.%f\")+\":\", \"Importing tqdm...\")\n",
    "from tqdm import tqdm\n",
    "print(datetime.now().strftime(\"%Y-%m-%d %H:%M:%S.%f\")+\":\", \"Importing typing...\")\n",
    "from typing import List, Tuple, Dict, Callable, Union, Optional, Any, Type\n",
    "print(datetime.now().strftime(\"%Y-%m-%d %H:%M:%S.%f\")+\":\", \"Setting tf configs...\")\n",
    "gpu_devices = tf.config.experimental.list_physical_devices('GPU')\n",
    "for gpu_device in gpu_devices:\n",
    "    tf.config.experimental.set_memory_growth(gpu_device, True)\n",
    "\n",
    "print(datetime.now().strftime(\"%Y-%m-%d %H:%M:%S.%f\")+\":\", \"Importing GMetrics module...\")\n",
    "\n",
    "import GMetrics # type: ignore\n",
    "from GMetrics.plotters import plot_corners, cornerplotter, plot_corr_matrix, plot_corr_matrix_side_by_side # type: ignore\n",
    "from GMetrics.more.deformations import deformed_distribution, deform_mean, deform_cov_diag, deform_cov_off_diag, deform_power_abs, deform_random\n",
    "from GMetrics.more.optimizers_deformations import compute_exclusion_bisection_dataset_np # type: ignore\n",
    "from GMetrics.utils import se_mean, se_std\n",
    "from GMetrics.metrics.NPLM import candidate_sigma\n",
    "\n",
    "print(datetime.now().strftime(\"%Y-%m-%d %H:%M:%S.%f\")+\":\", \"Importing jetnet.evaluation.gen_metrics module...\")\n",
    "import jetnet\n",
    "\n",
    "def get_gpu_info():\n",
    "    try:\n",
    "        gpu_info = subprocess.check_output([\"nvidia-smi\", \"--query-gpu=gpu_name\", \"--format=csv,noheader\"]).decode('utf-8')\n",
    "        return gpu_info.strip().split('\\n')\n",
    "    except Exception as e:\n",
    "        print(e)\n",
    "        return None\n",
    "training_devices = []\n",
    "gpu_models = get_gpu_info()\n",
    "for i in visible_devices:\n",
    "    if gpu_models:\n",
    "        training_devices.append(gpu_models[i])\n",
    "        print(f\"Successfully loaded GPU #{i}, model: {gpu_models[i]}\")\n",
    "    else:\n",
    "        training_devices.append('undetermined')\n",
    "        print(f\"Failed to load GPU {i} model. Defaulting to 'undetermined'.\")\n",
    "print(f\"Loaded {len(training_devices)} GPUs: {training_devices}\")\n",
    "        \n",
    "print(datetime.now().strftime(\"%Y-%m-%d %H:%M:%S.%f\")+\":\", \"All done.\")"
   ]
  },
  {
   "cell_type": "markdown",
   "metadata": {},
   "source": [
    "# Load data"
   ]
  },
  {
   "cell_type": "code",
   "execution_count": 3,
   "metadata": {},
   "outputs": [],
   "source": [
    "data = jetnet.datasets.JetNet.getData(jet_type = \"g\",\n",
    "                                      data_dir = \"data/g\",\n",
    "                                      particle_features = \"all\",\n",
    "                                      jet_features = \"all\",\n",
    "                                      num_particles = 30,\n",
    "                                      split = \"all\",\n",
    "                                      split_fraction = None,\n",
    "                                      seed = 42,\n",
    "                                      download = False,\n",
    "                                     )"
   ]
  },
  {
   "cell_type": "code",
   "execution_count": 4,
   "metadata": {},
   "outputs": [],
   "source": [
    "def get_particle_features(relative_features,\n",
    "                          jet_features):\n",
    "    eta_rel = relative_features[:, :, 0]\n",
    "    phi_rel = relative_features[:, :, 1]\n",
    "    pt_rel = relative_features[:, :, 2]\n",
    "    mask = relative_features[:, :, 3]\n",
    "    eta_jet = jet_features[:, 2]\n",
    "    pt_jet = jet_features[:, 1]\n",
    "    eta_particle = eta_jet[:, None] + eta_rel\n",
    "    phi_paericle = phi_rel\n",
    "    pt_particle = pt_jet[:, None] * pt_rel\n",
    "    particle_features = tf.stack([eta_particle, phi_paericle, pt_particle, mask], axis = 2)\n",
    "    return particle_features"
   ]
  },
  {
   "cell_type": "code",
   "execution_count": 5,
   "metadata": {},
   "outputs": [
    {
     "name": "stdout",
     "output_type": "stream",
     "text": [
      "relative_features.shape: (177252, 30, 4)\n",
      "jet_features.shape: (177252, 5)\n",
      "particle_features.shape: (177252, 30, 4)\n"
     ]
    }
   ],
   "source": [
    "relative_features = tf.cast(data[0], tf.float64)                            #    ``[\"etarel\", \"phirel\", \"ptrel\", \"mask\"]``.\n",
    "jet_features = tf.cast(data[1], tf.float64)                                 #    ``[\"type\", \"pt\", \"eta\", \"mass\", \"num_particles\"]``.\n",
    "particle_features = get_particle_features(relative_features, jet_features)  #    ``[\"eta\", \"phi\", \"pt\", \"mask\"]``.\n",
    "print(f\"relative_features.shape: {relative_features.shape}\")\n",
    "print(f\"jet_features.shape: {jet_features.shape}\")\n",
    "print(f\"particle_features.shape: {particle_features.shape}\")"
   ]
  },
  {
   "cell_type": "markdown",
   "metadata": {},
   "source": [
    "## Init data"
   ]
  },
  {
   "cell_type": "code",
   "execution_count": 6,
   "metadata": {},
   "outputs": [
    {
     "name": "stdout",
     "output_type": "stream",
     "text": [
      "Directory alredy exists\n"
     ]
    }
   ],
   "source": [
    "results_dir = \"results/particle_features_30/\"\n",
    "figures_dir = os.path.join(results_dir, \"figures/\")\n",
    "if not os.path.exists(figures_dir):\n",
    "    os.makedirs(figures_dir)\n",
    "    print(\"Results directories were created\")\n",
    "else:\n",
    "    print(\"Directory alredy exists\")"
   ]
  },
  {
   "cell_type": "code",
   "execution_count": 7,
   "metadata": {},
   "outputs": [
    {
     "data": {
      "text/plain": [
       "TensorShape([177252, 90])"
      ]
     },
     "execution_count": 7,
     "metadata": {},
     "output_type": "execute_result"
    }
   ],
   "source": [
    "def preprocess_data(data,means,stds):\n",
    "    preprocess_data=(data-means)/stds\n",
    "    return preprocess_data\n",
    "\n",
    "def postprocess_data(data,means,stds):\n",
    "    postprocess_data=data*stds+means\n",
    "    return postprocess_data\n",
    "\n",
    "def get_reduced_particle_features(particle_features):\n",
    "    tmp = particle_features[:, :, :3]\n",
    "    shape = tmp.shape\n",
    "    particle_features_reshaped = tf.reshape(tmp, [-1, shape[1] * shape[2]])\n",
    "    return particle_features_reshaped\n",
    "\n",
    "particle_features_reduced = get_reduced_particle_features(particle_features)\n",
    "particle_features_reduced.shape"
   ]
  },
  {
   "cell_type": "markdown",
   "metadata": {},
   "source": [
    "# TwoSample Test"
   ]
  },
  {
   "cell_type": "code",
   "execution_count": 8,
   "metadata": {},
   "outputs": [
    {
     "name": "stdout",
     "output_type": "stream",
     "text": [
      "Directory results/particle_features_30/tests/50K_preprocessed/ already exists\n"
     ]
    }
   ],
   "source": [
    "tests_dir = os.path.join(results_dir, \"tests/\")\n",
    "model_dir = os.path.join(tests_dir, '50K_preprocessed/')\n",
    "if not os.path.exists(model_dir):\n",
    "    os.makedirs(model_dir)\n",
    "    print(f\"Directory {model_dir} has been created\")\n",
    "else:\n",
    "    print(f\"Directory {model_dir} already exists\")\n",
    "\n",
    "particle_features_reduced = get_reduced_particle_features(particle_features)\n",
    "\n",
    "mean = tf.reduce_mean(particle_features_reduced, axis=0)\n",
    "std = tf.math.reduce_std(particle_features_reduced, axis=0)\n",
    "    \n",
    "dataset = preprocess_data(particle_features_reduced, mean, std)"
   ]
  },
  {
   "cell_type": "markdown",
   "metadata": {},
   "source": [
    "## Bootstrapping Null Hypothesis"
   ]
  },
  {
   "cell_type": "code",
   "execution_count": 9,
   "metadata": {},
   "outputs": [],
   "source": [
    "m_value = 16000\n",
    "lam_value = 1e-5"
   ]
  },
  {
   "cell_type": "code",
   "execution_count": 10,
   "metadata": {},
   "outputs": [
    {
     "name": "stdout",
     "output_type": "stream",
     "text": [
      "Null hypothesis directory exists\n"
     ]
    }
   ],
   "source": [
    "# null_hypotheses_dir = os.path.join(model_dir, 'null_hypotheses/')\n",
    "# if not os.path.exists(null_hypotheses_dir):\n",
    "#     os.makedirs(null_hypotheses_dir)\n",
    "#     print(f\"Directory {null_hypotheses_dir} has been created\")\n",
    "# else:\n",
    "#     print(f\"Directory {null_hypotheses_dir} already exists\")    \n",
    "    \n",
    "# metrics_config_file = os.path.join(model_dir, \"metrics_config.json\")\n",
    "\n",
    "null_hypotheses_dir = model_dir + f\"null_hypothesis_M_{m_value}_lam_{lam_value}/\"\n",
    "if os.path.exists(null_hypotheses_dir):\n",
    "    print(\"Null hypothesis directory exists\")\n",
    "else:\n",
    "    os.makedirs(null_hypotheses_dir)\n",
    "    print(\"Null hypothesis directory was created\")\n",
    "metrics_config_file = model_dir + f\"metrics_config_M_{m_value}_lam_{lam_value}.json\""
   ]
  },
  {
   "cell_type": "code",
   "execution_count": 11,
   "metadata": {},
   "outputs": [
    {
     "name": "stdout",
     "output_type": "stream",
     "text": [
      "niter: 1, nbootstrap: 1000\n",
      "Parsing input distribution...\n",
      "Input distribution is a numeric numpy array or tf.Tensor.\n",
      "Parsing input distribution...\n",
      "Input distribution is a numeric numpy array or tf.Tensor.\n",
      "Checking and setting numerical distributions.\n",
      "Returning dist_num.\n",
      "Returning dist_num.\n"
     ]
    }
   ],
   "source": [
    "niter_tot = 1_000\n",
    "batch_size_test = 50_000\n",
    "namples = len(dataset) // 2\n",
    "niter = namples // batch_size_test\n",
    "nbootstrap = niter_tot // niter\n",
    "niter_tot = niter * nbootstrap\n",
    "print(f\"niter: {niter}, nbootstrap: {nbootstrap}\")\n",
    "\n",
    "def shuffle_dataset(seed):\n",
    "    return tf.random.shuffle(dataset, seed=seed)\n",
    "\n",
    "start = timer()\n",
    "l = len(dataset) // 2\n",
    "dstmp = shuffle_dataset(seed = 0)\n",
    "dist_1_null = tf.cast(dstmp[:l], tf.float64)\n",
    "dist_2_null = tf.cast(dstmp[l:], tf.float64)\n",
    "del(dstmp)\n",
    "\n",
    "TwoSampleTestInputsNull = GMetrics.TwoSampleTestInputs(dist_1_input = dist_1_null[:niter*batch_size_test],\n",
    "                                                       dist_2_input = dist_2_null[:niter*batch_size_test],\n",
    "                                                       niter = niter,\n",
    "                                                       batch_size_test = batch_size_test,\n",
    "                                                       small_sample_threshold = 1e7,\n",
    "                                                       dtype_input = tf.float64,\n",
    "                                                       seed_input = 0,\n",
    "                                                       use_tf = True,\n",
    "                                                       mirror_strategy = False,\n",
    "                                                       verbose = True)"
   ]
  },
  {
   "cell_type": "code",
   "execution_count": 12,
   "metadata": {},
   "outputs": [
    {
     "name": "stdout",
     "output_type": "stream",
     "text": [
      "Finite Dataset Case.\n",
      "The Gaussian kernel sigma is estimated as the 90th percentile of the pairwise distance among 10000 points extracted from the reference data. \n",
      "The value of sigma is: 18.2\n"
     ]
    }
   ],
   "source": [
    "flk_sigma = candidate_sigma(dist_1_null, perc = 90)  "
   ]
  },
  {
   "cell_type": "code",
   "execution_count": 13,
   "metadata": {},
   "outputs": [],
   "source": [
    "NPLMMetric = GMetrics.NPLMMetric(TwoSampleTestInputsNull,\n",
    "                                 progress_bar = True,\n",
    "                                 verbose = True,\n",
    "                                 M = m_value, \n",
    "                                 lam = lam_value, \n",
    "                                 iter_list = 1000000,\n",
    "                                 flk_sigma = flk_sigma,\n",
    "                                 weight = 1) "
   ]
  },
  {
   "cell_type": "code",
   "execution_count": 14,
   "metadata": {},
   "outputs": [
    {
     "data": {
      "text/html": [
       "<div>\n",
       "<style scoped>\n",
       "    .dataframe tbody tr th:only-of-type {\n",
       "        vertical-align: middle;\n",
       "    }\n",
       "\n",
       "    .dataframe tbody tr th {\n",
       "        vertical-align: top;\n",
       "    }\n",
       "\n",
       "    .dataframe thead th {\n",
       "        text-align: right;\n",
       "    }\n",
       "</style>\n",
       "<table border=\"1\" class=\"dataframe\">\n",
       "  <thead>\n",
       "    <tr style=\"text-align: right;\">\n",
       "      <th></th>\n",
       "      <th>niter</th>\n",
       "      <th>batch_size_test</th>\n",
       "      <th>batch_size_gen</th>\n",
       "      <th>small_sample_threshold</th>\n",
       "      <th>dtype_input</th>\n",
       "      <th>seed</th>\n",
       "      <th>use_tf</th>\n",
       "      <th>mirror_strategy</th>\n",
       "      <th>strategy</th>\n",
       "      <th>verbose</th>\n",
       "      <th>is_symb_1</th>\n",
       "      <th>ndims_1</th>\n",
       "      <th>nsamples_1</th>\n",
       "      <th>is_symb_2</th>\n",
       "      <th>ndims_2</th>\n",
       "      <th>nsamples_2</th>\n",
       "      <th>dtype</th>\n",
       "      <th>ndims</th>\n",
       "      <th>nsamples</th>\n",
       "      <th>small_sample</th>\n",
       "    </tr>\n",
       "  </thead>\n",
       "  <tbody>\n",
       "    <tr>\n",
       "      <th>0</th>\n",
       "      <td>1</td>\n",
       "      <td>50000</td>\n",
       "      <td>1000</td>\n",
       "      <td>10000000</td>\n",
       "      <td>float64</td>\n",
       "      <td>0</td>\n",
       "      <td>True</td>\n",
       "      <td>False</td>\n",
       "      <td>None</td>\n",
       "      <td>True</td>\n",
       "      <td>False</td>\n",
       "      <td>90</td>\n",
       "      <td>50000</td>\n",
       "      <td>False</td>\n",
       "      <td>90</td>\n",
       "      <td>50000</td>\n",
       "      <td>float64</td>\n",
       "      <td>90</td>\n",
       "      <td>50000</td>\n",
       "      <td>True</td>\n",
       "    </tr>\n",
       "  </tbody>\n",
       "</table>\n",
       "</div>"
      ],
      "text/plain": [
       "   niter  batch_size_test  batch_size_gen  small_sample_threshold dtype_input  \\\n",
       "0      1            50000            1000                10000000     float64   \n",
       "\n",
       "   seed  use_tf  mirror_strategy strategy  verbose  is_symb_1  ndims_1  \\\n",
       "0     0    True            False     None     True      False       90   \n",
       "\n",
       "   nsamples_1  is_symb_2  ndims_2  nsamples_2    dtype  ndims  nsamples  \\\n",
       "0       50000      False       90       50000  float64     90     50000   \n",
       "\n",
       "   small_sample  \n",
       "0          True  "
      ]
     },
     "execution_count": 14,
     "metadata": {},
     "output_type": "execute_result"
    }
   ],
   "source": [
    "test_config_null = {}\n",
    "test_config_tmp = dict(TwoSampleTestInputsNull.__dict__)\n",
    "keys_to_remove = [\"_dist_1_input\", \"_dist_2_input\", \"_dist_1_num\", \"_dist_2_num\", \"_dist_1_symb\", \"_dist_2_symb\", \"_seed_generator\"]\n",
    "for key in keys_to_remove:\n",
    "    test_config_tmp.pop(key, None)\n",
    "for key, value in test_config_tmp.items():\n",
    "    new_key = key.lstrip('_')\n",
    "    \n",
    "    if isinstance(value, tf.Tensor):\n",
    "        new_value = value.numpy() # type: ignore\n",
    "    elif isinstance(value, np.ndarray):\n",
    "        new_value = value.tolist()\n",
    "    elif isinstance(value, np.generic):\n",
    "        new_value = value.item() # Convert NumPy scalars to Python scalars\n",
    "    elif isinstance(value, tf.DType):\n",
    "        new_value = value.name\n",
    "    elif isinstance(value, np.dtype):\n",
    "        new_value = np.dtype(value).name\n",
    "    else:\n",
    "        new_value = value\n",
    "    \n",
    "    test_config_null[new_key] = new_value\n",
    "\n",
    "pd.DataFrame([test_config_null])"
   ]
  },
  {
   "cell_type": "code",
   "execution_count": 15,
   "metadata": {},
   "outputs": [
    {
     "name": "stdout",
     "output_type": "stream",
     "text": [
      "{'NPLM': {'name': 'nplm', 'object_name': 'NPLMMetric', 'class_name': 'GMetrics.NPLMMetric', 'kwargs': {'M': 16000, 'lam': 1e-05, 'iter_list': 1000000, 'flk_sigma': 18.2, 'weight': 1}, 'result_key': 'metric_list', 'scale_func': <function <lambda> at 0x7f9222ecb7e0>, 'scale_func_string': 'lambda ns, ndims: 1', 'test_config': {'niter': 1, 'batch_size_test': 50000, 'batch_size_gen': 1000, 'small_sample_threshold': 10000000, 'dtype_input': 'float64', 'seed': 0, 'use_tf': True, 'mirror_strategy': False, 'strategy': None, 'verbose': True, 'is_symb_1': False, 'ndims_1': 90, 'nsamples_1': 50000, 'is_symb_2': False, 'ndims_2': 90, 'nsamples_2': 50000, 'dtype': 'float64', 'ndims': 90, 'nsamples': 50000, 'small_sample': True}, 'max_vectorize': 1000, 'latex': '$t_{\\\\mathrm{NPLM}}$', 'null_file': 'results/particle_features_30/tests/50K_preprocessed/null_hypothesis_M_16000_lam_1e-05/NPLM.json'}}\n",
      "{'name': 'nplm', 'object_name': 'NPLMMetric', 'class_name': 'GMetrics.NPLMMetric', 'kwargs': {'M': 16000, 'lam': 1e-05, 'iter_list': 1000000, 'flk_sigma': 18.2, 'weight': 1}, 'result_key': 'metric_list', 'scale_func': <function <lambda> at 0x7f9222ecb7e0>, 'scale_func_string': 'lambda ns, ndims: 1', 'test_config': {'niter': 1, 'batch_size_test': 50000, 'batch_size_gen': 1000, 'small_sample_threshold': 10000000, 'dtype_input': 'float64', 'seed': 0, 'use_tf': True, 'mirror_strategy': False, 'strategy': None, 'verbose': True, 'is_symb_1': False, 'ndims_1': 90, 'nsamples_1': 50000, 'is_symb_2': False, 'ndims_2': 90, 'nsamples_2': 50000, 'dtype': 'float64', 'ndims': 90, 'nsamples': 50000, 'small_sample': True}, 'max_vectorize': 1000, 'latex': '$t_{\\\\mathrm{NPLM}}$', 'null_file': 'results/particle_features_30/tests/50K_preprocessed/null_hypothesis_M_16000_lam_1e-05/NPLM.json'}\n"
     ]
    }
   ],
   "source": [
    "unique_key = \"config_flavor_nsamples_\"+str(TwoSampleTestInputsNull.batch_size_test)+\"_niter_\"+str(niter_tot)\n",
    "metrics_config = {unique_key: {\"NPLM\": {\"name\": \"nplm\",\n",
    "                                       \"object_name\": \"NPLMMetric\",\n",
    "                                       \"class_name\": \"GMetrics.NPLMMetric\",\n",
    "                                       \"kwargs\": {\"M\": m_value,\n",
    "                                                  \"lam\": lam_value,\n",
    "                                                  \"iter_list\": 1000000,\n",
    "                                                  \"flk_sigma\": flk_sigma,\n",
    "                                                  \"weight\" : 1},\n",
    "                                       \"result_key\": \"metric_list\", \n",
    "                                       \"scale_func\": lambda ns, ndims: 1,#(ns/ndims)**(3/2),\n",
    "                                       \"scale_func_string\": \"lambda ns, ndims: 1\",\n",
    "                                       \"test_config\": test_config_null,\n",
    "                                       \"max_vectorize\": 1000, # optimized for 5D\n",
    "                                       \"latex\": \"$t_{\\mathrm{NPLM}}$\",\n",
    "                                       \"null_file\": null_hypotheses_dir+\"NPLM.json\"}}}\n",
    "\n",
    "print(metrics_config[unique_key])\n",
    "nplm_config = metrics_config[unique_key][\"NPLM\"]\n",
    "print(nplm_config)"
   ]
  },
  {
   "cell_type": "code",
   "execution_count": 16,
   "metadata": {},
   "outputs": [
    {
     "name": "stdout",
     "output_type": "stream",
     "text": [
      "Loading nplm from results/particle_features_30/tests/50K_preprocessed/null_hypothesis_M_16000_lam_1e-05/NPLM.json\n"
     ]
    }
   ],
   "source": [
    "file = nplm_config[\"null_file\"]\n",
    "name = nplm_config[\"name\"]\n",
    "max_vectorize = nplm_config[\"max_vectorize\"]\n",
    "obj = eval(nplm_config[\"object_name\"])\n",
    "if os.path.exists(file):\n",
    "     print(f\"Loading {name} from {file}\")\n",
    "     obj.Results.load_from_json(file)\n",
    "else:\n",
    "    print(f\"Computing and saving {name}\")\n",
    "    print(\"\\n===========================================================\")\n",
    "    print(f\"Testing from 0 to {niter} of {niter * nbootstrap} samples.\")\n",
    "    obj.Test_np()\n",
    "    for i in range(1, nbootstrap):\n",
    "        l = len(dataset) // 2\n",
    "        dstmp = shuffle_dataset(seed = 1000 * i + i)\n",
    "        dist_1_null = tf.cast(dstmp[:l], tf.float64)\n",
    "        dist_2_null = tf.cast(dstmp[l:], tf.float64)\n",
    "        #KSTestNull.Inputs.dist_1_input = dist_1 # This is the consistent way, but slower\n",
    "        TwoSampleTestInputsNull._dist_1_num = dist_1_null[:niter*batch_size_test] # Overwriting the _dist_1_num attribute. Less consistent, but         faster\n",
    "        #KSTestNull.Inputs.dist_2_input = dist_2 # This is the consistent way, but slower\n",
    "        TwoSampleTestInputsNull._dist_2_num = dist_2_null[:niter*batch_size_test] # Overwriting the _dist_2_num attribute. Less consistent, but         faster\n",
    "        print(\"\\n===========================================================\")\n",
    "        print(f\"Testing from {i * niter} to {(i+1) * niter} of {niter * nbootstrap} samples.\")\n",
    "        obj.Test_np()\n",
    "        del(dstmp)\n",
    "    end = timer()\n",
    "    print(f\"All done in: {end-start:.2f} s.\")\n",
    "    print(f\"Saving {name} to {file}\")\n",
    "    obj.Results.save_to_json(file)"
   ]
  },
  {
   "cell_type": "code",
   "execution_count": 17,
   "metadata": {},
   "outputs": [
    {
     "name": "stdout",
     "output_type": "stream",
     "text": [
      "ThresholdS for metric nplm: [[0.68, [680, 319], 1125.8083480893322], [0.95, [950, 50], 1185.9146799252876], [0.99, [990, 10], 1225.6717572287077]]\n",
      "Computing time for metric nplm: 7280.602318047022\n"
     ]
    },
    {
     "data": {
      "text/html": [
       "<div>\n",
       "<style scoped>\n",
       "    .dataframe tbody tr th:only-of-type {\n",
       "        vertical-align: middle;\n",
       "    }\n",
       "\n",
       "    .dataframe tbody tr th {\n",
       "        vertical-align: top;\n",
       "    }\n",
       "\n",
       "    .dataframe thead th {\n",
       "        text-align: right;\n",
       "    }\n",
       "</style>\n",
       "<table border=\"1\" class=\"dataframe\">\n",
       "  <thead>\n",
       "    <tr style=\"text-align: right;\">\n",
       "      <th></th>\n",
       "      <th>name</th>\n",
       "      <th>object_name</th>\n",
       "      <th>class_name</th>\n",
       "      <th>kwargs</th>\n",
       "      <th>result_key</th>\n",
       "      <th>scale_func</th>\n",
       "      <th>scale_func_string</th>\n",
       "      <th>test_config</th>\n",
       "      <th>max_vectorize</th>\n",
       "      <th>latex</th>\n",
       "      <th>null_file</th>\n",
       "      <th>thresholds</th>\n",
       "    </tr>\n",
       "  </thead>\n",
       "  <tbody>\n",
       "    <tr>\n",
       "      <th>0</th>\n",
       "      <td>nplm</td>\n",
       "      <td>NPLMMetric</td>\n",
       "      <td>GMetrics.NPLMMetric</td>\n",
       "      <td>{'M': 16000, 'lam': 1e-05, 'iter_list': 100000...</td>\n",
       "      <td>metric_list</td>\n",
       "      <td>&lt;function &lt;lambda&gt; at 0x7f9222ecb7e0&gt;</td>\n",
       "      <td>lambda ns, ndims: 1</td>\n",
       "      <td>{'niter': 1, 'batch_size_test': 50000, 'batch_...</td>\n",
       "      <td>1000</td>\n",
       "      <td>$t_{\\mathrm{NPLM}}$</td>\n",
       "      <td>results/particle_features_30/tests/50K_preproc...</td>\n",
       "      <td>[[0.68, [680, 319], 1125.8083480893322], [0.95...</td>\n",
       "    </tr>\n",
       "  </tbody>\n",
       "</table>\n",
       "</div>"
      ],
      "text/plain": [
       "   name object_name           class_name  \\\n",
       "0  nplm  NPLMMetric  GMetrics.NPLMMetric   \n",
       "\n",
       "                                              kwargs   result_key  \\\n",
       "0  {'M': 16000, 'lam': 1e-05, 'iter_list': 100000...  metric_list   \n",
       "\n",
       "                              scale_func    scale_func_string  \\\n",
       "0  <function <lambda> at 0x7f9222ecb7e0>  lambda ns, ndims: 1   \n",
       "\n",
       "                                         test_config  max_vectorize  \\\n",
       "0  {'niter': 1, 'batch_size_test': 50000, 'batch_...           1000   \n",
       "\n",
       "                 latex                                          null_file  \\\n",
       "0  $t_{\\mathrm{NPLM}}$  results/particle_features_30/tests/50K_preproc...   \n",
       "\n",
       "                                          thresholds  \n",
       "0  [[0.68, [680, 319], 1125.8083480893322], [0.95...  "
      ]
     },
     "execution_count": 17,
     "metadata": {},
     "output_type": "execute_result"
    }
   ],
   "source": [
    "cl_list = [0.68, 0.95, 0.99]\n",
    "null_times = []\n",
    "ndims = 90\n",
    "\n",
    "\n",
    "name = nplm_config[\"name\"]\n",
    "obj = eval(nplm_config[\"object_name\"])\n",
    "result_key = nplm_config[\"result_key\"]\n",
    "scale_func = nplm_config[\"scale_func\"]\n",
    "\n",
    "nsamples = obj.Inputs.batch_size_test\n",
    "ns = nsamples**2 /(2*nsamples)\n",
    "dist_null  = np.array(obj.Results[0].result_value[result_key])\n",
    "for i in range(1,len(obj.Results)):\n",
    "    dist_null = np.concatenate((dist_null, np.array(obj.Results[i].result_value[result_key])))\n",
    "\n",
    "metric_thresholds = [[cl, \n",
    "                        [int(cl*len(dist_null)), \n",
    "                        int((1-cl)*len(dist_null))], \n",
    "                        np.sort(dist_null)[int(len(dist_null)*cl)]] for cl in cl_list]\n",
    "\n",
    "print(f\"ThresholdS for metric {nplm_config['name']}: {metric_thresholds}\")\n",
    "\n",
    "null_time = obj.Results[0].__dict__['computing_time']\n",
    "for i in range(1,len(obj.Results)):\n",
    "        null_time += obj.Results[i].__dict__['computing_time']\n",
    "null_times.append([name, int(null_time)])\n",
    "print(f\"Computing time for metric {nplm_config['name']}: {null_time}\")\n",
    "\n",
    "nplm_config.update({\"thresholds\": metric_thresholds})\n",
    "    \n",
    "GMetrics.utils.save_update_metrics_config(metrics_config = metrics_config, metrics_config_file = metrics_config_file) # type: ignore"
   ]
  },
  {
   "cell_type": "markdown",
   "metadata": {},
   "source": [
    "### Plots of null-distributions"
   ]
  },
  {
   "cell_type": "code",
   "execution_count": 18,
   "metadata": {},
   "outputs": [
    {
     "name": "stdout",
     "output_type": "stream",
     "text": [
      "mu = 1106.3794195093144 +/- 69.47827608951091\n",
      "sigma = 46.873190668533674 +/- 1.052520881987325\n",
      "68%CL = 1125.8083480893322, 95%CL = 1185.9146799252876, 99%CL = 1225.6717572287077\n",
      "mu = 1106.3794195093144 +/- 69.47827608951091\n",
      "sigma = 46.873190668533674 +/- 1.052520881987325\n"
     ]
    },
    {
     "name": "stderr",
     "output_type": "stream",
     "text": [
      "/tmp/ipykernel_173046/1261576838.py:66: UserWarning: Attempt to set non-positive ylim on a log-scaled axis will be ignored.\n",
      "  ax[0].set_ylim(current_ylim0)\n",
      "/tmp/ipykernel_173046/1261576838.py:68: MatplotlibDeprecationWarning: The legendHandles attribute was deprecated in Matplotlib 3.7 and will be removed two minor releases later. Use legend_handles instead.\n",
      "  for handle in legend0.legendHandles[-3:]:\n",
      "/tmp/ipykernel_173046/1261576838.py:97: UserWarning: Attempt to set non-positive ylim on a log-scaled axis will be ignored.\n",
      "  ax[1].set_ylim(current_ylim1)\n",
      "/tmp/ipykernel_173046/1261576838.py:103: MatplotlibDeprecationWarning: The legendHandles attribute was deprecated in Matplotlib 3.7 and will be removed two minor releases later. Use legend_handles instead.\n",
      "  for handle in legend1.legendHandles[-3:]:\n"
     ]
    },
    {
     "data": {
      "image/png": "[encoded data removed]",
      "text/plain": [
       "<Figure size 1600x600 with 2 Axes>"
      ]
     },
     "metadata": {},
     "output_type": "display_data"
    },
    {
     "name": "stdout",
     "output_type": "stream",
     "text": [
      "Time elapsed: 1.1950837881304324 seconds.\n"
     ]
    },
    {
     "data": {
      "text/html": [
       "<div>\n",
       "<style scoped>\n",
       "    .dataframe tbody tr th:only-of-type {\n",
       "        vertical-align: middle;\n",
       "    }\n",
       "\n",
       "    .dataframe tbody tr th {\n",
       "        vertical-align: top;\n",
       "    }\n",
       "\n",
       "    .dataframe thead th {\n",
       "        text-align: right;\n",
       "    }\n",
       "</style>\n",
       "<table border=\"1\" class=\"dataframe\">\n",
       "  <thead>\n",
       "    <tr style=\"text-align: right;\">\n",
       "      <th></th>\n",
       "      <th>name</th>\n",
       "      <th>object_name</th>\n",
       "      <th>class_name</th>\n",
       "      <th>kwargs</th>\n",
       "      <th>result_key</th>\n",
       "      <th>scale_func</th>\n",
       "      <th>scale_func_string</th>\n",
       "      <th>test_config</th>\n",
       "      <th>max_vectorize</th>\n",
       "      <th>latex</th>\n",
       "      <th>null_file</th>\n",
       "      <th>thresholds</th>\n",
       "      <th>null_figure</th>\n",
       "    </tr>\n",
       "  </thead>\n",
       "  <tbody>\n",
       "    <tr>\n",
       "      <th>0</th>\n",
       "      <td>nplm</td>\n",
       "      <td>NPLMMetric</td>\n",
       "      <td>GMetrics.NPLMMetric</td>\n",
       "      <td>{'M': 16000, 'lam': 1e-05, 'iter_list': 100000...</td>\n",
       "      <td>metric_list</td>\n",
       "      <td>&lt;function &lt;lambda&gt; at 0x7f9222ecb7e0&gt;</td>\n",
       "      <td>lambda ns, ndims: 1</td>\n",
       "      <td>{'niter': 1, 'batch_size_test': 50000, 'batch_...</td>\n",
       "      <td>1000</td>\n",
       "      <td>$t_{\\mathrm{NPLM}}$</td>\n",
       "      <td>results/particle_features_30/tests/50K_preproc...</td>\n",
       "      <td>[[0.68, [680, 319], 1125.8083480893322], [0.95...</td>\n",
       "      <td>results/particle_features_30/tests/50K_preproc...</td>\n",
       "    </tr>\n",
       "  </tbody>\n",
       "</table>\n",
       "</div>"
      ],
      "text/plain": [
       "   name object_name           class_name  \\\n",
       "0  nplm  NPLMMetric  GMetrics.NPLMMetric   \n",
       "\n",
       "                                              kwargs   result_key  \\\n",
       "0  {'M': 16000, 'lam': 1e-05, 'iter_list': 100000...  metric_list   \n",
       "\n",
       "                              scale_func    scale_func_string  \\\n",
       "0  <function <lambda> at 0x7f9222ecb7e0>  lambda ns, ndims: 1   \n",
       "\n",
       "                                         test_config  max_vectorize  \\\n",
       "0  {'niter': 1, 'batch_size_test': 50000, 'batch_...           1000   \n",
       "\n",
       "                 latex                                          null_file  \\\n",
       "0  $t_{\\mathrm{NPLM}}$  results/particle_features_30/tests/50K_preproc...   \n",
       "\n",
       "                                          thresholds  \\\n",
       "0  [[0.68, [680, 319], 1125.8083480893322], [0.95...   \n",
       "\n",
       "                                         null_figure  \n",
       "0  results/particle_features_30/tests/50K_preproc...  "
      ]
     },
     "execution_count": 18,
     "metadata": {},
     "output_type": "execute_result"
    }
   ],
   "source": [
    "name = nplm_config[\"name\"]\n",
    "name_cap = name.upper()\n",
    "latex = nplm_config[\"latex\"]\n",
    "obj = eval(nplm_config[\"object_name\"])\n",
    "result_key = nplm_config[\"result_key\"]\n",
    "scale_func = nplm_config[\"scale_func\"]\n",
    "figure_file = nplm_config[\"null_file\"].replace(\"json\",\"pdf\")\n",
    "thresholds = nplm_config[\"thresholds\"]\n",
    "\n",
    "start = timer()\n",
    "\n",
    "nsamples = obj.Inputs.batch_size_test\n",
    "niter = obj.Inputs.niter\n",
    "ns = nsamples**2 /(2*nsamples)\n",
    "dist_null  = np.array(obj.Results[0].result_value[result_key])*scale_func(ns, ndims)\n",
    "for i in range(1,len(obj.Results)):\n",
    "    dist_null = np.concatenate((dist_null, np.array(obj.Results[i].result_value[result_key])))\n",
    "dist_null = dist_null * scale_func(ns, ndims)\n",
    "\n",
    "scale = 'log'\n",
    "num_bins = 50  # number of bins|\n",
    "\n",
    "mu, deltamu, sigma, deltasigma = (np.mean(dist_null), se_mean(dist_null), np.std(dist_null), se_std(dist_null))\n",
    "sigma_68, sigma_95, sigma_99 = [np.sort(dist_null)[int(len(dist_null)*cl)] for cl in [0.68, 0.95, 0.99]]\n",
    "print(f\"mu = {mu} +/- {deltamu}\")\n",
    "print(f\"sigma = {sigma} +/- {deltasigma}\")\n",
    "print(f\"68%CL = {sigma_68}, 95%CL = {sigma_95}, 99%CL = {sigma_99}\")\n",
    "\n",
    "print(\"mu =\", mu, \"+/-\", deltamu)\n",
    "print(\"sigma =\", sigma, \"+/-\", deltasigma)\n",
    "\n",
    "min_x, max_x = min(dist_null), max(dist_null) # lower and upper limit of the binning\n",
    "x = np.linspace(min_x, max_x, num_bins + 1)\n",
    "counts, bin_edges = np.histogram(dist_null, bins=x, density=True)\n",
    "cum_counts = np.cumsum(counts)/np.sum(counts)\n",
    "bin_centers = (bin_edges[:-1] + bin_edges[1:]) / 2\n",
    "\n",
    "fig, ax = plt.subplots(1, 2, figsize=(16, 6))\n",
    "\n",
    "dash_styles = ['-', '--', '-.']\n",
    "colors = [\"royalblue\", \"darkorange\", \"mediumseagreen\"]\n",
    "\n",
    "# Create step plot\n",
    "step_edges = np.convolve(bin_centers, [0.5, 0.5], 'valid')\n",
    "step_counts = counts[:-1]  # assuming counts is one element longer than step_edges\n",
    "\n",
    "ax[0].step(step_edges, step_counts, where='mid', linestyle='-', color = \"tomato\", label = \"Null distribution\")\n",
    "current_ylim0 = ax[0].get_ylim()\n",
    "ax[0].set_yscale(scale)\n",
    "ax[0].set_xlabel(r\"%s\"%latex, fontsize=16)\n",
    "ax[0].set_ylabel('Frequency', fontsize=16)\n",
    "ax[0].set_title('PDF for particle_features_30 null with $N = '+str(ndims)+'$, $n=m='+str(int(nsamples/1000))+'$K, $n_{\\mathrm{iter}} = '+str(int(niter_tot/1000))+'$K', fontsize=15)\n",
    "ax[0].tick_params(axis='x', labelsize=15)  # Set x-axis tick label size\n",
    "ax[0].tick_params(axis='y', labelsize=15)  # Set y-axis tick label size\n",
    "\n",
    "for i, threshold in enumerate(thresholds):\n",
    "    confidence_level, _, threshold_value = threshold\n",
    "    start_index = np.searchsorted(step_edges, threshold_value, side=\"right\") - 1\n",
    "    start_index = max(start_index, 0)\n",
    "    fill_x_range = np.concatenate([[threshold_value], step_edges[start_index+1:]])\n",
    "    fill_y_values = step_counts[start_index:]\n",
    "    if len(fill_x_range) > 1 and len(fill_y_values) > 0:\n",
    "        ax[0].fill_between(fill_x_range, 0, fill_y_values, color=colors[i], alpha=0.1, step='mid', label=f\"{int(confidence_level * 100)}% CL ($x>{format(threshold_value, '.2f')}   $)\")\n",
    "    ax[0].axvline(x=threshold_value, linestyle=dash_styles[i], color=colors[i], linewidth=1)\n",
    "\n",
    "ax[0].set_ylim(current_ylim0)  \n",
    "legend0 = ax[0].legend(loc='upper right', fontsize=15)\n",
    "for handle in legend0.legendHandles[-3:]:\n",
    "    handle.set_alpha(0.5)  # Set to desired alpha value\n",
    "\n",
    "# Create step plot\n",
    "step_edges = np.convolve(bin_centers, [0.5, 0.5], 'valid')\n",
    "step_counts = cum_counts[:-1]  # assuming counts is one element longer than step_edges\n",
    "\n",
    "ax[1].step(step_edges, step_counts, where='mid', linestyle='-', color = \"tomato\", label = \"Null distribution\")\n",
    "#ax[1].plot(bin_centers, cum_counts, linestyle = '-', color = \"tomato\", label = \"Null distribution\", drawstyle='steps-mid')\n",
    "current_ylim1 = ax[1].get_ylim()\n",
    "#for i, threshold in enumerate(thresholds):\n",
    "#    confidence_level, _, threshold_value = threshold\n",
    "#    ax[1].axhline(y=confidence_level, color=colors[i], linestyle=dash_styles[i], linewidth=0.5, alpha=1)\n",
    "ax[1].set_yscale(scale)\n",
    "ax[1].set_xlabel(r\"%s\"%latex, fontsize=16)\n",
    "ax[1].set_title('CDF for particle_features_30 null with $N = '+str(ndims)+'$, $n=m='+str(int(nsamples/1000))+'$K, $n_{\\mathrm{iter}} = '+str(int(niter_tot/1000))+'$K', fontsize=15)\n",
    "ax[1].tick_params(axis='x', labelsize=15)  # Set x-axis tick label size\n",
    "ax[1].tick_params(axis='y', labelsize=15)  # Set y-axis tick label size\n",
    "\n",
    "for i, threshold in enumerate(thresholds):\n",
    "    confidence_level, _, threshold_value = threshold\n",
    "    start_index = np.searchsorted(step_edges, threshold_value, side=\"right\") - 1\n",
    "    start_index = max(start_index, 0)\n",
    "    fill_x_range = np.concatenate([[threshold_value], step_edges[start_index+1:]])\n",
    "    fill_y_values = step_counts[start_index:]\n",
    "    if len(fill_x_range) > 1 and len(fill_y_values) > 0:\n",
    "        ax[1].fill_between(fill_x_range, 0, fill_y_values, color=colors[i], alpha=0.1, step='mid', label=f\"{int(confidence_level * 100)}% CL ($x>{format(threshold_value, '.2f')}   $)\")\n",
    "    ax[1].axvline(x=threshold_value, linestyle=dash_styles[i], color=colors[i], linewidth=1)\n",
    "\n",
    "ax[1].set_ylim(current_ylim1)  \n",
    "#for i, threshold in enumerate(thresholds):\n",
    "#    confidence, _, value = threshold\n",
    "#    ax[1].axvline(x=value, color=colors[i], linestyle=dash_styles[i], alpha=1, label=f\"{int(confidence_level * 100)} CL% ($x>{format(threshold_value,'.2f')}$)\")\n",
    "\n",
    "legend1 = ax[1].legend(loc='upper right', fontsize=15)\n",
    "for handle in legend1.legendHandles[-3:]:\n",
    "    handle.set_alpha(0.5)  # Set to desired alpha value\n",
    "\n",
    "plt.subplots_adjust(wspace=0.1)  # Adjust this value to your liking\n",
    "plt.tight_layout()\n",
    "plt.savefig(figure_file)\n",
    "plt.show()\n",
    "plt.close()\n",
    "\n",
    "nplm_config.update({\"null_figure\": figure_file})\n",
    "\n",
    "end = timer()\n",
    "print(\"Time elapsed:\", end-start, \"seconds.\")\n",
    "\n",
    "GMetrics.utils.save_update_metrics_config(metrics_config = metrics_config, metrics_config_file = metrics_config_file) # type: ignore"
   ]
  },
  {
   "cell_type": "markdown",
   "metadata": {},
   "source": [
    "## Alternative hypothesis"
   ]
  },
  {
   "cell_type": "markdown",
   "metadata": {},
   "source": [
    "### Scan and exclusion limits (bisection method)"
   ]
  },
  {
   "cell_type": "code",
   "execution_count": 19,
   "metadata": {},
   "outputs": [],
   "source": [
    "if test_config_null[\"use_tf\"]:\n",
    "    dtype = getattr(tf, test_config_null[\"dtype_input\"])\n",
    "else:\n",
    "    dtype = np.dtype(test_config_null[\"dtype_input\"])\n",
    "test_kwargs = {\"niter_null\": niter,\n",
    "               \"niter_alt\": 100, # this will be adapted to the boostrap size\n",
    "               \"batch_size_test\": test_config_null[\"batch_size_test\"],\n",
    "               \"batch_size_gen\": test_config_null[\"batch_size_gen\"],\n",
    "               \"small_sample_threshold\": test_config_null[\"small_sample_threshold\"],\n",
    "               \"dtype_input\": dtype,\n",
    "               \"seed_input\": test_config_null[\"seed\"],\n",
    "               \"use_tf\": test_config_null[\"use_tf\"],\n",
    "               \"mirror_strategy\": test_config_null[\"mirror_strategy\"],\n",
    "               \"verbose\": False}"
   ]
  },
  {
   "cell_type": "code",
   "execution_count": 20,
   "metadata": {},
   "outputs": [],
   "source": [
    "# file_path = os.path.join(model_dir, \"exclusion_limits.json\")\n",
    "# if os.path.exists(file_path):\n",
    "#     try:\n",
    "#         with open(file_path, \"r\") as file:\n",
    "#             existing_data = json.load(file)\n",
    "#     except json.JSONDecodeError:\n",
    "#         existing_data = {}\n",
    "# else:\n",
    "#     existing_data = {}\n",
    "    \n",
    "# # Sort the dictionary by keys\n",
    "# existing_data = dict(sorted(existing_data.items()))\n",
    "\n",
    "# # Save the sorted dictionary back to a JSON file\n",
    "# with open(file_path, 'w') as f:\n",
    "#     json.dump(existing_data, f, cls=GMetrics.utils.CustomEncoder, indent=4) # type: ignore\n",
    "\n",
    "file_path = os.path.join(model_dir, f\"exclusion_limits_M_{m_value}_lam_{lam_value}.json\")\n",
    "if os.path.exists(file_path):\n",
    "    try:\n",
    "        with open(file_path, \"r\") as file:\n",
    "            existing_data = json.load(file)\n",
    "    except json.JSONDecodeError:\n",
    "        existing_data = {}\n",
    "else:\n",
    "    existing_data = {}\n",
    "    \n",
    "# Sort the dictionary by keys\n",
    "existing_data = dict(sorted(existing_data.items()))\n",
    "\n",
    "# Save the sorted dictionary back to a JSON file\n",
    "with open(file_path, 'w') as f:\n",
    "    json.dump(existing_data, f, cls=GMetrics.utils.CustomEncoder, indent=4) # type: ignore"
   ]
  },
  {
   "cell_type": "code",
   "execution_count": 21,
   "metadata": {},
   "outputs": [
    {
     "name": "stdout",
     "output_type": "stream",
     "text": [
      "Upper bounds for nplm with mean deformation already loaded.\n",
      "Central bounds for nplm with mean deformation already loaded.\n",
      "Lower bounds for nplm with mean deformation already loaded.\n",
      "Upper bounds for nplm with cov_diag deformation already loaded.\n",
      "Central bounds for nplm with cov_diag deformation already loaded.\n",
      "Lower bounds for nplm with cov_diag deformation already loaded.\n",
      "Upper bounds for nplm with cov_off_diag deformation already loaded.\n",
      "Central bounds for nplm with cov_off_diag deformation already loaded.\n",
      "Lower bounds for nplm with cov_off_diag deformation already loaded.\n",
      "Upper bounds for nplm with power_abs_up deformation already loaded.\n",
      "Central bounds for nplm with power_abs_up deformation already loaded.\n",
      "Lower bounds for nplm with power_abs_up deformation already loaded.\n",
      "Upper bounds for nplm with power_abs_down deformation already loaded.\n",
      "Central bounds for nplm with power_abs_down deformation already loaded.\n",
      "Lower bounds for nplm with power_abs_down deformation already loaded.\n",
      "Upper bounds for nplm with random_normal deformation already loaded.\n",
      "Central bounds for nplm with random_normal deformation already loaded.\n",
      "Lower bounds for nplm with random_normal deformation already loaded.\n",
      "Upper bounds for nplm with random_uniform deformation already loaded.\n",
      "Central bounds for nplm with random_uniform deformation already loaded.\n",
      "Lower bounds for nplm with random_uniform deformation already loaded.\n",
      "dict_keys(['nplm_mean_upper_2024-12-17T23:10:18.380598', 'nplm_mean_central_2024-12-18T05:34:45.364402', 'nplm_mean_lower_2024-12-18T08:24:15.016876', 'nplm_cov_diag_upper_2024-12-18T15:21:48.318882', 'nplm_cov_diag_central_2024-12-19T00:26:14.275100', 'nplm_cov_diag_lower_2024-12-19T03:02:15.527362', 'nplm_cov_off_diag_upper_2024-12-19T05:38:32.038526', 'nplm_cov_off_diag_central_2024-12-19T10:33:06.486580', 'nplm_cov_off_diag_lower_2024-12-19T13:13:55.830003', 'nplm_power_abs_up_upper_2024-12-19T15:53:08.241599', 'nplm_power_abs_up_central_2024-12-19T20:27:15.157354', 'nplm_power_abs_up_lower_2024-12-20T00:49:49.173226', 'nplm_power_abs_down_upper_2024-12-20T03:34:45.713009', 'nplm_power_abs_down_central_2024-12-20T07:54:40.547911', 'nplm_power_abs_down_lower_2024-12-20T10:19:11.713704', 'nplm_random_normal_upper_2024-12-20T12:54:13.634470', 'nplm_random_normal_central_2024-12-20T16:31:54.610774', 'nplm_random_normal_lower_2024-12-20T18:44:00.302278', 'nplm_random_uniform_upper_2024-12-20T21:15:58.757177', 'nplm_random_uniform_central_2024-12-21T01:28:30.717524', 'nplm_random_uniform_lower_2024-12-21T03:54:04.706792'])\n"
     ]
    }
   ],
   "source": [
    "deformations = [\"mean\", \"cov_diag\", \"cov_off_diag\", \"power_abs_up\", \"power_abs_down\", \"random_normal\", \"random_uniform\"]\n",
    "bounds = [\"upper\", \"central\", \"lower\"]\n",
    "global_results = {}\n",
    "\n",
    "for deformation in deformations:\n",
    "    eps_max = 1  # Default starting value\n",
    "    for bound in bounds:\n",
    "        try:\n",
    "            # Filter results for the current deformation and bound\n",
    "            result = {\n",
    "                k: v for k, v in existing_data.items()\n",
    "                if v[\"null_config\"][\"name\"] == nplm_config[\"name\"]\n",
    "                and v[\"deformation\"] == deformation\n",
    "                and v[\"bound\"] == bound\n",
    "            }\n",
    "        except Exception:\n",
    "            result = {}\n",
    "\n",
    "        if result:\n",
    "            print(f\"{bound.capitalize()} bounds for {nplm_config['name']} with {deformation} deformation already loaded.\")\n",
    "            # Update eps_max to the last computed epsilon in the exclusion list\n",
    "            last_result = list(result.values())[0]\n",
    "            if last_result[\"exclusion_list\"]:\n",
    "                eps_max = last_result[\"exclusion_list\"][-1][3]  # Last epsilon value\n",
    "        else:\n",
    "            print(f\"Computing {bound} bounds for {nplm_config['name']} with {deformation} deformation.\")\n",
    "            result = compute_exclusion_bisection_dataset_np(\n",
    "                dataset = dataset,\n",
    "                metric_config=nplm_config,\n",
    "                test_kwargs=test_kwargs,\n",
    "                model_dir=model_dir,\n",
    "                deformation=deformation,\n",
    "                seed_dist=0,\n",
    "                x_tol=0.01,\n",
    "                fn_tol=0.05,\n",
    "                bound=bound,\n",
    "                eps_min=0.0,\n",
    "                eps_max=eps_max,\n",
    "                smear = 0.,\n",
    "                max_iterations=50,\n",
    "                save=True,\n",
    "                filename=f\"exclusion_limits_M_{m_value}_lam_{lam_value}.json\",\n",
    "                verbose=True\n",
    "            )\n",
    "            eps_max = list(result.values())[0][\"exclusion_list\"][-1][3]  # Update eps_max\n",
    "        global_results.update(result)\n",
    "\n",
    "print(global_results.keys())"
   ]
  },
  {
   "cell_type": "markdown",
   "metadata": {},
   "source": [
    "## Show and save results"
   ]
  },
  {
   "cell_type": "code",
   "execution_count": 22,
   "metadata": {},
   "outputs": [],
   "source": [
    "import notebooks.shared as shared"
   ]
  },
  {
   "cell_type": "code",
   "execution_count": 23,
   "metadata": {},
   "outputs": [
    {
     "name": "stdout",
     "output_type": "stream",
     "text": [
      "Metric: nplm\n",
      "Metric: nplm\n",
      "Metric: nplm\n",
      "Metric: nplm\n",
      "Metric: nplm\n",
      "Metric: nplm\n",
      "Metric: nplm\n",
      "Metric: nplm\n",
      "Metric: nplm\n",
      "Metric: nplm\n",
      "Metric: nplm\n",
      "Metric: nplm\n",
      "Metric: nplm\n",
      "Metric: nplm\n",
      "Metric: nplm\n",
      "Metric: nplm\n",
      "Metric: nplm\n",
      "Metric: nplm\n",
      "Metric: nplm\n",
      "Metric: nplm\n",
      "Metric: nplm\n"
     ]
    }
   ],
   "source": [
    "results_df, times_df = shared.generate_result_dataframe_nplm(global_results, null_times)"
   ]
  },
  {
   "cell_type": "code",
   "execution_count": null,
   "metadata": {},
   "outputs": [
    {
     "data": {
      "text/html": [
       "<div>\n",
       "<style scoped>\n",
       "    .dataframe tbody tr th:only-of-type {\n",
       "        vertical-align: middle;\n",
       "    }\n",
       "\n",
       "    .dataframe tbody tr th {\n",
       "        vertical-align: top;\n",
       "    }\n",
       "\n",
       "    .dataframe thead th {\n",
       "        text-align: right;\n",
       "    }\n",
       "</style>\n",
       "<table border=\"1\" class=\"dataframe\">\n",
       "  <thead>\n",
       "    <tr style=\"text-align: right;\">\n",
       "      <th></th>\n",
       "      <th>Statistic</th>\n",
       "      <th>$\\epsilon^{\\mu}_{95\\%\\mathrm{CL}}$</th>\n",
       "      <th>$\\epsilon^{\\mu}_{99\\%\\mathrm{CL}}$</th>\n",
       "      <th>$t^{\\mu}$ (s)</th>\n",
       "    </tr>\n",
       "  </thead>\n",
       "  <tbody>\n",
       "    <tr>\n",
       "      <th>2</th>\n",
       "      <td>NaN</td>\n",
       "      <td>$0.00147_{-0.00056}^{+0.00046}$</td>\n",
       "      <td>$0.00182_{-0.00038}^{+0.00033}$</td>\n",
       "      <td>$45154$</td>\n",
       "    </tr>\n",
       "  </tbody>\n",
       "</table>\n",
       "</div>"
      ],
      "text/plain": [
       "  Statistic $\\epsilon^{\\mu}_{95\\%\\mathrm{CL}}$  \\\n",
       "2       NaN    $0.00147_{-0.00056}^{+0.00046}$   \n",
       "\n",
       "  $\\epsilon^{\\mu}_{99\\%\\mathrm{CL}}$ $t^{\\mu}$ (s)  \n",
       "2    $0.00182_{-0.00038}^{+0.00033}$       $45154$  "
      ]
     },
     "metadata": {},
     "output_type": "display_data"
    },
    {
     "data": {
      "text/html": [
       "<div>\n",
       "<style scoped>\n",
       "    .dataframe tbody tr th:only-of-type {\n",
       "        vertical-align: middle;\n",
       "    }\n",
       "\n",
       "    .dataframe tbody tr th {\n",
       "        vertical-align: top;\n",
       "    }\n",
       "\n",
       "    .dataframe thead th {\n",
       "        text-align: right;\n",
       "    }\n",
       "</style>\n",
       "<table border=\"1\" class=\"dataframe\">\n",
       "  <thead>\n",
       "    <tr style=\"text-align: right;\">\n",
       "      <th></th>\n",
       "      <th>Statistic</th>\n",
       "      <th>$\\epsilon^{\\Sigma_{ii}}_{95\\%\\mathrm{CL}}$</th>\n",
       "      <th>$\\epsilon^{\\Sigma_{ii}}_{99\\%\\mathrm{CL}}$</th>\n",
       "      <th>$t^{\\Sigma_{ii}}$ (s)</th>\n",
       "    </tr>\n",
       "  </thead>\n",
       "  <tbody>\n",
       "    <tr>\n",
       "      <th>0</th>\n",
       "      <td>NaN</td>\n",
       "      <td>$0.00762_{-0.0025}^{+0.0025}$</td>\n",
       "      <td>$0.00939_{-0.002}^{+0.0022}$</td>\n",
       "      <td>$38293$</td>\n",
       "    </tr>\n",
       "  </tbody>\n",
       "</table>\n",
       "</div>"
      ],
      "text/plain": [
       "  Statistic $\\epsilon^{\\Sigma_{ii}}_{95\\%\\mathrm{CL}}$  \\\n",
       "0       NaN              $0.00762_{-0.0025}^{+0.0025}$   \n",
       "\n",
       "  $\\epsilon^{\\Sigma_{ii}}_{99\\%\\mathrm{CL}}$ $t^{\\Sigma_{ii}}$ (s)  \n",
       "0               $0.00939_{-0.002}^{+0.0022}$               $38293$  "
      ]
     },
     "metadata": {},
     "output_type": "display_data"
    },
    {
     "data": {
      "text/html": [
       "<div>\n",
       "<style scoped>\n",
       "    .dataframe tbody tr th:only-of-type {\n",
       "        vertical-align: middle;\n",
       "    }\n",
       "\n",
       "    .dataframe tbody tr th {\n",
       "        vertical-align: top;\n",
       "    }\n",
       "\n",
       "    .dataframe thead th {\n",
       "        text-align: right;\n",
       "    }\n",
       "</style>\n",
       "<table border=\"1\" class=\"dataframe\">\n",
       "  <thead>\n",
       "    <tr style=\"text-align: right;\">\n",
       "      <th></th>\n",
       "      <th>Statistic</th>\n",
       "      <th>$\\epsilon^{\\Sigma_{i\\neq j}}_{95\\%\\mathrm{CL}}$</th>\n",
       "      <th>$\\epsilon^{\\Sigma_{i\\neq j}}_{99\\%\\mathrm{CL}}$</th>\n",
       "      <th>$t^{\\Sigma_{i\\neq j}}$ (s)</th>\n",
       "    </tr>\n",
       "  </thead>\n",
       "  <tbody>\n",
       "    <tr>\n",
       "      <th>1</th>\n",
       "      <td>NaN</td>\n",
       "      <td>$0.01213_{-0.0045}^{+0.0038}$</td>\n",
       "      <td>$0.01536_{-0.0033}^{+0.0024}$</td>\n",
       "      <td>$36876$</td>\n",
       "    </tr>\n",
       "  </tbody>\n",
       "</table>\n",
       "</div>"
      ],
      "text/plain": [
       "  Statistic $\\epsilon^{\\Sigma_{i\\neq j}}_{95\\%\\mathrm{CL}}$  \\\n",
       "1       NaN                   $0.01213_{-0.0045}^{+0.0038}$   \n",
       "\n",
       "  $\\epsilon^{\\Sigma_{i\\neq j}}_{99\\%\\mathrm{CL}}$ $t^{\\Sigma_{i\\neq j}}$ (s)  \n",
       "1                   $0.01536_{-0.0033}^{+0.0024}$                    $36876$  "
      ]
     },
     "metadata": {},
     "output_type": "display_data"
    },
    {
     "data": {
      "text/html": [
       "<div>\n",
       "<style scoped>\n",
       "    .dataframe tbody tr th:only-of-type {\n",
       "        vertical-align: middle;\n",
       "    }\n",
       "\n",
       "    .dataframe tbody tr th {\n",
       "        vertical-align: top;\n",
       "    }\n",
       "\n",
       "    .dataframe thead th {\n",
       "        text-align: right;\n",
       "    }\n",
       "</style>\n",
       "<table border=\"1\" class=\"dataframe\">\n",
       "  <thead>\n",
       "    <tr style=\"text-align: right;\">\n",
       "      <th></th>\n",
       "      <th>Statistic</th>\n",
       "      <th>$\\epsilon^{\\rm{pow}_{+}}_{95\\%\\mathrm{CL}}$</th>\n",
       "      <th>$\\epsilon^{\\rm{pow}_{+}}_{99\\%\\mathrm{CL}}$</th>\n",
       "      <th>$t^{\\rm{pow}_{+}}$ (s)</th>\n",
       "    </tr>\n",
       "  </thead>\n",
       "  <tbody>\n",
       "    <tr>\n",
       "      <th>4</th>\n",
       "      <td>NaN</td>\n",
       "      <td>$0.01956_{-0.0088}^{+0.0048}$</td>\n",
       "      <td>$0.02471_{-0.0069}^{+0.005}$</td>\n",
       "      <td>$35571$</td>\n",
       "    </tr>\n",
       "  </tbody>\n",
       "</table>\n",
       "</div>"
      ],
      "text/plain": [
       "  Statistic $\\epsilon^{\\rm{pow}_{+}}_{95\\%\\mathrm{CL}}$  \\\n",
       "4       NaN               $0.01956_{-0.0088}^{+0.0048}$   \n",
       "\n",
       "  $\\epsilon^{\\rm{pow}_{+}}_{99\\%\\mathrm{CL}}$ $t^{\\rm{pow}_{+}}$ (s)  \n",
       "4                $0.02471_{-0.0069}^{+0.005}$                $35571$  "
      ]
     },
     "metadata": {},
     "output_type": "display_data"
    },
    {
     "data": {
      "text/html": [
       "<div>\n",
       "<style scoped>\n",
       "    .dataframe tbody tr th:only-of-type {\n",
       "        vertical-align: middle;\n",
       "    }\n",
       "\n",
       "    .dataframe tbody tr th {\n",
       "        vertical-align: top;\n",
       "    }\n",
       "\n",
       "    .dataframe thead th {\n",
       "        text-align: right;\n",
       "    }\n",
       "</style>\n",
       "<table border=\"1\" class=\"dataframe\">\n",
       "  <thead>\n",
       "    <tr style=\"text-align: right;\">\n",
       "      <th></th>\n",
       "      <th>Statistic</th>\n",
       "      <th>$\\epsilon^{\\rm{pow}_{-}}_{95\\%\\mathrm{CL}}$</th>\n",
       "      <th>$\\epsilon^{\\rm{pow}_{-}}_{99\\%\\mathrm{CL}}$</th>\n",
       "      <th>$t^{\\rm{pow}_{-}}$ (s)</th>\n",
       "    </tr>\n",
       "  </thead>\n",
       "  <tbody>\n",
       "    <tr>\n",
       "      <th>3</th>\n",
       "      <td>NaN</td>\n",
       "      <td>$0.03218_{-0.0089}^{+0.0063}$</td>\n",
       "      <td>$0.03765_{-0.0066}^{+0.0051}$</td>\n",
       "      <td>$33567$</td>\n",
       "    </tr>\n",
       "  </tbody>\n",
       "</table>\n",
       "</div>"
      ],
      "text/plain": [
       "  Statistic $\\epsilon^{\\rm{pow}_{-}}_{95\\%\\mathrm{CL}}$  \\\n",
       "3       NaN               $0.03218_{-0.0089}^{+0.0063}$   \n",
       "\n",
       "  $\\epsilon^{\\rm{pow}_{-}}_{99\\%\\mathrm{CL}}$ $t^{\\rm{pow}_{-}}$ (s)  \n",
       "3               $0.03765_{-0.0066}^{+0.0051}$                $33567$  "
      ]
     },
     "metadata": {},
     "output_type": "display_data"
    },
    {
     "data": {
      "text/html": [
       "<div>\n",
       "<style scoped>\n",
       "    .dataframe tbody tr th:only-of-type {\n",
       "        vertical-align: middle;\n",
       "    }\n",
       "\n",
       "    .dataframe tbody tr th {\n",
       "        vertical-align: top;\n",
       "    }\n",
       "\n",
       "    .dataframe thead th {\n",
       "        text-align: right;\n",
       "    }\n",
       "</style>\n",
       "<table border=\"1\" class=\"dataframe\">\n",
       "  <thead>\n",
       "    <tr style=\"text-align: right;\">\n",
       "      <th></th>\n",
       "      <th>Statistic</th>\n",
       "      <th>$\\epsilon^{\\mathcal{N}}_{95\\%\\mathrm{CL}}$</th>\n",
       "      <th>$\\epsilon^{\\mathcal{N}}_{99\\%\\mathrm{CL}}$</th>\n",
       "      <th>$t^{\\mathcal{N}}$ (s)</th>\n",
       "    </tr>\n",
       "  </thead>\n",
       "  <tbody>\n",
       "    <tr>\n",
       "      <th>5</th>\n",
       "      <td>NaN</td>\n",
       "      <td>$0.09864_{-0.023}^{+0.015}$</td>\n",
       "      <td>$0.11287_{-0.015}^{+0.0091}$</td>\n",
       "      <td>$30105$</td>\n",
       "    </tr>\n",
       "  </tbody>\n",
       "</table>\n",
       "</div>"
      ],
      "text/plain": [
       "  Statistic $\\epsilon^{\\mathcal{N}}_{95\\%\\mathrm{CL}}$  \\\n",
       "5       NaN                $0.09864_{-0.023}^{+0.015}$   \n",
       "\n",
       "  $\\epsilon^{\\mathcal{N}}_{99\\%\\mathrm{CL}}$ $t^{\\mathcal{N}}$ (s)  \n",
       "5               $0.11287_{-0.015}^{+0.0091}$               $30105$  "
      ]
     },
     "metadata": {},
     "output_type": "display_data"
    },
    {
     "data": {
      "text/html": [
       "<div>\n",
       "<style scoped>\n",
       "    .dataframe tbody tr th:only-of-type {\n",
       "        vertical-align: middle;\n",
       "    }\n",
       "\n",
       "    .dataframe tbody tr th {\n",
       "        vertical-align: top;\n",
       "    }\n",
       "\n",
       "    .dataframe thead th {\n",
       "        text-align: right;\n",
       "    }\n",
       "</style>\n",
       "<table border=\"1\" class=\"dataframe\">\n",
       "  <thead>\n",
       "    <tr style=\"text-align: right;\">\n",
       "      <th></th>\n",
       "      <th>Statistic</th>\n",
       "      <th>$\\epsilon^{\\mathcal{U}}_{95\\%\\mathrm{CL}}$</th>\n",
       "      <th>$\\epsilon^{\\mathcal{U}}_{99\\%\\mathrm{CL}}$</th>\n",
       "      <th>$t^{\\mathcal{U}}$ (s)</th>\n",
       "    </tr>\n",
       "  </thead>\n",
       "  <tbody>\n",
       "    <tr>\n",
       "      <th>6</th>\n",
       "      <td>NaN</td>\n",
       "      <td>$0.16951_{-0.038}^{+0.027}$</td>\n",
       "      <td>$0.19396_{-0.027}^{+0.016}$</td>\n",
       "      <td>$29804$</td>\n",
       "    </tr>\n",
       "  </tbody>\n",
       "</table>\n",
       "</div>"
      ],
      "text/plain": [
       "  Statistic $\\epsilon^{\\mathcal{U}}_{95\\%\\mathrm{CL}}$  \\\n",
       "6       NaN                $0.16951_{-0.038}^{+0.027}$   \n",
       "\n",
       "  $\\epsilon^{\\mathcal{U}}_{99\\%\\mathrm{CL}}$ $t^{\\mathcal{U}}$ (s)  \n",
       "6                $0.19396_{-0.027}^{+0.016}$               $29804$  "
      ]
     },
     "metadata": {},
     "output_type": "display_data"
    }
   ],
   "source": [
    "results_df_mean, results_df_cov_diag, results_df_cov_off_diag, results_df_power_abs_up, results_df_power_abs_down, results_df_random_normal, results_df_random_uniform = shared.get_individual_dfs(results_df, show = True)"
   ]
  },
  {
   "cell_type": "markdown",
   "metadata": {},
   "source": [
    "### Latex"
   ]
  },
  {
   "cell_type": "code",
   "execution_count": 25,
   "metadata": {},
   "outputs": [
    {
     "name": "stdout",
     "output_type": "stream",
     "text": [
      "\\begin{tabular}{l|llr|llr}\n",
      "\t\\toprule\n",
      "\t\\multicolumn{7}{c}{{\\bf Scaled Particle features with $\\mathbf{n=m=5\\cdot 10^{4}}$}} \\\\\n",
      "\t\\toprule\n",
      "\t\\multicolumn{1}{c}{} & \\multicolumn{3}{c}{$\\mu$-deformation} & \\multicolumn{3}{c}{$\\Sigma_{ii}$-deformation} \\\\\n",
      "\tStatistic & $\\epsilon_{95\\%\\mathrm{CL}}$ & $\\epsilon_{99\\%\\mathrm{CL}}$ & $t$ (s) & $\\epsilon_{95\\%\\mathrm{CL}}$ & $\\epsilon_{99\\%\\mathrm{CL}}$ & $t$ (s) \\\\\n",
      "\t\\midrule\n",
      "\t$t_{\\mathrm{NPLM}}$ & $0.00147_{-0.00056}^{+0.00046}$ & $0.00182_{-0.00038}^{+0.00033}$ & $45154$ & $0.00762_{-0.0025}^{+0.0025}$ & $0.00939_{-0.002}^{+0.0022}$ & $38293$ \\\\\n",
      "\t\\toprule\n",
      "\t\\multicolumn{1}{c}{} & \\multicolumn{3}{c}{$\\Sigma_{i\\neq j}$-deformation} & \\multicolumn{3}{c}{$\\rm{pow}_{+}$-deformation} \\\\\n",
      "\tStatistic & $\\epsilon_{95\\%\\mathrm{CL}}$ & $\\epsilon_{99\\%\\mathrm{CL}}$ & $t$ (s) & $\\epsilon_{95\\%\\mathrm{CL}}$ & $\\epsilon_{99\\%\\mathrm{CL}}$ & $t$ (s) \\\\\n",
      "\t\\midrule\n",
      "\t$t_{\\mathrm{NPLM}}$ & $0.01213_{-0.0045}^{+0.0038}$ & $0.01536_{-0.0033}^{+0.0024}$ & $36876$ & $0.01956_{-0.0088}^{+0.0048}$ & $0.02471_{-0.0069}^{+0.005}$ & $35571$ \\\\\n",
      "\t\\toprule\n",
      "\t\\multicolumn{1}{c}{} & \\multicolumn{3}{c}{$\\rm{pow}_{-}$-deformation} & \\multicolumn{3}{c}{$\\mathcal{N}$-deformation} \\\\\n",
      "\tStatistic & $\\epsilon_{95\\%\\mathrm{CL}}$ & $\\epsilon_{99\\%\\mathrm{CL}}$ & $t$ (s) & $\\epsilon_{95\\%\\mathrm{CL}}$ & $\\epsilon_{99\\%\\mathrm{CL}}$ & $t$ (s) \\\\\n",
      "\t\\midrule\n",
      "\t$t_{\\mathrm{NPLM}}$ & $0.03218_{-0.0089}^{+0.0063}$ & $0.03765_{-0.0066}^{+0.0051}$ & $33567$ & $0.09864_{-0.023}^{+0.015}$ & $0.11287_{-0.015}^{+0.0091}$ & $30105$ \\\\\n",
      "\t\\toprule\n",
      "\t\\multicolumn{1}{c}{} & \\multicolumn{3}{c}{$\\mathcal{U}$-deformation} & \\multicolumn{3}{c}{Timing} \\\\\n",
      "\tStatistic & $\\epsilon_{95\\%\\mathrm{CL}}$ & $\\epsilon_{99\\%\\mathrm{CL}}$ & $t$ (s) & $t^{\\mathrm{null}}$ (s) \\\\\n",
      "\t\\midrule\n",
      "\t$t_{\\mathrm{NPLM}}$ & $0.16951_{-0.038}^{+0.027}$ & $0.19396_{-0.027}^{+0.016}$ & $29804$ & $7280$ \\\\\n",
      "\t\\bottomrule\n",
      "\\end{tabular}\n"
     ]
    },
    {
     "name": "stderr",
     "output_type": "stream",
     "text": [
      "/leonardo_scratch/fast/INF24_pmlhep_1/sgrossi0/projects/TwoSampleTest/NPLM_JetNetMetrics/notebooks/shared.py:554: FutureWarning: The behavior of Series.replace (and DataFrame.replace) with CategoricalDtype is deprecated. In a future version, replace will only be used for cases that preserve the categories. To change the categories, use ser.cat.rename_categories instead.\n",
      "  return df.replace(column_replacements)\n"
     ]
    }
   ],
   "source": [
    "#tex_string = shared.generate_result_latex_wide(results_df, times_df, nstring = \"10^{4}\")\n",
    "tex_string = shared.generate_result_latex_nplm(results_df, times_df, title = \"{\\\\bf Scaled Particle features with $\\\\mathbf{n=m=5\\cdot 10^{4}}$}\")\n",
    "print(tex_string)"
   ]
  },
  {
   "cell_type": "code",
   "execution_count": 26,
   "metadata": {},
   "outputs": [
    {
     "name": "stdout",
     "output_type": "stream",
     "text": [
      "LaTeX table code has been written to results/particle_features_30/tests/50K_preprocessed/results_table_M_16000_lam_1e-05.tex\n"
     ]
    }
   ],
   "source": [
    "shared.save_latex_nplm(tex_string, model_dir, f\"results_table_M_{m_value}_lam_{lam_value}.tex\")"
   ]
  },
  {
   "cell_type": "code",
   "execution_count": 27,
   "metadata": {},
   "outputs": [
    {
     "name": "stdout",
     "output_type": "stream",
     "text": [
      "\\begin{tabular}{l|llr|llr}\n",
      "\t\\toprule\n",
      "\t\\multicolumn{7}{c}{{\\bf Scaled Particle features with $\\mathbf{n=m=5\\cdot 10^{4}}$}} \\\\\n",
      "\t\\toprule\n",
      "\t\\multicolumn{1}{c}{} & \\multicolumn{3}{c}{$\\mu$-deformation} & \\multicolumn{3}{c}{$\\Sigma_{ii}$-deformation} \\\\\n",
      "\tStatistic & $\\epsilon_{95\\%\\mathrm{CL}}$ & $\\epsilon_{99\\%\\mathrm    {CL}}$ & $t$ (s) & $\\epsilon_{95\\%\\mathrm{CL}}$ & $\\epsilon_{99\\%\\mathrm{CL}}$ & $t$ (s) \\\\\n",
      "\t\\midrule\n",
      "\t$t_{\\mathrm{SW}}$ & $0.01334_{-0.0046}^{+0.0038}$ & $0.01815_{-0.0029}^{+0.0037}$ & ${\\mathbf{1116}}$ & $0.0166_{-0.0063}^{+0.0059}$ & $0.02125_{-0.0034}^{+0.006}$ & ${\\mathbf{1079}}$ \\\\\n",
      "\t$t_{\\overline{\\mathrm{KS}}}$ & ${\\mathbf{0.0_{-0}^{+0.0045}}}$ & ${\\mathbf{0.00771_{-0.0049}^{+0.0022}}}$ & $58835$ & ${\\mathbf{0.0_{-0}^{+0.013}}}$ & $0.01904_{-0.011}^{+0.0086}$ & $62555$ \\\\\n",
      "\t$t_{\\mathrm{SKS}}$ & $0.01275_{-0.0043}^{+0.0034}$ & $0.01734_{-0.0028}^{+0.0036}$ & $18356$ & $0.02131_{-0.0073}^{+0.007}$ & $0.02899_{-0.0047}^{+0.006}$ & $26542$ \\\\\n",
      "\t$t_{\\mathrm{FGD}}$ & $0.01627_{-0.006}^{+0.003}$ & $0.02025_{-0.0047}^{+0.0024}$ & $39057$ & $0.01469_{-0.0057}^{+0.0034}$ & ${\\mathbf{0.01805_{-0.0051}^{+0.0043}}}$ & $27175$ \\\\\n",
      "\t$t_{\\mathrm{MMD}}$ & $0.01613_{-0.0058}^{+0.0049}$ & $0.02141_{-0.0035}^{+0.0032}$ & $22841$ & $0.01606_{-0.0066}^{+0.0074}$ & $0.02089_{-0.0061}^{+0.0055}$ & $33730$ \\\\\n",
      "\\rowcolor{red!35}\t$t_{\\mathrm{NPLM}}$ & $0.00152_{-0.00068}^{+0.00041}$ & $0.00167_{-0.00046}^{+0.00045}$ & $64992$ & $0.00426_{-0.0017}^{+0.0014}$ & $0.00471_{-0.0011}^{+0.00092}$ & $27852$ \\\\\n",
      "\\rowcolor{blue!35}\t$t_{\\mathrm{NPLM}}$ & $0.00147_{-0.00056}^{+0.00046}$ & $0.00182_{-0.00038}^{+0.00033}$ & $45154$ & $0.00762_{-0.0025}^{+0.0025}$ & $0.00939_{-0.002}^{+0.0022}$ & $38293$ \\\\\n",
      "\t\\toprule\n",
      "\t\\multicolumn{1}{c}{} & \\multicolumn{3}{c}{$\\Sigma_{i\\neq j}$-deformation} & \\multicolumn{3}{c}{$\\rm{pow}_{+}$-deformation} \\\\\n",
      "Statistic & $\\epsilon_{95\\%\\mathrm{CL}}$ & $\\epsilon_{99\\%\\mathrm{CL}}$ & $t$ (s) & $\\epsilon_{95\\%\\mathrm{CL}}$ & $\\epsilon_{99\\%\\mathrm{CL}}$ & $t$ (s) \\\\\n",
      "\t\\midrule\n",
      "\t$t_{\\mathrm{SW}}$ & $0.03128_{-0.011}^{+0.0068}$ & $0.04152_{-0.0067}^{+0.0061}$ & ${\\mathbf{1424}}$ & $0.01894_{-0.0072}^{+0.0055}$ & $0.02425_{-0.0039}^{+0.0068}$ & ${\\mathbf{1006}}$ \\\\\n",
      "\t$t_{\\overline{\\mathrm{KS}}}$ & $0.99134_{-0.0078}^{+0.016}$ & $1.01532_{-0.004}^{+0.008}$ & $11987$ & ${\\mathbf{0.0_{-0}^{+0.0066}}}$ & ${\\mathbf{0.01141_{-0.011}^{+0.0073}}}$ & $49091$ \\\\\n",
      "\t$t_{\\mathrm{SKS}}$ & $0.03809_{-0.013}^{+0.011}$ & $0.0515_{-0.0083}^{+0.011}$ & $27313$ & $0.03552_{-0.013}^{+0.0055}$ & $0.04366_{-0.0066}^{+0.01}$ & $15487$ \\\\\n",
      "\t$t_{\\mathrm{FGD}}$ & ${\\mathbf{0.0026_{-0.00089}^{+0.00076}}}$ & ${\\mathbf{0.00345_{-0.00076}^{+0.00052}}}$ & $33338$ & $0.01534_{-0.0062}^{+0.0052}$ & $0.01886_{-0.0055}^{+0.0045}$ & $24241$ \\\\\n",
      "\t$t_{\\mathrm{MMD}}$ & $0.01919_{-0.0079}^{+0.011}$ & $0.02614_{-0.0065}^{+0.0089}$ & $20604$ & $0.01896_{-0.008}^{+0.0074}$ & $0.02428_{-0.0071}^{+0.0068}$ & $27198$ \\\\\n",
      "\\rowcolor{red!35}\t$t_{\\mathrm{NPLM}}$ & $0.00906_{-0.0035}^{+0.0021}$ & $0.01018_{-0.0023}^{+0.0019}$ & $54091$ & $0.01792_{-0.0086}^{+0.0064}$ & $0.02055_{-0.0056}^{+0.0056}$ & $37834$ \\\\\n",
      "\\rowcolor{blue!35}\t$t_{\\mathrm{NPLM}}$ & $0.01213_{-0.0045}^{+0.0038}$ & $0.01536_{-0.0033}^{+0.0024}$ & $36876$ & $0.01956_{-0.0088}^{+0.0048}$ & $0.02471_{-0.0069}^{+0.005}$ & $35571$ \\\\\n",
      "\t\\toprule\n",
      "\t\\multicolumn{1}{c}{} & \\multicolumn{3}{c}{$\\rm{pow}_{-}$-deformation} & \\multicolumn{3}{c}{$\\mathcal{N}$-deformation} \\\\\n",
      "Statistic & $\\epsilon_{95\\%\\mathrm{CL}}$ & $\\epsilon_{99\\%\\mathrm{CL}}$ & $t$ (s) & $\\epsilon_{95\\%\\mathrm{CL}}$ & $\\epsilon_{99\\%\\mathrm{CL}}$ & $t$ (s) \\\\\n",
      "\t\\midrule\n",
      "\t$t_{\\mathrm{SW}}$ & $0.01909_{-0.0077}^{+0.0073}$ & $0.02693_{-0.0068}^{+0.0061}$ & ${\\mathbf{1006}}$ & $0.10868_{-0.017}^{+0.02}$ & $0.1277_{-0.022}^{+0.011}$ & ${\\mathbf{886}}$ \\\\\n",
      "\t$t_{\\overline{\\mathrm{KS}}}$ & ${\\mathbf{0.0_{-0}^{+0.0095}}}$ & ${\\mathbf{0.01323_{-0.0085}^{+0.0069}}}$ & $45323$ & $0.0656_{-0.049}^{+0.016}$ & $0.08707_{-0.019}^{+0.013}$ & $22186$ \\\\\n",
      "\t$t_{\\mathrm{SKS}}$ & $0.0356_{-0.013}^{+0.0093}$ & $0.04726_{-0.011}^{+0.007}$ & $22261$ & $0.10733_{-0.017}^{+0.022}$ & $0.13357_{-0.026}^{+0.016}$ & $24344$ \\\\\n",
      "\t$t_{\\mathrm{FGD}}$ & $0.01543_{-0.0065}^{+0.007}$ & $0.01852_{-0.0042}^{+0.0068}$ & $24968$ & ${\\mathbf{0.04853_{-0.0075}^{+0.0071}}}$ & ${\\mathbf{0.05702_{-0.006}^{+0.0051}}}$ & $24273$ \\\\\n",
      "\t$t_{\\mathrm{MMD}}$ & $0.01859_{-0.0081}^{+0.0085}$ & $0.02501_{-0.0064}^{+0.0083}$ & $27960$ & $0.26953_{-0.052}^{+0.035}$ & $0.30333_{-0.011}^{+0.029}$ & $19782$ \\\\\n",
      "\\rowcolor{red!35}\t$t_{\\mathrm{NPLM}}$ & $0.03192_{-0.0064}^{+0.0075}$ & $0.03387_{-0.007}^{+0.0064}$ & $29245$ & $0.08993_{-0.016}^{+0.012}$ & $0.098_{-0.012}^{+0.0071}$ & $27364$ \\\\\n",
      "\\rowcolor{blue!35}\t$t_{\\mathrm{NPLM}}$ & $0.03218_{-0.0089}^{+0.0063}$ & $0.03765_{-0.0066}^{+0.0051}$ & $33567$ & $0.09864_{-0.023}^{+0.015}$ & $0.11287_{-0.015}^{+0.0091}$ & $30105$ \\\\\n",
      "\t\\toprule\n",
      "\t\\multicolumn{1}{c}{} & \\multicolumn{3}{c}{$\\mathcal{U}$-deformation} & \\multicolumn{3}{c}{Timing} \\\\\n",
      "Statistic & $\\epsilon_{95\\%\\mathrm{CL}}$ & $\\epsilon_{99\\%\\mathrm{CL}}$ & $t$ (s) & $t^{\\mathrm{null}}$ (s) \\\\\n",
      "\t\\midrule\n",
      "\t$t_{\\mathrm{SW}}$ & $0.19116_{-0.03}^{+0.035}$ & $0.22462_{-0.039}^{+0.02}$ & ${\\mathbf{774}}$ & ${\\mathbf{133}}$ \\\\\n",
      "\t$t_{\\overline{\\mathrm{KS}}}$ & $0.10693_{-0.086}^{+0.022}$ & $0.14193_{-0.019}^{+0.021}$ & $10646$ & $1972$ \\\\\n",
      "\t$t_{\\mathrm{SKS}}$ & $0.19116_{-0.03}^{+0.035}$ & $0.22462_{-0.039}^{+0.02}$ & $16154$ & $4379$ \\\\\n",
      "\t$t_{\\mathrm{FGD}}$ & ${\\mathbf{0.08969_{-0.016}^{+0.006}}}$ & ${\\mathbf{0.10215_{-0.016}^{+0.0042}}}$ & $21825$ & $6689$ \\\\\n",
      "\t$t_{\\mathrm{MMD}}$ & $0.48398_{-0.088}^{+0.032}$ & $0.5512_{-0.058}^{+0.022}$ & $14676$ & $3605$ \\\\\n",
      "\\rowcolor{red!35}\t$t_{\\mathrm{NPLM}}$ & $0.15699_{-0.034}^{+0.019}$ & $0.1632_{-0.02}^{+0.02}$ & $27308$ & $4569$ \\\\\n",
      "\\rowcolor{blue!35}\t$t_{\\mathrm{NPLM}}$ & $0.16951_{-0.038}^{+0.027}$ & $0.19396_{-0.027}^{+0.016}$ & $29804$ & $7280$ \\\\\n",
      "\t\\bottomrule\n",
      "\\end{tabular}\n"
     ]
    }
   ],
   "source": [
    "import re\n",
    "\n",
    "# Path to the old metrics results table\n",
    "file_path_nplm_jetnet_old = \"/leonardo_scratch/fast/INF24_pmlhep_1/sgrossi0/projects/TwoSampleTest/NPLM_JetNetMetrics/results/particle_features_30/tests/50K_preprocessed/results_table_updated.tex\"\n",
    "with open(file_path_nplm_jetnet_old, 'r') as file:\n",
    "    table_nplm_jetnet_old = file.read()\n",
    "\n",
    "\n",
    "# Extract rows containing \"$t_{\\mathrm{NPLM}}$\" and add coloring\n",
    "nplm_rows = []\n",
    "lines_nplm = tex_string.splitlines()\n",
    "for line in lines_nplm:\n",
    "    if \"$t_{\\mathrm{NPLM}}$\" in line:\n",
    "        nplm_rows.append(\"\\\\rowcolor{blue!35}\" + line)\n",
    "\n",
    "# Extract rows containing \"$t_{\\mathrm{NPLM}}$\" with red coloring from the old table\n",
    "nplm_old_rows = []\n",
    "lines_nplm_old = table_nplm_jetnet_old.splitlines()\n",
    "for line in lines_nplm_old:\n",
    "    if \"\\\\rowcolor{red!35}\t$t_{\\mathrm{NPLM}}$\" in line:\n",
    "        nplm_old_rows.append(line)\n",
    "\n",
    "# Extract rows for SW, KS, SKS, FGD, MMD, and LLR metrics\n",
    "sw_rows = []\n",
    "lines_sw = table_nplm_jetnet_old.splitlines()\n",
    "for line in lines_sw:\n",
    "    if \"$t_{\\mathrm{SW}}$\" in line:\n",
    "        sw_rows.append(line)\n",
    "\n",
    "ks_rows = []\n",
    "lines_ks = table_nplm_jetnet_old.splitlines()\n",
    "for line in lines_ks:\n",
    "    if \"$t_{\\overline{\\mathrm{KS}}}$\" in line:\n",
    "        ks_rows.append(line)\n",
    "\n",
    "sks_rows = []\n",
    "lines_sks = table_nplm_jetnet_old.splitlines()\n",
    "for line in lines_sks:\n",
    "    if \"$t_{\\mathrm{SKS}}$\" in line:\n",
    "        sks_rows.append(line)\n",
    "\n",
    "fgd_rows = []\n",
    "lines_fgd = table_nplm_jetnet_old.splitlines()\n",
    "for line in lines_fgd:\n",
    "    if \"$t_{\\mathrm{FGD}}$\" in line:\n",
    "        fgd_rows.append(line)\n",
    "\n",
    "mmd_rows = []\n",
    "lines_mmd = table_nplm_jetnet_old.splitlines()\n",
    "for line in lines_mmd:\n",
    "    if \"$t_{\\mathrm{MMD}}$\" in line:\n",
    "        mmd_rows.append(line)\n",
    "\n",
    "# Process old lines and construct the updated table\n",
    "lines_old = table_nplm_jetnet_old.splitlines()\n",
    "new_lines = []\n",
    "i = 0  # Index to track row additions\n",
    "\n",
    "for line in lines_old:\n",
    "    # Include lines unrelated to metrics\n",
    "    if (\n",
    "        \"$t_{\\\\mathrm{SW}}$\" not in line\n",
    "        and \"$t_{\\\\overline{\\\\mathrm{KS}}}$\" not in line\n",
    "        and \"$t_{\\\\mathrm{SKS}}$\" not in line\n",
    "        and \"$t_{\\\\mathrm{FGD}}$\" not in line\n",
    "        and \"$t_{\\\\mathrm{MMD}}$\" not in line\n",
    "        and \"$t_{\\\\mathrm{LLR}}$\" not in line\n",
    "        and \"\\\\rowcolor{red!35}\t$t_{\\mathrm{NPLM}}$\" not in line\n",
    "    ):\n",
    "        new_lines.append(line)\n",
    "    elif \"$t_{\\\\mathrm{SW}}$\" in line:\n",
    "        # Add SW line and append corresponding rows from other metrics\n",
    "        new_lines.append(line)\n",
    "        new_lines.append(ks_rows[i])\n",
    "        new_lines.append(sks_rows[i])\n",
    "        new_lines.append(fgd_rows[i])\n",
    "        new_lines.append(mmd_rows[i])\n",
    "        new_lines.append(nplm_old_rows[i])\n",
    "        new_lines.append(nplm_rows[i])\n",
    "        i = (i + 1) % len(nplm_rows)  # Ensure index doesn't exceed `nplm_rows` length\n",
    "    else:\n",
    "        pass\n",
    "\n",
    "# Combine lines into the updated table\n",
    "updated_table = \"\\n\".join(new_lines)\n",
    "\n",
    "# Print the updated table\n",
    "print(updated_table)\n"
   ]
  },
  {
   "cell_type": "code",
   "execution_count": 28,
   "metadata": {},
   "outputs": [
    {
     "name": "stdout",
     "output_type": "stream",
     "text": [
      "LaTeX table code has been written to results/particle_features_30/tests/50K_preprocessed/results_table_hyper_par.tex\n"
     ]
    }
   ],
   "source": [
    "shared.save_latex_nplm(updated_table, model_dir, f\"results_table_hyper_par.tex\")"
   ]
  }
 ],
 "metadata": {
  "kernelspec": {
   "display_name": "tf2_custom_torch2.2",
   "language": "python",
   "name": "python3"
  },
  "language_info": {
   "codemirror_mode": {
    "name": "ipython",
    "version": 3
   },
   "file_extension": ".py",
   "mimetype": "text/x-python",
   "name": "python",
   "nbconvert_exporter": "python",
   "pygments_lexer": "ipython3",
   "version": "3.11.6"
  }
 },
 "nbformat": 4,
 "nbformat_minor": 2
}
