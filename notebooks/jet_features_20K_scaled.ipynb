{
 "cells": [
  {
   "cell_type": "markdown",
   "metadata": {},
   "source": [
    "# Initialize"
   ]
  },
  {
   "cell_type": "code",
   "execution_count": 1,
   "metadata": {},
   "outputs": [
    {
     "name": "stdout",
     "output_type": "stream",
     "text": [
      "/leonardo_scratch/fast/INF24_pmlhep_1/sgrossi0/projects/TwoSampleTest/NPLM_JetNetMetrics\n"
     ]
    },
    {
     "name": "stderr",
     "output_type": "stream",
     "text": [
      "/leonardo_scratch/fast/INF24_pmlhep_1/envs/tf2_custom_torch2.2/lib/python3.11/site-packages/IPython/core/magics/osm.py:417: UserWarning: This is now an optional IPython functionality, setting dhist requires you to install the `pickleshare` library.\n",
      "  self.shell.db['dhist'] = compress_dhist(dhist)[-100:]\n"
     ]
    }
   ],
   "source": [
    "%cd \"/leonardo_scratch/fast/INF24_pmlhep_1/sgrossi0/projects/TwoSampleTest/NPLM_JetNetMetrics\""
   ]
  },
  {
   "cell_type": "code",
   "execution_count": 2,
   "metadata": {},
   "outputs": [
    {
     "name": "stdout",
     "output_type": "stream",
     "text": [
      "2025-01-07 12:00:02.380529: Importing os...\n",
      "2025-01-07 12:00:02.380755: Importing sys...\n",
      "Visible devices: [1]\n",
      "2025-01-07 12:00:02.380991: Importing timer from timeit...\n",
      "2025-01-07 12:00:02.381060: Setting env variables for tf import (only device(s) [1] will be available)...\n",
      "2025-01-07 12:00:02.381185: Importing numpy...\n",
      "2025-01-07 12:00:02.489713: Importing matplotlib...\n",
      "2025-01-07 12:00:02.845891: Importing h5py...\n",
      "2025-01-07 12:00:02.876229: Importing importlib.util...\n",
      "2025-01-07 12:00:02.876327: Importing json...\n",
      "2025-01-07 12:00:02.876393: Importing pandas...\n",
      "2025-01-07 12:00:03.295039: Importing random...\n",
      "2025-01-07 12:00:03.295175: Importing scipy utils...\n",
      "2025-01-07 12:00:03.755009: Importing subprocess...\n",
      "2025-01-07 12:00:03.755135: Importing textwrap...\n",
      "2025-01-07 12:00:03.755197: Importing tensorflow...\n",
      "Tensorflow version: 2.16.1\n",
      "2025-01-07 12:00:06.973831: Importing tensorflow_probability...\n",
      "Tensorflow probability version: 0.24.0\n",
      "2025-01-07 12:00:07.916732: Importing timeit...\n",
      "2025-01-07 12:00:07.916821: Importing tqdm...\n",
      "2025-01-07 12:00:07.924271: Importing typing...\n",
      "2025-01-07 12:00:07.924378: Setting tf configs...\n",
      "2025-01-07 12:00:08.012262: Importing GMetrics module...\n"
     ]
    },
    {
     "name": "stderr",
     "output_type": "stream",
     "text": [
      "/leonardo_scratch/fast/INF24_pmlhep_1/envs/tf2_custom_torch2.2/lib/python3.11/site-packages/jetnet/utils/utils.py:7: FutureWarning: In version 2024.7.0 (target date: 2024-06-30 11:59:59-05:00), this will be an error.\n",
      "To raise these warnings as errors (and get stack traces to find out where they're called), run\n",
      "    import warnings\n",
      "    warnings.filterwarnings(\"error\", module=\"coffea.*\")\n",
      "after the first `import coffea` or use `@pytest.mark.filterwarnings(\"error:::coffea.*\")` in pytest.\n",
      "Issue: coffea.nanoevents.methods.vector will be removed and replaced with scikit-hep vector. Nanoevents schemas internal to coffea will be migrated. Otherwise please consider using that package!.\n",
      "  from coffea.nanoevents.methods import vector\n"
     ]
    },
    {
     "name": "stdout",
     "output_type": "stream",
     "text": [
      "2025-01-07 12:00:13.584799: Importing jetnet.evaluation.gen_metrics module...\n",
      "Successfully loaded GPU #1, model: NVIDIA A100-SXM-64GB\n",
      "Loaded 1 GPUs: ['NVIDIA A100-SXM-64GB']\n",
      "2025-01-07 12:00:13.616288: All done.\n"
     ]
    }
   ],
   "source": [
    "visible_devices = [1]\n",
    "from datetime import datetime\n",
    "print(datetime.now().strftime(\"%Y-%m-%d %H:%M:%S.%f\")+\":\", \"Importing os...\")\n",
    "import os\n",
    "print(datetime.now().strftime(\"%Y-%m-%d %H:%M:%S.%f\")+\":\", \"Importing sys...\")\n",
    "import sys\n",
    "if not any(\"ipykernel\" in arg for arg in sys.argv):\n",
    "    print(datetime.now().strftime(\"%Y-%m-%d %H:%M:%S.%f\")+\":\", \"Importing and initializing argparse...\")\n",
    "    import argparse\n",
    "    parser = argparse.ArgumentParser()\n",
    "    parser.add_argument(\"-v\", \"--visible_devices\", help=\"Set visible devices\", nargs='*', type=list, default=visible_devices)\n",
    "    args = parser.parse_args()\n",
    "    visible_devices = args.visible_devices if args.visible_devices else visible_devices\n",
    "    if not isinstance(visible_devices, list):\n",
    "        raise ValueError(\"Visible devices must be a list of integers\")\n",
    "    for i in visible_devices:\n",
    "        if not isinstance(i, int):\n",
    "            raise ValueError(\"Visible devices must be a list of integers\")\n",
    "print(\"Visible devices:\", visible_devices)\n",
    "print(datetime.now().strftime(\"%Y-%m-%d %H:%M:%S.%f\")+\":\", \"Importing timer from timeit...\")\n",
    "from timeit import default_timer as timer\n",
    "print(datetime.now().strftime(\"%Y-%m-%d %H:%M:%S.%f\")+\":\", \"Setting env variables for tf import (only device(s)\", visible_devices, \"will be available)...\")\n",
    "os.environ[\"CUDA_VISIBLE_DEVICES\"] = ','.join([str(i) for i in visible_devices]) # type: ignore\n",
    "os.environ['TF_CPP_MIN_LOG_LEVEL'] = '2'\n",
    "#os.environ['TF_XLA_FLAGS'] = '--tf_xla_enable_xla_devices'\n",
    "#os.environ['TF_XLA_FLAGS'] = '--tf_xla_auto_jit=2'\n",
    "print(datetime.now().strftime(\"%Y-%m-%d %H:%M:%S.%f\")+\":\", \"Importing numpy...\")\n",
    "import numpy as np # type: ignore\n",
    "print(datetime.now().strftime(\"%Y-%m-%d %H:%M:%S.%f\")+\":\", \"Importing matplotlib...\")\n",
    "from matplotlib import pyplot as plt\n",
    "print(datetime.now().strftime(\"%Y-%m-%d %H:%M:%S.%f\")+\":\", \"Importing h5py...\")\n",
    "import h5py # type: ignore\n",
    "print(datetime.now().strftime(\"%Y-%m-%d %H:%M:%S.%f\")+\":\", \"Importing importlib.util...\")\n",
    "import importlib.util\n",
    "print(datetime.now().strftime(\"%Y-%m-%d %H:%M:%S.%f\")+\":\", \"Importing json...\")\n",
    "import json\n",
    "print(datetime.now().strftime(\"%Y-%m-%d %H:%M:%S.%f\")+\":\", \"Importing pandas...\")\n",
    "import pandas as pd\n",
    "print(datetime.now().strftime(\"%Y-%m-%d %H:%M:%S.%f\")+\":\", \"Importing random...\")\n",
    "import random\n",
    "print(datetime.now().strftime(\"%Y-%m-%d %H:%M:%S.%f\")+\":\", \"Importing scipy utils...\")\n",
    "from scipy.stats import norm, lognorm, chi2, kstwo, kstwobign, ks_2samp, moment\n",
    "from scipy.special import kolmogorov\n",
    "from scipy.optimize import minimize, curve_fit, root, bisect\n",
    "print(datetime.now().strftime(\"%Y-%m-%d %H:%M:%S.%f\")+\":\", \"Importing subprocess...\")\n",
    "import subprocess\n",
    "print(datetime.now().strftime(\"%Y-%m-%d %H:%M:%S.%f\")+\":\", \"Importing textwrap...\")\n",
    "import textwrap\n",
    "print(datetime.now().strftime(\"%Y-%m-%d %H:%M:%S.%f\")+\":\", \"Importing tensorflow...\")\n",
    "import tensorflow as tf # type: ignore\n",
    "print(\"Tensorflow version:\", tf.__version__)\n",
    "print(datetime.now().strftime(\"%Y-%m-%d %H:%M:%S.%f\")+\":\", \"Importing tensorflow_probability...\")\n",
    "import tensorflow_probability as tfp # type: ignore\n",
    "tfd = tfp.distributions\n",
    "print(\"Tensorflow probability version:\", tfp.__version__)\n",
    "print(datetime.now().strftime(\"%Y-%m-%d %H:%M:%S.%f\")+\":\", \"Importing timeit...\")\n",
    "from timeit import default_timer as timer\n",
    "print(datetime.now().strftime(\"%Y-%m-%d %H:%M:%S.%f\")+\":\", \"Importing tqdm...\")\n",
    "from tqdm import tqdm\n",
    "print(datetime.now().strftime(\"%Y-%m-%d %H:%M:%S.%f\")+\":\", \"Importing typing...\")\n",
    "from typing import List, Tuple, Dict, Callable, Union, Optional, Any, Type\n",
    "print(datetime.now().strftime(\"%Y-%m-%d %H:%M:%S.%f\")+\":\", \"Setting tf configs...\")\n",
    "gpu_devices = tf.config.experimental.list_physical_devices('GPU')\n",
    "for gpu_device in gpu_devices:\n",
    "    tf.config.experimental.set_memory_growth(gpu_device, True)\n",
    "\n",
    "print(datetime.now().strftime(\"%Y-%m-%d %H:%M:%S.%f\")+\":\", \"Importing GMetrics module...\")\n",
    "\n",
    "import GMetrics # type: ignore\n",
    "from GMetrics.plotters import plot_corners, cornerplotter, plot_corr_matrix, plot_corr_matrix_side_by_side # type: ignore\n",
    "from GMetrics.more.deformations import deformed_distribution, deform_mean, deform_cov_diag, deform_cov_off_diag, deform_power_abs, deform_random\n",
    "from GMetrics.more.optimizers_deformations import compute_exclusion_bisection_dataset_np # type: ignore\n",
    "from GMetrics.utils import se_mean, se_std\n",
    "from GMetrics.metrics.NPLM import candidate_sigma\n",
    "\n",
    "print(datetime.now().strftime(\"%Y-%m-%d %H:%M:%S.%f\")+\":\", \"Importing jetnet.evaluation.gen_metrics module...\")\n",
    "import jetnet\n",
    "\n",
    "def get_gpu_info():\n",
    "    try:\n",
    "        gpu_info = subprocess.check_output([\"nvidia-smi\", \"--query-gpu=gpu_name\", \"--format=csv,noheader\"]).decode('utf-8')\n",
    "        return gpu_info.strip().split('\\n')\n",
    "    except Exception as e:\n",
    "        print(e)\n",
    "        return None\n",
    "training_devices = []\n",
    "gpu_models = get_gpu_info()\n",
    "for i in visible_devices:\n",
    "    if gpu_models:\n",
    "        training_devices.append(gpu_models[i])\n",
    "        print(f\"Successfully loaded GPU #{i}, model: {gpu_models[i]}\")\n",
    "    else:\n",
    "        training_devices.append('undetermined')\n",
    "        print(f\"Failed to load GPU {i} model. Defaulting to 'undetermined'.\")\n",
    "print(f\"Loaded {len(training_devices)} GPUs: {training_devices}\")\n",
    "        \n",
    "print(datetime.now().strftime(\"%Y-%m-%d %H:%M:%S.%f\")+\":\", \"All done.\")"
   ]
  },
  {
   "cell_type": "markdown",
   "metadata": {},
   "source": [
    "# Load data"
   ]
  },
  {
   "cell_type": "code",
   "execution_count": 3,
   "metadata": {},
   "outputs": [],
   "source": [
    "data = jetnet.datasets.JetNet.getData(jet_type = \"g\",\n",
    "                                      data_dir = \"data/g\",\n",
    "                                      particle_features = \"all\",\n",
    "                                      jet_features = \"all\",\n",
    "                                      num_particles = 30,\n",
    "                                      split = \"all\",\n",
    "                                      split_fraction = None,\n",
    "                                      seed = 42,\n",
    "                                      download = False,\n",
    "                                     )"
   ]
  },
  {
   "cell_type": "code",
   "execution_count": 4,
   "metadata": {},
   "outputs": [],
   "source": [
    "def get_particle_features(relative_features,\n",
    "                          jet_features):\n",
    "    eta_rel = relative_features[:, :, 0]\n",
    "    phi_rel = relative_features[:, :, 1]\n",
    "    pt_rel = relative_features[:, :, 2]\n",
    "    mask = relative_features[:, :, 3]\n",
    "    eta_jet = jet_features[:, 2]\n",
    "    pt_jet = jet_features[:, 1]\n",
    "    eta_particle = eta_jet[:, None] + eta_rel\n",
    "    phi_paericle = phi_rel\n",
    "    pt_particle = pt_jet[:, None] * pt_rel\n",
    "    particle_features = tf.stack([eta_particle, phi_paericle, pt_particle, mask], axis = 2)\n",
    "    return particle_features"
   ]
  },
  {
   "cell_type": "code",
   "execution_count": 5,
   "metadata": {},
   "outputs": [
    {
     "name": "stdout",
     "output_type": "stream",
     "text": [
      "relative_features.shape: (177252, 30, 4)\n",
      "jet_features.shape: (177252, 5)\n",
      "particle_features.shape: (177252, 30, 4)\n"
     ]
    }
   ],
   "source": [
    "relative_features = tf.cast(data[0], tf.float64)                            #    ``[\"etarel\", \"phirel\", \"ptrel\", \"mask\"]``.\n",
    "jet_features = tf.cast(data[1], tf.float64)                                 #    ``[\"type\", \"pt\", \"eta\", \"mass\", \"num_particles\"]``.\n",
    "particle_features = get_particle_features(relative_features, jet_features)  #    ``[\"eta\", \"phi\", \"pt\", \"mask\"]``.\n",
    "print(f\"relative_features.shape: {relative_features.shape}\")\n",
    "print(f\"jet_features.shape: {jet_features.shape}\")\n",
    "print(f\"particle_features.shape: {particle_features.shape}\")"
   ]
  },
  {
   "cell_type": "markdown",
   "metadata": {},
   "source": [
    "## Init data"
   ]
  },
  {
   "cell_type": "code",
   "execution_count": 6,
   "metadata": {},
   "outputs": [
    {
     "name": "stdout",
     "output_type": "stream",
     "text": [
      "Directory alredy exists\n"
     ]
    }
   ],
   "source": [
    "results_dir = \"results/jet_features/\"\n",
    "figures_dir = os.path.join(results_dir, \"figures/\")\n",
    "if not os.path.exists(figures_dir):\n",
    "    os.makedirs(figures_dir)\n",
    "    print(\"Results directories were created\")\n",
    "else:\n",
    "    print(\"Directory alredy exists\")"
   ]
  },
  {
   "cell_type": "code",
   "execution_count": null,
   "metadata": {},
   "outputs": [
    {
     "data": {
      "text/plain": [
       "TensorShape([177252, 4])"
      ]
     },
     "execution_count": 7,
     "metadata": {},
     "output_type": "execute_result"
    }
   ],
   "source": [
    "def preprocess_data(data,means,stds):\n",
    "    preprocess_data=(data-means)/stds\n",
    "    return preprocess_data\n",
    "\n",
    "def postprocess_data(data,means,stds):\n",
    "    postprocess_data=data*stds+means\n",
    "    return postprocess_data\n",
    "\n",
    "def get_reduced_jet_features(jet_features):\n",
    "    p_T_jet = jet_features[:,1]\n",
    "    eta_jet = jet_features[:,2]\n",
    "    m_jet = jet_features[:,3]\n",
    "    m_jet_over_p_T_jet = m_jet / p_T_jet\n",
    "    return tf.stack([p_T_jet, eta_jet, m_jet, m_jet_over_p_T_jet], axis=1)\n",
    "\n",
    "jet_features_reduced = get_reduced_jet_features(jet_features)\n",
    "jet_features_reduced.shape"
   ]
  },
  {
   "cell_type": "markdown",
   "metadata": {},
   "source": [
    "# TwoSample Test"
   ]
  },
  {
   "cell_type": "code",
   "execution_count": 8,
   "metadata": {},
   "outputs": [
    {
     "name": "stdout",
     "output_type": "stream",
     "text": [
      "Directory results/jet_features/tests/20K_preprocessed/ already exists\n"
     ]
    }
   ],
   "source": [
    "tests_dir = os.path.join(results_dir, \"tests/\")\n",
    "model_dir = os.path.join(tests_dir, '20K_preprocessed/')\n",
    "if not os.path.exists(model_dir):\n",
    "    os.makedirs(model_dir)\n",
    "    print(f\"Directory {model_dir} has been created\")\n",
    "else:\n",
    "    print(f\"Directory {model_dir} already exists\")\n",
    "\n",
    "jet_features_reduced = get_reduced_jet_features(jet_features)\n",
    "\n",
    "mean = tf.reduce_mean(jet_features_reduced, axis=0)\n",
    "std = tf.math.reduce_std(jet_features_reduced, axis=0)\n",
    "    \n",
    "dataset = preprocess_data(jet_features_reduced, mean, std)"
   ]
  },
  {
   "cell_type": "markdown",
   "metadata": {},
   "source": [
    "## Bootstrapping Null Hypothesis"
   ]
  },
  {
   "cell_type": "code",
   "execution_count": 9,
   "metadata": {},
   "outputs": [],
   "source": [
    "m_value = 7000\n",
    "lam_value = 1e-8"
   ]
  },
  {
   "cell_type": "code",
   "execution_count": 10,
   "metadata": {},
   "outputs": [
    {
     "name": "stdout",
     "output_type": "stream",
     "text": [
      "Null hypothesis directory exists\n"
     ]
    }
   ],
   "source": [
    "# null_hypotheses_dir = os.path.join(model_dir, 'null_hypotheses/')\n",
    "# if not os.path.exists(null_hypotheses_dir):\n",
    "#     os.makedirs(null_hypotheses_dir)\n",
    "#     print(f\"Directory {null_hypotheses_dir} has been created\")\n",
    "# else:\n",
    "#     print(f\"Directory {null_hypotheses_dir} already exists\")\n",
    "    \n",
    "# metrics_config_file = os.path.join(model_dir, \"metrics_config.json\")\n",
    "\n",
    "null_hypotheses_dir = model_dir + f\"null_hypothesis_M_{m_value}_lam_{lam_value}/\"\n",
    "if os.path.exists(null_hypotheses_dir):\n",
    "    print(\"Null hypothesis directory exists\")\n",
    "else:\n",
    "    os.makedirs(null_hypotheses_dir)\n",
    "    print(\"Null hypothesis directory was created\")\n",
    "metrics_config_file = model_dir + f\"metrics_config_M_{m_value}_lam_{lam_value}.json\""
   ]
  },
  {
   "cell_type": "code",
   "execution_count": 11,
   "metadata": {},
   "outputs": [
    {
     "name": "stdout",
     "output_type": "stream",
     "text": [
      "niter: 4, nbootstrap: 250\n",
      "Parsing input distribution...\n"
     ]
    },
    {
     "name": "stdout",
     "output_type": "stream",
     "text": [
      "Input distribution is a numeric numpy array or tf.Tensor.\n",
      "Parsing input distribution...\n",
      "Input distribution is a numeric numpy array or tf.Tensor.\n",
      "Checking and setting numerical distributions.\n",
      "Returning dist_num.\n",
      "Returning dist_num.\n"
     ]
    }
   ],
   "source": [
    "niter_tot = 1_000\n",
    "batch_size_test = 20_000\n",
    "namples = len(dataset) // 2\n",
    "niter = namples // batch_size_test\n",
    "nbootstrap = niter_tot // niter\n",
    "niter_tot = niter * nbootstrap\n",
    "print(f\"niter: {niter}, nbootstrap: {nbootstrap}\")\n",
    "\n",
    "def shuffle_dataset(seed):\n",
    "    return tf.random.shuffle(dataset, seed=seed)\n",
    "\n",
    "start = timer()\n",
    "l = len(dataset) // 2\n",
    "dstmp = shuffle_dataset(seed = 0)\n",
    "dist_1_null = tf.cast(dstmp[:l], tf.float64)\n",
    "dist_2_null = tf.cast(dstmp[l:], tf.float64)\n",
    "del(dstmp)\n",
    "\n",
    "TwoSampleTestInputsNull = GMetrics.TwoSampleTestInputs(dist_1_input = dist_1_null[:niter*batch_size_test],\n",
    "                                                       dist_2_input = dist_2_null[:niter*batch_size_test],\n",
    "                                                       niter = niter,\n",
    "                                                       batch_size_test = batch_size_test,\n",
    "                                                       small_sample_threshold = 1e7,\n",
    "                                                       dtype_input = tf.float64,\n",
    "                                                       seed_input = 0,\n",
    "                                                       use_tf = True,\n",
    "                                                       mirror_strategy = False,\n",
    "                                                       verbose = True)"
   ]
  },
  {
   "cell_type": "code",
   "execution_count": 12,
   "metadata": {},
   "outputs": [
    {
     "name": "stdout",
     "output_type": "stream",
     "text": [
      "Finite Dataset Case.\n",
      "The Gaussian kernel sigma is estimated as the 90th percentile of the pairwise distance among 10000 points extracted from the reference data. \n",
      "The value of sigma is: 4.2\n"
     ]
    }
   ],
   "source": [
    "flk_sigma = candidate_sigma(dist_1_null, perc = 90)  "
   ]
  },
  {
   "cell_type": "code",
   "execution_count": 13,
   "metadata": {},
   "outputs": [],
   "source": [
    "NPLMMetric = GMetrics.NPLMMetric(TwoSampleTestInputsNull,\n",
    "                                 progress_bar = True,\n",
    "                                 verbose = True,\n",
    "                                 M = m_value, \n",
    "                                 lam = lam_value, \n",
    "                                 iter_list = 1000000,\n",
    "                                 flk_sigma = flk_sigma,\n",
    "                                 weight = 1) "
   ]
  },
  {
   "cell_type": "code",
   "execution_count": 14,
   "metadata": {},
   "outputs": [
    {
     "data": {
      "text/html": [
       "<div>\n",
       "<style scoped>\n",
       "    .dataframe tbody tr th:only-of-type {\n",
       "        vertical-align: middle;\n",
       "    }\n",
       "\n",
       "    .dataframe tbody tr th {\n",
       "        vertical-align: top;\n",
       "    }\n",
       "\n",
       "    .dataframe thead th {\n",
       "        text-align: right;\n",
       "    }\n",
       "</style>\n",
       "<table border=\"1\" class=\"dataframe\">\n",
       "  <thead>\n",
       "    <tr style=\"text-align: right;\">\n",
       "      <th></th>\n",
       "      <th>niter</th>\n",
       "      <th>batch_size_test</th>\n",
       "      <th>batch_size_gen</th>\n",
       "      <th>small_sample_threshold</th>\n",
       "      <th>dtype_input</th>\n",
       "      <th>seed</th>\n",
       "      <th>use_tf</th>\n",
       "      <th>mirror_strategy</th>\n",
       "      <th>strategy</th>\n",
       "      <th>verbose</th>\n",
       "      <th>is_symb_1</th>\n",
       "      <th>ndims_1</th>\n",
       "      <th>nsamples_1</th>\n",
       "      <th>is_symb_2</th>\n",
       "      <th>ndims_2</th>\n",
       "      <th>nsamples_2</th>\n",
       "      <th>dtype</th>\n",
       "      <th>ndims</th>\n",
       "      <th>nsamples</th>\n",
       "      <th>small_sample</th>\n",
       "    </tr>\n",
       "  </thead>\n",
       "  <tbody>\n",
       "    <tr>\n",
       "      <th>0</th>\n",
       "      <td>4</td>\n",
       "      <td>20000</td>\n",
       "      <td>1000</td>\n",
       "      <td>10000000</td>\n",
       "      <td>float64</td>\n",
       "      <td>0</td>\n",
       "      <td>True</td>\n",
       "      <td>False</td>\n",
       "      <td>None</td>\n",
       "      <td>True</td>\n",
       "      <td>False</td>\n",
       "      <td>4</td>\n",
       "      <td>80000</td>\n",
       "      <td>False</td>\n",
       "      <td>4</td>\n",
       "      <td>80000</td>\n",
       "      <td>float64</td>\n",
       "      <td>4</td>\n",
       "      <td>80000</td>\n",
       "      <td>True</td>\n",
       "    </tr>\n",
       "  </tbody>\n",
       "</table>\n",
       "</div>"
      ],
      "text/plain": [
       "   niter  batch_size_test  batch_size_gen  small_sample_threshold dtype_input  \\\n",
       "0      4            20000            1000                10000000     float64   \n",
       "\n",
       "   seed  use_tf  mirror_strategy strategy  verbose  is_symb_1  ndims_1  \\\n",
       "0     0    True            False     None     True      False        4   \n",
       "\n",
       "   nsamples_1  is_symb_2  ndims_2  nsamples_2    dtype  ndims  nsamples  \\\n",
       "0       80000      False        4       80000  float64      4     80000   \n",
       "\n",
       "   small_sample  \n",
       "0          True  "
      ]
     },
     "execution_count": 14,
     "metadata": {},
     "output_type": "execute_result"
    }
   ],
   "source": [
    "test_config_null = {}\n",
    "test_config_tmp = dict(TwoSampleTestInputsNull.__dict__)\n",
    "keys_to_remove = [\"_dist_1_input\", \"_dist_2_input\", \"_dist_1_num\", \"_dist_2_num\", \"_dist_1_symb\", \"_dist_2_symb\", \"_seed_generator\"]\n",
    "for key in keys_to_remove:\n",
    "    test_config_tmp.pop(key, None)\n",
    "for key, value in test_config_tmp.items():\n",
    "    new_key = key.lstrip('_')\n",
    "    \n",
    "    if isinstance(value, tf.Tensor):\n",
    "        new_value = value.numpy() # type: ignore\n",
    "    elif isinstance(value, np.ndarray):\n",
    "        new_value = value.tolist()\n",
    "    elif isinstance(value, np.generic):\n",
    "        new_value = value.item() # Convert NumPy scalars to Python scalars\n",
    "    elif isinstance(value, tf.DType):\n",
    "        new_value = value.name\n",
    "    elif isinstance(value, np.dtype):\n",
    "        new_value = np.dtype(value).name\n",
    "    else:\n",
    "        new_value = value\n",
    "    \n",
    "    test_config_null[new_key] = new_value\n",
    "\n",
    "pd.DataFrame([test_config_null])"
   ]
  },
  {
   "cell_type": "code",
   "execution_count": 15,
   "metadata": {},
   "outputs": [
    {
     "name": "stdout",
     "output_type": "stream",
     "text": [
      "{'NPLM': {'name': 'nplm', 'object_name': 'NPLMMetric', 'class_name': 'GMetrics.NPLMMetric', 'kwargs': {'M': 7000, 'lam': 1e-08, 'iter_list': 1000000, 'flk_sigma': 4.2, 'weight': 1}, 'result_key': 'metric_list', 'scale_func': <function <lambda> at 0x7f689339b7e0>, 'scale_func_string': 'lambda ns, ndims: 1', 'test_config': {'niter': 4, 'batch_size_test': 20000, 'batch_size_gen': 1000, 'small_sample_threshold': 10000000, 'dtype_input': 'float64', 'seed': 0, 'use_tf': True, 'mirror_strategy': False, 'strategy': None, 'verbose': True, 'is_symb_1': False, 'ndims_1': 4, 'nsamples_1': 80000, 'is_symb_2': False, 'ndims_2': 4, 'nsamples_2': 80000, 'dtype': 'float64', 'ndims': 4, 'nsamples': 80000, 'small_sample': True}, 'max_vectorize': 1000, 'latex': '$t_{\\\\mathrm{NPLM}}$', 'null_file': 'results/jet_features/tests/20K_preprocessed/null_hypothesis_M_7000_lam_1e-08/NPLM.json'}}\n",
      "{'name': 'nplm', 'object_name': 'NPLMMetric', 'class_name': 'GMetrics.NPLMMetric', 'kwargs': {'M': 7000, 'lam': 1e-08, 'iter_list': 1000000, 'flk_sigma': 4.2, 'weight': 1}, 'result_key': 'metric_list', 'scale_func': <function <lambda> at 0x7f689339b7e0>, 'scale_func_string': 'lambda ns, ndims: 1', 'test_config': {'niter': 4, 'batch_size_test': 20000, 'batch_size_gen': 1000, 'small_sample_threshold': 10000000, 'dtype_input': 'float64', 'seed': 0, 'use_tf': True, 'mirror_strategy': False, 'strategy': None, 'verbose': True, 'is_symb_1': False, 'ndims_1': 4, 'nsamples_1': 80000, 'is_symb_2': False, 'ndims_2': 4, 'nsamples_2': 80000, 'dtype': 'float64', 'ndims': 4, 'nsamples': 80000, 'small_sample': True}, 'max_vectorize': 1000, 'latex': '$t_{\\\\mathrm{NPLM}}$', 'null_file': 'results/jet_features/tests/20K_preprocessed/null_hypothesis_M_7000_lam_1e-08/NPLM.json'}\n"
     ]
    }
   ],
   "source": [
    "unique_key = \"config_flavor_nsamples_\"+str(TwoSampleTestInputsNull.batch_size_test)+\"_niter_\"+str(niter_tot)\n",
    "metrics_config = {unique_key: {\"NPLM\": {\"name\": \"nplm\",\n",
    "                                       \"object_name\": \"NPLMMetric\",\n",
    "                                       \"class_name\": \"GMetrics.NPLMMetric\",\n",
    "                                       \"kwargs\": {\"M\": m_value,\n",
    "                                                  \"lam\": lam_value,\n",
    "                                                  \"iter_list\": 1000000,\n",
    "                                                  \"flk_sigma\": flk_sigma,\n",
    "                                                  \"weight\" : 1},\n",
    "                                       \"result_key\": \"metric_list\", \n",
    "                                       \"scale_func\": lambda ns, ndims: 1,#(ns/ndims)**(3/2),\n",
    "                                       \"scale_func_string\": \"lambda ns, ndims: 1\",\n",
    "                                       \"test_config\": test_config_null,\n",
    "                                       \"max_vectorize\": 1000, # optimized for 5D\n",
    "                                       \"latex\": \"$t_{\\mathrm{NPLM}}$\",\n",
    "                                       \"null_file\": null_hypotheses_dir+\"NPLM.json\"}}}\n",
    "\n",
    "print(metrics_config[unique_key])\n",
    "nplm_config = metrics_config[unique_key][\"NPLM\"]\n",
    "print(nplm_config)"
   ]
  },
  {
   "cell_type": "code",
   "execution_count": 16,
   "metadata": {},
   "outputs": [
    {
     "name": "stdout",
     "output_type": "stream",
     "text": [
      "Loading nplm from results/jet_features/tests/20K_preprocessed/null_hypothesis_M_7000_lam_1e-08/NPLM.json\n"
     ]
    }
   ],
   "source": [
    "file = nplm_config[\"null_file\"]\n",
    "name = nplm_config[\"name\"]\n",
    "max_vectorize = nplm_config[\"max_vectorize\"]\n",
    "obj = eval(nplm_config[\"object_name\"])\n",
    "if os.path.exists(file):\n",
    "     print(f\"Loading {name} from {file}\")\n",
    "     obj.Results.load_from_json(file)\n",
    "else:\n",
    "    print(f\"Computing and saving {name}\")\n",
    "    print(\"\\n===========================================================\")\n",
    "    print(f\"Testing from 0 to {niter} of {niter * nbootstrap} samples.\")\n",
    "    obj.Test_np()\n",
    "    for i in range(1, nbootstrap):\n",
    "        l = len(dataset) // 2\n",
    "        dstmp = shuffle_dataset(seed = 1000 * i + i)\n",
    "        dist_1_null = tf.cast(dstmp[:l], tf.float64)\n",
    "        dist_2_null = tf.cast(dstmp[l:], tf.float64)\n",
    "        #KSTestNull.Inputs.dist_1_input = dist_1 # This is the consistent way, but slower\n",
    "        TwoSampleTestInputsNull._dist_1_num = dist_1_null[:niter*batch_size_test] # Overwriting the _dist_1_num attribute. Less consistent, but         faster\n",
    "        #KSTestNull.Inputs.dist_2_input = dist_2 # This is the consistent way, but slower\n",
    "        TwoSampleTestInputsNull._dist_2_num = dist_2_null[:niter*batch_size_test] # Overwriting the _dist_2_num attribute. Less consistent, but         faster\n",
    "        print(\"\\n===========================================================\")\n",
    "        print(f\"Testing from {i * niter} to {(i+1) * niter} of {niter * nbootstrap} samples.\")\n",
    "        obj.Test_np()\n",
    "        del(dstmp)\n",
    "    end = timer()\n",
    "    print(f\"All done in: {end-start:.2f} s.\")\n",
    "    print(f\"Saving {name} to {file}\")\n",
    "    obj.Results.save_to_json(file)"
   ]
  },
  {
   "cell_type": "code",
   "execution_count": null,
   "metadata": {},
   "outputs": [
    {
     "name": "stdout",
     "output_type": "stream",
     "text": [
      "ThresholdS for metric nplm: [[0.68, [680, 319], 197.09771227853645], [0.95, [950, 50], 232.3387695358682], [0.99, [990, 10], 260.10909652558274]]\n",
      "Computing time for metric nplm: 4468.584513179943\n"
     ]
    },
    {
     "data": {
      "text/html": [
       "<div>\n",
       "<style scoped>\n",
       "    .dataframe tbody tr th:only-of-type {\n",
       "        vertical-align: middle;\n",
       "    }\n",
       "\n",
       "    .dataframe tbody tr th {\n",
       "        vertical-align: top;\n",
       "    }\n",
       "\n",
       "    .dataframe thead th {\n",
       "        text-align: right;\n",
       "    }\n",
       "</style>\n",
       "<table border=\"1\" class=\"dataframe\">\n",
       "  <thead>\n",
       "    <tr style=\"text-align: right;\">\n",
       "      <th></th>\n",
       "      <th>name</th>\n",
       "      <th>object_name</th>\n",
       "      <th>class_name</th>\n",
       "      <th>kwargs</th>\n",
       "      <th>result_key</th>\n",
       "      <th>scale_func</th>\n",
       "      <th>scale_func_string</th>\n",
       "      <th>test_config</th>\n",
       "      <th>max_vectorize</th>\n",
       "      <th>latex</th>\n",
       "      <th>null_file</th>\n",
       "      <th>thresholds</th>\n",
       "    </tr>\n",
       "  </thead>\n",
       "  <tbody>\n",
       "    <tr>\n",
       "      <th>0</th>\n",
       "      <td>nplm</td>\n",
       "      <td>NPLMMetric</td>\n",
       "      <td>GMetrics.NPLMMetric</td>\n",
       "      <td>{'M': 7000, 'lam': 1e-08, 'iter_list': 1000000...</td>\n",
       "      <td>metric_list</td>\n",
       "      <td>&lt;function &lt;lambda&gt; at 0x7f689339b7e0&gt;</td>\n",
       "      <td>lambda ns, ndims: 1</td>\n",
       "      <td>{'niter': 4, 'batch_size_test': 20000, 'batch_...</td>\n",
       "      <td>1000</td>\n",
       "      <td>$t_{\\mathrm{NPLM}}$</td>\n",
       "      <td>results/jet_features/tests/20K_preprocessed/nu...</td>\n",
       "      <td>[[0.68, [680, 319], 197.09771227853645], [0.95...</td>\n",
       "    </tr>\n",
       "  </tbody>\n",
       "</table>\n",
       "</div>"
      ],
      "text/plain": [
       "   name object_name           class_name  \\\n",
       "0  nplm  NPLMMetric  GMetrics.NPLMMetric   \n",
       "\n",
       "                                              kwargs   result_key  \\\n",
       "0  {'M': 7000, 'lam': 1e-08, 'iter_list': 1000000...  metric_list   \n",
       "\n",
       "                              scale_func    scale_func_string  \\\n",
       "0  <function <lambda> at 0x7f689339b7e0>  lambda ns, ndims: 1   \n",
       "\n",
       "                                         test_config  max_vectorize  \\\n",
       "0  {'niter': 4, 'batch_size_test': 20000, 'batch_...           1000   \n",
       "\n",
       "                 latex                                          null_file  \\\n",
       "0  $t_{\\mathrm{NPLM}}$  results/jet_features/tests/20K_preprocessed/nu...   \n",
       "\n",
       "                                          thresholds  \n",
       "0  [[0.68, [680, 319], 197.09771227853645], [0.95...  "
      ]
     },
     "execution_count": 17,
     "metadata": {},
     "output_type": "execute_result"
    }
   ],
   "source": [
    "cl_list = [0.68, 0.95, 0.99]\n",
    "null_times = []\n",
    "ndims = 4\n",
    "\n",
    "\n",
    "name = nplm_config[\"name\"]\n",
    "obj = eval(nplm_config[\"object_name\"])\n",
    "result_key = nplm_config[\"result_key\"]\n",
    "scale_func = nplm_config[\"scale_func\"]\n",
    "\n",
    "nsamples = obj.Inputs.batch_size_test\n",
    "ns = nsamples**2 /(2*nsamples)\n",
    "dist_null  = np.array(obj.Results[0].result_value[result_key])\n",
    "for i in range(1,len(obj.Results)):\n",
    "        dist_null = np.concatenate((dist_null, np.array(obj.Results[i].result_value[result_key])))\n",
    "\n",
    "\n",
    "metric_thresholds = [[cl, \n",
    "                        [int(cl*len(dist_null)), \n",
    "                        int((1-cl)*len(dist_null))], \n",
    "                        np.sort(dist_null)[int(len(dist_null)*cl)]] for cl in cl_list]\n",
    "\n",
    "print(f\"ThresholdS for metric {nplm_config['name']}: {metric_thresholds}\")\n",
    "\n",
    "null_time = obj.Results[0].__dict__['computing_time']\n",
    "for i in range(1,len(obj.Results)):\n",
    "        null_time += obj.Results[i].__dict__['computing_time']\n",
    "null_times.append([name, int(null_time)])\n",
    "print(f\"Computing time for metric {nplm_config['name']}: {null_time}\")\n",
    "\n",
    "nplm_config.update({\"thresholds\": metric_thresholds})\n",
    "    \n",
    "GMetrics.utils.save_update_metrics_config(metrics_config = metrics_config, metrics_config_file = metrics_config_file) # type: ignore"
   ]
  },
  {
   "cell_type": "markdown",
   "metadata": {},
   "source": [
    "### Plots of null-distributions"
   ]
  },
  {
   "cell_type": "code",
   "execution_count": 18,
   "metadata": {},
   "outputs": [
    {
     "name": "stdout",
     "output_type": "stream",
     "text": [
      "mu = 186.67251799700153 +/- 22.285288552077926\n",
      "sigma = 26.546613746133826 +/- 0.6433929266123567\n",
      "68%CL = 197.09771227853645, 95%CL = 232.3387695358682, 99%CL = 260.10909652558274\n",
      "mu = 186.67251799700153 +/- 22.285288552077926\n",
      "sigma = 26.546613746133826 +/- 0.6433929266123567\n"
     ]
    },
    {
     "name": "stderr",
     "output_type": "stream",
     "text": [
      "/tmp/ipykernel_2404194/490462249.py:66: UserWarning: Attempt to set non-positive ylim on a log-scaled axis will be ignored.\n",
      "  ax[0].set_ylim(current_ylim0)\n",
      "/tmp/ipykernel_2404194/490462249.py:68: MatplotlibDeprecationWarning: The legendHandles attribute was deprecated in Matplotlib 3.7 and will be removed two minor releases later. Use legend_handles instead.\n",
      "  for handle in legend0.legendHandles[-3:]:\n",
      "/tmp/ipykernel_2404194/490462249.py:97: UserWarning: Attempt to set non-positive ylim on a log-scaled axis will be ignored.\n",
      "  ax[1].set_ylim(current_ylim1)\n",
      "/tmp/ipykernel_2404194/490462249.py:103: MatplotlibDeprecationWarning: The legendHandles attribute was deprecated in Matplotlib 3.7 and will be removed two minor releases later. Use legend_handles instead.\n",
      "  for handle in legend1.legendHandles[-3:]:\n"
     ]
    },
    {
     "data": {
      "image/png": "[encoded data removed]",
      "text/plain": [
       "<Figure size 1600x600 with 2 Axes>"
      ]
     },
     "metadata": {},
     "output_type": "display_data"
    },
    {
     "name": "stdout",
     "output_type": "stream",
     "text": [
      "Time elapsed: 1.153751394012943 seconds.\n"
     ]
    },
    {
     "data": {
      "text/html": [
       "<div>\n",
       "<style scoped>\n",
       "    .dataframe tbody tr th:only-of-type {\n",
       "        vertical-align: middle;\n",
       "    }\n",
       "\n",
       "    .dataframe tbody tr th {\n",
       "        vertical-align: top;\n",
       "    }\n",
       "\n",
       "    .dataframe thead th {\n",
       "        text-align: right;\n",
       "    }\n",
       "</style>\n",
       "<table border=\"1\" class=\"dataframe\">\n",
       "  <thead>\n",
       "    <tr style=\"text-align: right;\">\n",
       "      <th></th>\n",
       "      <th>name</th>\n",
       "      <th>object_name</th>\n",
       "      <th>class_name</th>\n",
       "      <th>kwargs</th>\n",
       "      <th>result_key</th>\n",
       "      <th>scale_func</th>\n",
       "      <th>scale_func_string</th>\n",
       "      <th>test_config</th>\n",
       "      <th>max_vectorize</th>\n",
       "      <th>latex</th>\n",
       "      <th>null_file</th>\n",
       "      <th>thresholds</th>\n",
       "      <th>null_figure</th>\n",
       "    </tr>\n",
       "  </thead>\n",
       "  <tbody>\n",
       "    <tr>\n",
       "      <th>0</th>\n",
       "      <td>nplm</td>\n",
       "      <td>NPLMMetric</td>\n",
       "      <td>GMetrics.NPLMMetric</td>\n",
       "      <td>{'M': 7000, 'lam': 1e-08, 'iter_list': 1000000...</td>\n",
       "      <td>metric_list</td>\n",
       "      <td>&lt;function &lt;lambda&gt; at 0x7f689339b7e0&gt;</td>\n",
       "      <td>lambda ns, ndims: 1</td>\n",
       "      <td>{'niter': 4, 'batch_size_test': 20000, 'batch_...</td>\n",
       "      <td>1000</td>\n",
       "      <td>$t_{\\mathrm{NPLM}}$</td>\n",
       "      <td>results/jet_features/tests/20K_preprocessed/nu...</td>\n",
       "      <td>[[0.68, [680, 319], 197.09771227853645], [0.95...</td>\n",
       "      <td>results/jet_features/tests/20K_preprocessed/nu...</td>\n",
       "    </tr>\n",
       "  </tbody>\n",
       "</table>\n",
       "</div>"
      ],
      "text/plain": [
       "   name object_name           class_name  \\\n",
       "0  nplm  NPLMMetric  GMetrics.NPLMMetric   \n",
       "\n",
       "                                              kwargs   result_key  \\\n",
       "0  {'M': 7000, 'lam': 1e-08, 'iter_list': 1000000...  metric_list   \n",
       "\n",
       "                              scale_func    scale_func_string  \\\n",
       "0  <function <lambda> at 0x7f689339b7e0>  lambda ns, ndims: 1   \n",
       "\n",
       "                                         test_config  max_vectorize  \\\n",
       "0  {'niter': 4, 'batch_size_test': 20000, 'batch_...           1000   \n",
       "\n",
       "                 latex                                          null_file  \\\n",
       "0  $t_{\\mathrm{NPLM}}$  results/jet_features/tests/20K_preprocessed/nu...   \n",
       "\n",
       "                                          thresholds  \\\n",
       "0  [[0.68, [680, 319], 197.09771227853645], [0.95...   \n",
       "\n",
       "                                         null_figure  \n",
       "0  results/jet_features/tests/20K_preprocessed/nu...  "
      ]
     },
     "execution_count": 18,
     "metadata": {},
     "output_type": "execute_result"
    }
   ],
   "source": [
    "\n",
    "name = nplm_config[\"name\"]\n",
    "name_cap = name.upper()\n",
    "latex = nplm_config[\"latex\"]\n",
    "obj = eval(nplm_config[\"object_name\"])\n",
    "result_key = nplm_config[\"result_key\"]\n",
    "scale_func = nplm_config[\"scale_func\"]\n",
    "figure_file = nplm_config[\"null_file\"].replace(\"json\",\"pdf\")\n",
    "thresholds = nplm_config[\"thresholds\"]\n",
    "\n",
    "start = timer()\n",
    "\n",
    "nsamples = obj.Inputs.batch_size_test\n",
    "niter = obj.Inputs.niter\n",
    "ns = nsamples**2 /(2*nsamples)\n",
    "dist_null  = np.array(obj.Results[0].result_value[result_key])*scale_func(ns, ndims)\n",
    "for i in range(1,len(obj.Results)):\n",
    "    dist_null = np.concatenate((dist_null, np.array(obj.Results[i].result_value[result_key])))\n",
    "dist_null = dist_null * scale_func(ns, ndims)\n",
    "\n",
    "scale = 'log'\n",
    "num_bins = 50  # number of bins|\n",
    "\n",
    "mu, deltamu, sigma, deltasigma = (np.mean(dist_null), se_mean(dist_null), np.std(dist_null), se_std(dist_null))\n",
    "sigma_68, sigma_95, sigma_99 = [np.sort(dist_null)[int(len(dist_null)*cl)] for cl in [0.68, 0.95, 0.99]]\n",
    "print(f\"mu = {mu} +/- {deltamu}\")\n",
    "print(f\"sigma = {sigma} +/- {deltasigma}\")\n",
    "print(f\"68%CL = {sigma_68}, 95%CL = {sigma_95}, 99%CL = {sigma_99}\")\n",
    "\n",
    "print(\"mu =\", mu, \"+/-\", deltamu)\n",
    "print(\"sigma =\", sigma, \"+/-\", deltasigma)\n",
    "\n",
    "min_x, max_x = min(dist_null), max(dist_null) # lower and upper limit of the binning\n",
    "x = np.linspace(min_x, max_x, num_bins + 1)\n",
    "counts, bin_edges = np.histogram(dist_null, bins=x, density=True)\n",
    "cum_counts = np.cumsum(counts)/np.sum(counts)\n",
    "bin_centers = (bin_edges[:-1] + bin_edges[1:]) / 2\n",
    "\n",
    "fig, ax = plt.subplots(1, 2, figsize=(16, 6))\n",
    "\n",
    "dash_styles = ['-', '--', '-.']\n",
    "colors = [\"royalblue\", \"darkorange\", \"mediumseagreen\"]\n",
    "\n",
    "# Create step plot\n",
    "step_edges = np.convolve(bin_centers, [0.5, 0.5], 'valid')\n",
    "step_counts = counts[:-1]  # assuming counts is one element longer than step_edges\n",
    "\n",
    "ax[0].step(step_edges, step_counts, where='mid', linestyle='-', color = \"tomato\", label = \"Null distribution\")\n",
    "current_ylim0 = ax[0].get_ylim()\n",
    "ax[0].set_yscale(scale)\n",
    "ax[0].set_xlabel(r\"%s\"%latex, fontsize=16)\n",
    "ax[0].set_ylabel('Frequency', fontsize=16)\n",
    "ax[0].set_title('PDF for jet_features null with $N = '+str(ndims)+'$, $n=m='+str(int(nsamples/1000))+'$K, $n_{\\mathrm{iter}} = '+str(int(niter_tot/1000))+'$K', fontsize=15)\n",
    "ax[0].tick_params(axis='x', labelsize=15)  # Set x-axis tick label size\n",
    "ax[0].tick_params(axis='y', labelsize=15)  # Set y-axis tick label size\n",
    "\n",
    "for i, threshold in enumerate(thresholds):\n",
    "    confidence_level, _, threshold_value = threshold\n",
    "    start_index = np.searchsorted(step_edges, threshold_value, side=\"right\") - 1\n",
    "    start_index = max(start_index, 0)\n",
    "    fill_x_range = np.concatenate([[threshold_value], step_edges[start_index+1:]])\n",
    "    fill_y_values = step_counts[start_index:]\n",
    "    if len(fill_x_range) > 1 and len(fill_y_values) > 0:\n",
    "        ax[0].fill_between(fill_x_range, 0, fill_y_values, color=colors[i], alpha=0.1, step='mid', label=f\"{int(confidence_level * 100)}% CL ($x>{format(threshold_value, '.2f')}   $)\")\n",
    "    ax[0].axvline(x=threshold_value, linestyle=dash_styles[i], color=colors[i], linewidth=1)\n",
    "\n",
    "ax[0].set_ylim(current_ylim0)  \n",
    "legend0 = ax[0].legend(loc='upper right', fontsize=15)\n",
    "for handle in legend0.legendHandles[-3:]:\n",
    "    handle.set_alpha(0.5)  # Set to desired alpha value\n",
    "\n",
    "# Create step plot\n",
    "step_edges = np.convolve(bin_centers, [0.5, 0.5], 'valid')\n",
    "step_counts = cum_counts[:-1]  # assuming counts is one element longer than step_edges\n",
    "\n",
    "ax[1].step(step_edges, step_counts, where='mid', linestyle='-', color = \"tomato\", label = \"Null distribution\")\n",
    "#ax[1].plot(bin_centers, cum_counts, linestyle = '-', color = \"tomato\", label = \"Null distribution\", drawstyle='steps-mid')\n",
    "current_ylim1 = ax[1].get_ylim()\n",
    "#for i, threshold in enumerate(thresholds):\n",
    "#    confidence_level, _, threshold_value = threshold\n",
    "#    ax[1].axhline(y=confidence_level, color=colors[i], linestyle=dash_styles[i], linewidth=0.5, alpha=1)\n",
    "ax[1].set_yscale(scale)\n",
    "ax[1].set_xlabel(r\"%s\"%latex, fontsize=16)\n",
    "ax[1].set_title('CDF for jet_features null with $N = '+str(ndims)+'$, $n=m='+str(int(nsamples/1000))+'$K, $n_{\\mathrm{iter}} = '+str(int(niter_tot/1000))+'$K', fontsize=15)\n",
    "ax[1].tick_params(axis='x', labelsize=15)  # Set x-axis tick label size\n",
    "ax[1].tick_params(axis='y', labelsize=15)  # Set y-axis tick label size\n",
    "\n",
    "for i, threshold in enumerate(thresholds):\n",
    "    confidence_level, _, threshold_value = threshold\n",
    "    start_index = np.searchsorted(step_edges, threshold_value, side=\"right\") - 1\n",
    "    start_index = max(start_index, 0)\n",
    "    fill_x_range = np.concatenate([[threshold_value], step_edges[start_index+1:]])\n",
    "    fill_y_values = step_counts[start_index:]\n",
    "    if len(fill_x_range) > 1 and len(fill_y_values) > 0:\n",
    "        ax[1].fill_between(fill_x_range, 0, fill_y_values, color=colors[i], alpha=0.1, step='mid', label=f\"{int(confidence_level * 100)}% CL ($x>{format(threshold_value, '.2f')}   $)\")\n",
    "    ax[1].axvline(x=threshold_value, linestyle=dash_styles[i], color=colors[i], linewidth=1)\n",
    "\n",
    "ax[1].set_ylim(current_ylim1)  \n",
    "#for i, threshold in enumerate(thresholds):\n",
    "#    confidence, _, value = threshold\n",
    "#    ax[1].axvline(x=value, color=colors[i], linestyle=dash_styles[i], alpha=1, label=f\"{int(confidence_level * 100)} CL% ($x>{format(threshold_value,'.2f')}$)\")\n",
    "\n",
    "legend1 = ax[1].legend(loc='upper right', fontsize=15)\n",
    "for handle in legend1.legendHandles[-3:]:\n",
    "    handle.set_alpha(0.5)  # Set to desired alpha value\n",
    "\n",
    "plt.subplots_adjust(wspace=0.1)  # Adjust this value to your liking\n",
    "plt.tight_layout()\n",
    "plt.savefig(figure_file)\n",
    "plt.show()\n",
    "plt.close()\n",
    "\n",
    "nplm_config.update({\"null_figure\": figure_file})\n",
    "\n",
    "end = timer()\n",
    "print(\"Time elapsed:\", end-start, \"seconds.\")\n",
    "\n",
    "GMetrics.utils.save_update_metrics_config(metrics_config = metrics_config, metrics_config_file = metrics_config_file) # type: ignore"
   ]
  },
  {
   "cell_type": "markdown",
   "metadata": {},
   "source": [
    "## Alternative hypothesis"
   ]
  },
  {
   "cell_type": "markdown",
   "metadata": {},
   "source": [
    "### Scan and exclusion limits (bisection method)"
   ]
  },
  {
   "cell_type": "code",
   "execution_count": 19,
   "metadata": {},
   "outputs": [],
   "source": [
    "if test_config_null[\"use_tf\"]:\n",
    "    dtype = getattr(tf, test_config_null[\"dtype_input\"])\n",
    "else:\n",
    "    dtype = np.dtype(test_config_null[\"dtype_input\"])\n",
    "test_kwargs = {\"niter_null\": niter,\n",
    "               \"niter_alt\": 100, # this will be adapted to the boostrap size\n",
    "               \"batch_size_test\": test_config_null[\"batch_size_test\"],\n",
    "               \"batch_size_gen\": test_config_null[\"batch_size_gen\"],\n",
    "               \"small_sample_threshold\": test_config_null[\"small_sample_threshold\"],\n",
    "               \"dtype_input\": dtype,\n",
    "               \"seed_input\": test_config_null[\"seed\"],\n",
    "               \"use_tf\": test_config_null[\"use_tf\"],\n",
    "               \"mirror_strategy\": test_config_null[\"mirror_strategy\"],\n",
    "               \"verbose\": False}"
   ]
  },
  {
   "cell_type": "code",
   "execution_count": 20,
   "metadata": {},
   "outputs": [],
   "source": [
    "# file_path = os.path.join(model_dir, \"exclusion_limits.json\")\n",
    "# if os.path.exists(file_path):\n",
    "#     try:\n",
    "#         with open(file_path, \"r\") as file:\n",
    "#             existing_data = json.load(file)\n",
    "#     except json.JSONDecodeError:\n",
    "#         existing_data = {}\n",
    "# else:\n",
    "#     existing_data = {}\n",
    "    \n",
    "# # Sort the dictionary by keys\n",
    "# existing_data = dict(sorted(existing_data.items()))\n",
    "\n",
    "# # Save the sorted dictionary back to a JSON file\n",
    "# with open(file_path, 'w') as f:\n",
    "#     json.dump(existing_data, f, cls=GMetrics.utils.CustomEncoder, indent=4) # type: ignore\n",
    "\n",
    "file_path = os.path.join(model_dir, f\"exclusion_limits_M_{m_value}_lam_{lam_value}.json\")\n",
    "if os.path.exists(file_path):\n",
    "    try:\n",
    "        with open(file_path, \"r\") as file:\n",
    "            existing_data = json.load(file)\n",
    "    except json.JSONDecodeError:\n",
    "        existing_data = {}\n",
    "else:\n",
    "    existing_data = {}\n",
    "    \n",
    "# Sort the dictionary by keys\n",
    "existing_data = dict(sorted(existing_data.items()))\n",
    "\n",
    "# Save the sorted dictionary back to a JSON file\n",
    "with open(file_path, 'w') as f:\n",
    "    json.dump(existing_data, f, cls=GMetrics.utils.CustomEncoder, indent=4) # type: ignore"
   ]
  },
  {
   "cell_type": "code",
   "execution_count": 21,
   "metadata": {},
   "outputs": [
    {
     "name": "stdout",
     "output_type": "stream",
     "text": [
      "Upper bounds for nplm with mean deformation already loaded.\n",
      "Central bounds for nplm with mean deformation already loaded.\n",
      "Lower bounds for nplm with mean deformation already loaded.\n",
      "Upper bounds for nplm with cov_diag deformation already loaded.\n",
      "Central bounds for nplm with cov_diag deformation already loaded.\n",
      "Lower bounds for nplm with cov_diag deformation already loaded.\n",
      "Upper bounds for nplm with cov_off_diag deformation already loaded.\n",
      "Central bounds for nplm with cov_off_diag deformation already loaded.\n",
      "Lower bounds for nplm with cov_off_diag deformation already loaded.\n",
      "Upper bounds for nplm with power_abs_up deformation already loaded.\n",
      "Central bounds for nplm with power_abs_up deformation already loaded.\n",
      "Lower bounds for nplm with power_abs_up deformation already loaded.\n",
      "Upper bounds for nplm with power_abs_down deformation already loaded.\n",
      "Central bounds for nplm with power_abs_down deformation already loaded.\n",
      "Lower bounds for nplm with power_abs_down deformation already loaded.\n",
      "Upper bounds for nplm with random_normal deformation already loaded.\n",
      "Central bounds for nplm with random_normal deformation already loaded.\n",
      "Lower bounds for nplm with random_normal deformation already loaded.\n",
      "Upper bounds for nplm with random_uniform deformation already loaded.\n",
      "Central bounds for nplm with random_uniform deformation already loaded.\n",
      "Lower bounds for nplm with random_uniform deformation already loaded.\n",
      "dict_keys(['nplm_mean_upper_2024-12-19T17:43:39.634950', 'nplm_mean_central_2024-12-19T23:29:36.226033', 'nplm_mean_lower_2024-12-20T01:21:19.740227', 'nplm_cov_diag_upper_2024-12-20T03:12:48.364942', 'nplm_cov_diag_central_2024-12-20T11:41:51.455649', 'nplm_cov_diag_lower_2024-12-20T13:34:11.076978', 'nplm_cov_off_diag_upper_2024-12-21T01:31:42.454896', 'nplm_cov_off_diag_central_2024-12-21T07:12:31.716963', 'nplm_cov_off_diag_lower_2024-12-21T09:33:33.924258', 'nplm_power_abs_up_upper_2024-12-21T11:53:37.026774', 'nplm_power_abs_up_central_2024-12-21T18:03:05.630922', 'nplm_power_abs_up_lower_2024-12-21T19:54:37.029652', 'nplm_power_abs_down_upper_2024-12-22T10:43:10.958167', 'nplm_power_abs_down_central_2024-12-22T14:54:24.901604', 'nplm_power_abs_down_lower_2024-12-22T16:50:25.654253', 'nplm_random_normal_upper_2024-12-22T18:41:38.688126', 'nplm_random_normal_central_2024-12-22T22:18:12.218245', 'nplm_random_normal_lower_2024-12-23T00:03:04.738249', 'nplm_random_uniform_upper_2024-12-23T01:55:02.971000', 'nplm_random_uniform_central_2024-12-23T05:10:36.056832', 'nplm_random_uniform_lower_2024-12-23T06:55:35.987154'])\n"
     ]
    }
   ],
   "source": [
    "deformations = [\"mean\", \"cov_diag\", \"cov_off_diag\", \"power_abs_up\", \"power_abs_down\", \"random_normal\", \"random_uniform\"]\n",
    "bounds = [\"upper\", \"central\", \"lower\"]\n",
    "global_results = {}\n",
    "\n",
    "for deformation in deformations:\n",
    "    eps_max = 1  # Default starting value\n",
    "    for bound in bounds:\n",
    "        try:\n",
    "            # Filter results for the current deformation and bound\n",
    "            result = {\n",
    "                k: v for k, v in existing_data.items()\n",
    "                if v[\"null_config\"][\"name\"] == nplm_config[\"name\"]\n",
    "                and v[\"deformation\"] == deformation\n",
    "                and v[\"bound\"] == bound\n",
    "            }\n",
    "        except Exception:\n",
    "            result = {}\n",
    "\n",
    "        if result:\n",
    "            print(f\"{bound.capitalize()} bounds for {nplm_config['name']} with {deformation} deformation already loaded.\")\n",
    "            # Update eps_max to the last computed epsilon in the exclusion list\n",
    "            last_result = list(result.values())[0]\n",
    "            if last_result[\"exclusion_list\"]:\n",
    "                eps_max = last_result[\"exclusion_list\"][-1][3]  # Last epsilon value\n",
    "        else:\n",
    "            print(f\"Computing {bound} bounds for {nplm_config['name']} with {deformation} deformation.\")\n",
    "            result = compute_exclusion_bisection_dataset_np(\n",
    "                dataset = dataset,\n",
    "                metric_config=nplm_config,\n",
    "                test_kwargs=test_kwargs,\n",
    "                model_dir=model_dir,\n",
    "                deformation=deformation,\n",
    "                seed_dist=0,\n",
    "                x_tol=0.01,\n",
    "                fn_tol=0.05,\n",
    "                bound=bound,\n",
    "                eps_min=0.0,\n",
    "                eps_max=eps_max,\n",
    "                smear = 0.,\n",
    "                max_iterations=50,\n",
    "                save=True,\n",
    "                filename=f\"exclusion_limits_M_{m_value}_lam_{lam_value}.json\",\n",
    "                verbose=True\n",
    "            )\n",
    "            eps_max = list(result.values())[0][\"exclusion_list\"][-1][3]  # Update eps_max\n",
    "        global_results.update(result)\n",
    "\n",
    "print(global_results.keys())"
   ]
  },
  {
   "cell_type": "markdown",
   "metadata": {},
   "source": [
    "## Show and save results"
   ]
  },
  {
   "cell_type": "code",
   "execution_count": 22,
   "metadata": {},
   "outputs": [],
   "source": [
    "import notebooks.shared as shared"
   ]
  },
  {
   "cell_type": "code",
   "execution_count": 23,
   "metadata": {},
   "outputs": [
    {
     "name": "stdout",
     "output_type": "stream",
     "text": [
      "Metric: nplm\n",
      "Metric: nplm\n",
      "Metric: nplm\n",
      "Metric: nplm\n",
      "Metric: nplm\n",
      "Metric: nplm\n",
      "Metric: nplm\n",
      "Metric: nplm\n",
      "Metric: nplm\n",
      "Metric: nplm\n",
      "Metric: nplm\n",
      "Metric: nplm\n",
      "Metric: nplm\n",
      "Metric: nplm\n",
      "Metric: nplm\n",
      "Metric: nplm\n",
      "Metric: nplm\n",
      "Metric: nplm\n",
      "Metric: nplm\n",
      "Metric: nplm\n",
      "Metric: nplm\n"
     ]
    }
   ],
   "source": [
    "results_df, times_df = shared.generate_result_dataframe_nplm(global_results, null_times)"
   ]
  },
  {
   "cell_type": "code",
   "execution_count": 24,
   "metadata": {},
   "outputs": [
    {
     "data": {
      "text/html": [
       "<div>\n",
       "<style scoped>\n",
       "    .dataframe tbody tr th:only-of-type {\n",
       "        vertical-align: middle;\n",
       "    }\n",
       "\n",
       "    .dataframe tbody tr th {\n",
       "        vertical-align: top;\n",
       "    }\n",
       "\n",
       "    .dataframe thead th {\n",
       "        text-align: right;\n",
       "    }\n",
       "</style>\n",
       "<table border=\"1\" class=\"dataframe\">\n",
       "  <thead>\n",
       "    <tr style=\"text-align: right;\">\n",
       "      <th></th>\n",
       "      <th>Statistic</th>\n",
       "      <th>$\\epsilon^{\\mu}_{95\\%\\mathrm{CL}}$</th>\n",
       "      <th>$\\epsilon^{\\mu}_{99\\%\\mathrm{CL}}$</th>\n",
       "      <th>$t^{\\mu}$ (s)</th>\n",
       "    </tr>\n",
       "  </thead>\n",
       "  <tbody>\n",
       "    <tr>\n",
       "      <th>2</th>\n",
       "      <td>NaN</td>\n",
       "      <td>$5e-05_{-2e-05}^{+1e-05}$</td>\n",
       "      <td>$6e-05_{-1e-05}^{+1e-05}$</td>\n",
       "      <td>$34148$</td>\n",
       "    </tr>\n",
       "  </tbody>\n",
       "</table>\n",
       "</div>"
      ],
      "text/plain": [
       "  Statistic $\\epsilon^{\\mu}_{95\\%\\mathrm{CL}}$  \\\n",
       "2       NaN          $5e-05_{-2e-05}^{+1e-05}$   \n",
       "\n",
       "  $\\epsilon^{\\mu}_{99\\%\\mathrm{CL}}$ $t^{\\mu}$ (s)  \n",
       "2          $6e-05_{-1e-05}^{+1e-05}$       $34148$  "
      ]
     },
     "metadata": {},
     "output_type": "display_data"
    },
    {
     "data": {
      "text/html": [
       "<div>\n",
       "<style scoped>\n",
       "    .dataframe tbody tr th:only-of-type {\n",
       "        vertical-align: middle;\n",
       "    }\n",
       "\n",
       "    .dataframe tbody tr th {\n",
       "        vertical-align: top;\n",
       "    }\n",
       "\n",
       "    .dataframe thead th {\n",
       "        text-align: right;\n",
       "    }\n",
       "</style>\n",
       "<table border=\"1\" class=\"dataframe\">\n",
       "  <thead>\n",
       "    <tr style=\"text-align: right;\">\n",
       "      <th></th>\n",
       "      <th>Statistic</th>\n",
       "      <th>$\\epsilon^{\\Sigma_{ii}}_{95\\%\\mathrm{CL}}$</th>\n",
       "      <th>$\\epsilon^{\\Sigma_{ii}}_{99\\%\\mathrm{CL}}$</th>\n",
       "      <th>$t^{\\Sigma_{ii}}$ (s)</th>\n",
       "    </tr>\n",
       "  </thead>\n",
       "  <tbody>\n",
       "    <tr>\n",
       "      <th>0</th>\n",
       "      <td>NaN</td>\n",
       "      <td>$0.00029_{-0.00011}^{+8e-05}$</td>\n",
       "      <td>$0.00036_{-7e-05}^{+7e-05}$</td>\n",
       "      <td>$32391$</td>\n",
       "    </tr>\n",
       "  </tbody>\n",
       "</table>\n",
       "</div>"
      ],
      "text/plain": [
       "  Statistic $\\epsilon^{\\Sigma_{ii}}_{95\\%\\mathrm{CL}}$  \\\n",
       "0       NaN              $0.00029_{-0.00011}^{+8e-05}$   \n",
       "\n",
       "  $\\epsilon^{\\Sigma_{ii}}_{99\\%\\mathrm{CL}}$ $t^{\\Sigma_{ii}}$ (s)  \n",
       "0                $0.00036_{-7e-05}^{+7e-05}$               $32391$  "
      ]
     },
     "metadata": {},
     "output_type": "display_data"
    },
    {
     "data": {
      "text/html": [
       "<div>\n",
       "<style scoped>\n",
       "    .dataframe tbody tr th:only-of-type {\n",
       "        vertical-align: middle;\n",
       "    }\n",
       "\n",
       "    .dataframe tbody tr th {\n",
       "        vertical-align: top;\n",
       "    }\n",
       "\n",
       "    .dataframe thead th {\n",
       "        text-align: right;\n",
       "    }\n",
       "</style>\n",
       "<table border=\"1\" class=\"dataframe\">\n",
       "  <thead>\n",
       "    <tr style=\"text-align: right;\">\n",
       "      <th></th>\n",
       "      <th>Statistic</th>\n",
       "      <th>$\\epsilon^{\\Sigma_{i\\neq j}}_{95\\%\\mathrm{CL}}$</th>\n",
       "      <th>$\\epsilon^{\\Sigma_{i\\neq j}}_{99\\%\\mathrm{CL}}$</th>\n",
       "      <th>$t^{\\Sigma_{i\\neq j}}$ (s)</th>\n",
       "    </tr>\n",
       "  </thead>\n",
       "  <tbody>\n",
       "    <tr>\n",
       "      <th>1</th>\n",
       "      <td>NaN</td>\n",
       "      <td>$0.00159_{-0.00089}^{+0.001}$</td>\n",
       "      <td>$0.00239_{-0.00092}^{+0.00081}$</td>\n",
       "      <td>$37314$</td>\n",
       "    </tr>\n",
       "  </tbody>\n",
       "</table>\n",
       "</div>"
      ],
      "text/plain": [
       "  Statistic $\\epsilon^{\\Sigma_{i\\neq j}}_{95\\%\\mathrm{CL}}$  \\\n",
       "1       NaN                   $0.00159_{-0.00089}^{+0.001}$   \n",
       "\n",
       "  $\\epsilon^{\\Sigma_{i\\neq j}}_{99\\%\\mathrm{CL}}$ $t^{\\Sigma_{i\\neq j}}$ (s)  \n",
       "1                 $0.00239_{-0.00092}^{+0.00081}$                    $37314$  "
      ]
     },
     "metadata": {},
     "output_type": "display_data"
    },
    {
     "data": {
      "text/html": [
       "<div>\n",
       "<style scoped>\n",
       "    .dataframe tbody tr th:only-of-type {\n",
       "        vertical-align: middle;\n",
       "    }\n",
       "\n",
       "    .dataframe tbody tr th {\n",
       "        vertical-align: top;\n",
       "    }\n",
       "\n",
       "    .dataframe thead th {\n",
       "        text-align: right;\n",
       "    }\n",
       "</style>\n",
       "<table border=\"1\" class=\"dataframe\">\n",
       "  <thead>\n",
       "    <tr style=\"text-align: right;\">\n",
       "      <th></th>\n",
       "      <th>Statistic</th>\n",
       "      <th>$\\epsilon^{\\rm{pow}_{+}}_{95\\%\\mathrm{CL}}$</th>\n",
       "      <th>$\\epsilon^{\\rm{pow}_{+}}_{99\\%\\mathrm{CL}}$</th>\n",
       "      <th>$t^{\\rm{pow}_{+}}$ (s)</th>\n",
       "    </tr>\n",
       "  </thead>\n",
       "  <tbody>\n",
       "    <tr>\n",
       "      <th>4</th>\n",
       "      <td>NaN</td>\n",
       "      <td>$0.00257_{-0.00095}^{+0.00089}$</td>\n",
       "      <td>$0.00329_{-0.00069}^{+0.00074}$</td>\n",
       "      <td>$35528$</td>\n",
       "    </tr>\n",
       "  </tbody>\n",
       "</table>\n",
       "</div>"
      ],
      "text/plain": [
       "  Statistic $\\epsilon^{\\rm{pow}_{+}}_{95\\%\\mathrm{CL}}$  \\\n",
       "4       NaN             $0.00257_{-0.00095}^{+0.00089}$   \n",
       "\n",
       "  $\\epsilon^{\\rm{pow}_{+}}_{99\\%\\mathrm{CL}}$ $t^{\\rm{pow}_{+}}$ (s)  \n",
       "4             $0.00329_{-0.00069}^{+0.00074}$                $35528$  "
      ]
     },
     "metadata": {},
     "output_type": "display_data"
    },
    {
     "data": {
      "text/html": [
       "<div>\n",
       "<style scoped>\n",
       "    .dataframe tbody tr th:only-of-type {\n",
       "        vertical-align: middle;\n",
       "    }\n",
       "\n",
       "    .dataframe tbody tr th {\n",
       "        vertical-align: top;\n",
       "    }\n",
       "\n",
       "    .dataframe thead th {\n",
       "        text-align: right;\n",
       "    }\n",
       "</style>\n",
       "<table border=\"1\" class=\"dataframe\">\n",
       "  <thead>\n",
       "    <tr style=\"text-align: right;\">\n",
       "      <th></th>\n",
       "      <th>Statistic</th>\n",
       "      <th>$\\epsilon^{\\rm{pow}_{-}}_{95\\%\\mathrm{CL}}$</th>\n",
       "      <th>$\\epsilon^{\\rm{pow}_{-}}_{99\\%\\mathrm{CL}}$</th>\n",
       "      <th>$t^{\\rm{pow}_{-}}$ (s)</th>\n",
       "    </tr>\n",
       "  </thead>\n",
       "  <tbody>\n",
       "    <tr>\n",
       "      <th>3</th>\n",
       "      <td>NaN</td>\n",
       "      <td>$0.00276_{-0.0011}^{+0.00083}$</td>\n",
       "      <td>$0.00344_{-0.00072}^{+0.00071}$</td>\n",
       "      <td>$28707$</td>\n",
       "    </tr>\n",
       "  </tbody>\n",
       "</table>\n",
       "</div>"
      ],
      "text/plain": [
       "  Statistic $\\epsilon^{\\rm{pow}_{-}}_{95\\%\\mathrm{CL}}$  \\\n",
       "3       NaN              $0.00276_{-0.0011}^{+0.00083}$   \n",
       "\n",
       "  $\\epsilon^{\\rm{pow}_{-}}_{99\\%\\mathrm{CL}}$ $t^{\\rm{pow}_{-}}$ (s)  \n",
       "3             $0.00344_{-0.00072}^{+0.00071}$                $28707$  "
      ]
     },
     "metadata": {},
     "output_type": "display_data"
    },
    {
     "data": {
      "text/html": [
       "<div>\n",
       "<style scoped>\n",
       "    .dataframe tbody tr th:only-of-type {\n",
       "        vertical-align: middle;\n",
       "    }\n",
       "\n",
       "    .dataframe tbody tr th {\n",
       "        vertical-align: top;\n",
       "    }\n",
       "\n",
       "    .dataframe thead th {\n",
       "        text-align: right;\n",
       "    }\n",
       "</style>\n",
       "<table border=\"1\" class=\"dataframe\">\n",
       "  <thead>\n",
       "    <tr style=\"text-align: right;\">\n",
       "      <th></th>\n",
       "      <th>Statistic</th>\n",
       "      <th>$\\epsilon^{\\mathcal{N}}_{95\\%\\mathrm{CL}}$</th>\n",
       "      <th>$\\epsilon^{\\mathcal{N}}_{99\\%\\mathrm{CL}}$</th>\n",
       "      <th>$t^{\\mathcal{N}}$ (s)</th>\n",
       "    </tr>\n",
       "  </thead>\n",
       "  <tbody>\n",
       "    <tr>\n",
       "      <th>5</th>\n",
       "      <td>NaN</td>\n",
       "      <td>$0.01222_{-0.0051}^{+0.0024}$</td>\n",
       "      <td>$0.01421_{-0.0018}^{+0.0021}$</td>\n",
       "      <td>$26004$</td>\n",
       "    </tr>\n",
       "  </tbody>\n",
       "</table>\n",
       "</div>"
      ],
      "text/plain": [
       "  Statistic $\\epsilon^{\\mathcal{N}}_{95\\%\\mathrm{CL}}$  \\\n",
       "5       NaN              $0.01222_{-0.0051}^{+0.0024}$   \n",
       "\n",
       "  $\\epsilon^{\\mathcal{N}}_{99\\%\\mathrm{CL}}$ $t^{\\mathcal{N}}$ (s)  \n",
       "5              $0.01421_{-0.0018}^{+0.0021}$               $26004$  "
      ]
     },
     "metadata": {},
     "output_type": "display_data"
    },
    {
     "data": {
      "text/html": [
       "<div>\n",
       "<style scoped>\n",
       "    .dataframe tbody tr th:only-of-type {\n",
       "        vertical-align: middle;\n",
       "    }\n",
       "\n",
       "    .dataframe tbody tr th {\n",
       "        vertical-align: top;\n",
       "    }\n",
       "\n",
       "    .dataframe thead th {\n",
       "        text-align: right;\n",
       "    }\n",
       "</style>\n",
       "<table border=\"1\" class=\"dataframe\">\n",
       "  <thead>\n",
       "    <tr style=\"text-align: right;\">\n",
       "      <th></th>\n",
       "      <th>Statistic</th>\n",
       "      <th>$\\epsilon^{\\mathcal{U}}_{95\\%\\mathrm{CL}}$</th>\n",
       "      <th>$\\epsilon^{\\mathcal{U}}_{99\\%\\mathrm{CL}}$</th>\n",
       "      <th>$t^{\\mathcal{U}}$ (s)</th>\n",
       "    </tr>\n",
       "  </thead>\n",
       "  <tbody>\n",
       "    <tr>\n",
       "      <th>6</th>\n",
       "      <td>NaN</td>\n",
       "      <td>$0.02112_{-0.0086}^{+0.0039}$</td>\n",
       "      <td>$0.02524_{-0.0037}^{+0.003}$</td>\n",
       "      <td>$24756$</td>\n",
       "    </tr>\n",
       "  </tbody>\n",
       "</table>\n",
       "</div>"
      ],
      "text/plain": [
       "  Statistic $\\epsilon^{\\mathcal{U}}_{95\\%\\mathrm{CL}}$  \\\n",
       "6       NaN              $0.02112_{-0.0086}^{+0.0039}$   \n",
       "\n",
       "  $\\epsilon^{\\mathcal{U}}_{99\\%\\mathrm{CL}}$ $t^{\\mathcal{U}}$ (s)  \n",
       "6               $0.02524_{-0.0037}^{+0.003}$               $24756$  "
      ]
     },
     "metadata": {},
     "output_type": "display_data"
    }
   ],
   "source": [
    "results_df_mean, results_df_cov_diag, results_df_cov_off_diag, results_df_power_abs_up, results_df_power_abs_down, results_df_random_normal, results_df_random_uniform = shared.get_individual_dfs(results_df, show = True)"
   ]
  },
  {
   "cell_type": "markdown",
   "metadata": {},
   "source": [
    "### Latex"
   ]
  },
  {
   "cell_type": "code",
   "execution_count": 25,
   "metadata": {},
   "outputs": [
    {
     "name": "stdout",
     "output_type": "stream",
     "text": [
      "\\begin{tabular}{l|llr|llr}\n",
      "\t\\toprule\n",
      "\t\\multicolumn{7}{c}{{\\bf Scaled Jet features with $\\mathbf{n=m=2\\cdot 10^{4}}$}} \\\\\n",
      "\t\\toprule\n",
      "\t\\multicolumn{1}{c}{} & \\multicolumn{3}{c}{$\\mu$-deformation} & \\multicolumn{3}{c}{$\\Sigma_{ii}$-deformation} \\\\\n",
      "\tStatistic & $\\epsilon_{95\\%\\mathrm{CL}}$ & $\\epsilon_{99\\%\\mathrm{CL}}$ & $t$ (s) & $\\epsilon_{95\\%\\mathrm{CL}}$ & $\\epsilon_{99\\%\\mathrm{CL}}$ & $t$ (s) \\\\\n",
      "\t\\midrule\n",
      "\t$t_{\\mathrm{NPLM}}$ & $5e-05_{-2e-05}^{+1e-05}$ & $6e-05_{-1e-05}^{+1e-05}$ & $34148$ & $0.00029_{-0.00011}^{+8e-05}$ & $0.00036_{-7e-05}^{+7e-05}$ & $32391$ \\\\\n",
      "\t\\toprule\n",
      "\t\\multicolumn{1}{c}{} & \\multicolumn{3}{c}{$\\Sigma_{i\\neq j}$-deformation} & \\multicolumn{3}{c}{$\\rm{pow}_{+}$-deformation} \\\\\n",
      "\tStatistic & $\\epsilon_{95\\%\\mathrm{CL}}$ & $\\epsilon_{99\\%\\mathrm{CL}}$ & $t$ (s) & $\\epsilon_{95\\%\\mathrm{CL}}$ & $\\epsilon_{99\\%\\mathrm{CL}}$ & $t$ (s) \\\\\n",
      "\t\\midrule\n",
      "\t$t_{\\mathrm{NPLM}}$ & $0.00159_{-0.00089}^{+0.001}$ & $0.00239_{-0.00092}^{+0.00081}$ & $37314$ & $0.00257_{-0.00095}^{+0.00089}$ & $0.00329_{-0.00069}^{+0.00074}$ & $35528$ \\\\\n",
      "\t\\toprule\n",
      "\t\\multicolumn{1}{c}{} & \\multicolumn{3}{c}{$\\rm{pow}_{-}$-deformation} & \\multicolumn{3}{c}{$\\mathcal{N}$-deformation} \\\\\n",
      "\tStatistic & $\\epsilon_{95\\%\\mathrm{CL}}$ & $\\epsilon_{99\\%\\mathrm{CL}}$ & $t$ (s) & $\\epsilon_{95\\%\\mathrm{CL}}$ & $\\epsilon_{99\\%\\mathrm{CL}}$ & $t$ (s) \\\\\n",
      "\t\\midrule\n",
      "\t$t_{\\mathrm{NPLM}}$ & $0.00276_{-0.0011}^{+0.00083}$ & $0.00344_{-0.00072}^{+0.00071}$ & $28707$ & $0.01222_{-0.0051}^{+0.0024}$ & $0.01421_{-0.0018}^{+0.0021}$ & $26004$ \\\\\n",
      "\t\\toprule\n",
      "\t\\multicolumn{1}{c}{} & \\multicolumn{3}{c}{$\\mathcal{U}$-deformation} & \\multicolumn{3}{c}{Timing} \\\\\n",
      "\tStatistic & $\\epsilon_{95\\%\\mathrm{CL}}$ & $\\epsilon_{99\\%\\mathrm{CL}}$ & $t$ (s) & $t^{\\mathrm{null}}$ (s) \\\\\n",
      "\t\\midrule\n",
      "\t$t_{\\mathrm{NPLM}}$ & $0.02112_{-0.0086}^{+0.0039}$ & $0.02524_{-0.0037}^{+0.003}$ & $24756$ & $4468$ \\\\\n",
      "\t\\bottomrule\n",
      "\\end{tabular}\n"
     ]
    },
    {
     "name": "stderr",
     "output_type": "stream",
     "text": [
      "/leonardo_scratch/fast/INF24_pmlhep_1/sgrossi0/projects/TwoSampleTest/NPLM_JetNetMetrics/notebooks/shared.py:554: FutureWarning: The behavior of Series.replace (and DataFrame.replace) with CategoricalDtype is deprecated. In a future version, replace will only be used for cases that preserve the categories. To change the categories, use ser.cat.rename_categories instead.\n",
      "  return df.replace(column_replacements)\n"
     ]
    }
   ],
   "source": [
    "#tex_string = shared.generate_result_latex_wide(results_df, times_df, nstring = \"10^{4}\")\n",
    "tex_string = shared.generate_result_latex_nplm(results_df, times_df, title = \"{\\\\bf Scaled Jet features with $\\\\mathbf{n=m=2\\cdot 10^{4}}$}\")\n",
    "print(tex_string)"
   ]
  },
  {
   "cell_type": "code",
   "execution_count": 26,
   "metadata": {},
   "outputs": [
    {
     "name": "stdout",
     "output_type": "stream",
     "text": [
      "LaTeX table code has been written to results/jet_features/tests/20K_preprocessed/results_table_M_7000_lam_1e-08.tex\n"
     ]
    }
   ],
   "source": [
    "shared.save_latex_nplm(tex_string, model_dir, f\"results_table_M_{m_value}_lam_{lam_value}.tex\")"
   ]
  },
  {
   "cell_type": "code",
   "execution_count": 27,
   "metadata": {},
   "outputs": [
    {
     "name": "stdout",
     "output_type": "stream",
     "text": [
      "\\begin{tabular}{l|llr|llr}\n",
      "\t\\toprule\n",
      "\t\\multicolumn{7}{c}{{\\bf Scaled Jet features with $\\mathbf{n=m=2\\cdot 10^{4}}$}} \\\\\n",
      "\t\\toprule\n",
      "\t\\multicolumn{1}{c}{} & \\multicolumn{3}{c}{$\\mu$-deformation} & \\multicolumn{3}{c}{$\\Sigma_{ii}$-deformation} \\\\\n",
      "\tStatistic & $\\epsilon_{95\\%\\mathrm{CL}}$ & $\\epsilon_{99\\%\\mathrm    {CL}}$ & $t$ (s) & $\\epsilon_{95\\%\\mathrm{CL}}$ & $\\epsilon_{99\\%\\mathrm{CL}}$ & $t$ (s) \\\\\n",
      "\t\\midrule\n",
      "\t$t_{\\mathrm{SW}}$ & $0.02498_{-0.0089}^{+0.0068}$ & $0.0347_{-0.007}^{+0.0078}$ & ${\\mathbf{1856}}$ & $0.03464_{-0.014}^{+0.011}$ & $0.0454_{-0.012}^{+0.011}$ & ${\\mathbf{1983}}$ \\\\\n",
      "\t$t_{\\overline{\\mathrm{KS}}}$ & $0.02347_{-0.0084}^{+0.0081}$ & $0.0326_{-0.0065}^{+0.0073}$ & $2379$ & $0.03199_{-0.013}^{+0.012}$ & $0.04302_{-0.012}^{+0.012}$ & $3749$ \\\\\n",
      "\t$t_{\\mathrm{SKS}}$ & ${\\mathbf{0.01854_{-0.0078}^{+0.0052}}}$ & ${\\mathbf{0.02407_{-0.0075}^{+0.0044}}}$ & $5681$ & $0.03791_{-0.016}^{+0.012}$ & $0.04866_{-0.014}^{+0.012}$ & $6885$ \\\\\n",
      "\t$t_{\\mathrm{FGD}}$ & $0.0322_{-0.013}^{+0.009}$ & $0.03958_{-0.0066}^{+0.01}$ & $4014$ & ${\\mathbf{0.03122_{-0.012}^{+0.013}}}$ & ${\\mathbf{0.04039_{-0.0098}^{+0.012}}}$ & $3399$ \\\\\n",
      "\t$t_{\\mathrm{MMD}}$ & $0.10604_{-0.037}^{+0.024}$ & $0.13954_{-0.025}^{+0.019}$ & $6850$ & $0.05372_{-0.021}^{+0.025}$ & $0.06748_{-0.021}^{+0.024}$ & $12626$ \\\\\n",
      "\\rowcolor{red!35}\t$t_{\\mathrm{NPLM}}$ & $0.00036_{-0.00015}^{+8e-05}$ & $0.00043_{-9e-05}^{+8e-05}$ & $19127$ & $0.00213_{-0.00086}^{+0.00055}$ & $0.00255_{-0.00053}^{+0.00049}$ & $18043$ \\\\\n",
      "\\rowcolor{blue!35}\t$t_{\\mathrm{NPLM}}$ & $5e-05_{-2e-05}^{+1e-05}$ & $6e-05_{-1e-05}^{+1e-05}$ & $34148$ & $0.00029_{-0.00011}^{+8e-05}$ & $0.00036_{-7e-05}^{+7e-05}$ & $32391$ \\\\\n",
      "\t\\toprule\n",
      "\t\\multicolumn{1}{c}{} & \\multicolumn{3}{c}{$\\Sigma_{i\\neq j}$-deformation} & \\multicolumn{3}{c}{$\\rm{pow}_{+}$-deformation} \\\\\n",
      "Statistic & $\\epsilon_{95\\%\\mathrm{CL}}$ & $\\epsilon_{99\\%\\mathrm{CL}}$ & $t$ (s) & $\\epsilon_{95\\%\\mathrm{CL}}$ & $\\epsilon_{99\\%\\mathrm{CL}}$ & $t$ (s) \\\\\n",
      "\t\\midrule\n",
      "\t$t_{\\mathrm{SW}}$ & $0.08331_{-0.03}^{+0.027}$ & $0.11519_{-0.022}^{+0.026}$ & $1581$ & $0.04046_{-0.016}^{+0.015}$ & $0.05256_{-0.016}^{+0.016}$ & ${\\mathbf{1560}}$ \\\\\n",
      "\t$t_{\\overline{\\mathrm{KS}}}$ & $1.03549_{-0.015}^{+0.0094}$ & $1.04064_{-0.0051}^{+0.015}$ & ${\\mathbf{1173}}$ & $0.03495_{-0.014}^{+0.014}$ & $0.04617_{-0.014}^{+0.015}$ & $6217$ \\\\\n",
      "\t$t_{\\mathrm{SKS}}$ & $0.09468_{-0.035}^{+0.035}$ & $0.12683_{-0.024}^{+0.033}$ & $5589$ & $0.06771_{-0.029}^{+0.02}$ & $0.08308_{-0.022}^{+0.02}$ & $9295$ \\\\\n",
      "\t$t_{\\mathrm{FGD}}$ & ${\\mathbf{0.00933_{-0.0032}^{+0.0032}}}$ & ${\\mathbf{0.01233_{-0.0022}^{+0.0031}}}$ & $6144$ & $0.03586_{-0.016}^{+0.017}$ & $0.04367_{-0.013}^{+0.017}$ & $3613$ \\\\\n",
      "\t$t_{\\mathrm{MMD}}$ & $0.1341_{-0.058}^{+0.062}$ & $0.17463_{-0.046}^{+0.05}$ & $79177$ & ${\\mathbf{0.03099_{-0.014}^{+4.9}}}$ & ${\\mathbf{0.0413_{-0.015}^{+4.9}}}$ & $13970$ \\\\\n",
      "\\rowcolor{red!35}\t$t_{\\mathrm{NPLM}}$ & $0.0038_{-0.00053}^{+0.0018}$ & $0.00439_{-0.00088}^{+0.0022}$ & $17539$ & $0.0137_{-0.0054}^{+0.0041}$ & $0.0164_{-0.0041}^{+0.0036}$ & $21509$ \\\\\n",
      "\\rowcolor{blue!35}\t$t_{\\mathrm{NPLM}}$ & $0.00159_{-0.00089}^{+0.001}$ & $0.00239_{-0.00092}^{+0.00081}$ & $37314$ & $0.00257_{-0.00095}^{+0.00089}$ & $0.00329_{-0.00069}^{+0.00074}$ & $35528$ \\\\\n",
      "\t\\toprule\n",
      "\t\\multicolumn{1}{c}{} & \\multicolumn{3}{c}{$\\rm{pow}_{-}$-deformation} & \\multicolumn{3}{c}{$\\mathcal{N}$-deformation} \\\\\n",
      "Statistic & $\\epsilon_{95\\%\\mathrm{CL}}$ & $\\epsilon_{99\\%\\mathrm{CL}}$ & $t$ (s) & $\\epsilon_{95\\%\\mathrm{CL}}$ & $\\epsilon_{99\\%\\mathrm{CL}}$ & $t$ (s) \\\\\n",
      "\t\\midrule\n",
      "\t$t_{\\mathrm{SW}}$ & $0.0434_{-0.018}^{+4.9}$ & $0.05684_{-0.016}^{+4.9}$ & ${\\mathbf{1381}}$ & $0.15561_{-0.031}^{+0.026}$ & $0.17515_{-0.025}^{+0.026}$ & ${\\mathbf{1501}}$ \\\\\n",
      "\t$t_{\\overline{\\mathrm{KS}}}$ & $0.03324_{-0.014}^{+0.013}$ & ${\\mathbf{0.04369_{-0.013}^{+0.015}}}$ & $7555$ & $0.13682_{-0.027}^{+0.018}$ & $0.15251_{-0.01}^{+0.017}$ & $7585$ \\\\\n",
      "\t$t_{\\mathrm{SKS}}$ & $0.06451_{-0.028}^{+0.022}$ & $0.08132_{-0.021}^{+0.021}$ & $10657$ & $0.12378_{-0.056}^{+0.028}$ & $0.1448_{-0.039}^{+0.028}$ & $11391$ \\\\\n",
      "\t$t_{\\mathrm{FGD}}$ & $0.03489_{-0.015}^{+0.02}$ & $0.04502_{-0.012}^{+0.02}$ & $4270$ & ${\\mathbf{0.0948_{-0.02}^{+0.015}}}$ & ${\\mathbf{0.11199_{-0.013}^{+0.0096}}}$ & $4014$ \\\\\n",
      "\t$t_{\\mathrm{MMD}}$ & ${\\mathbf{0.03264_{-0.016}^{+0.024}}}$ & $0.048_{-0.016}^{+0.02}$ & $15086$ & $0.32021_{-0.066}^{+0.058}$ & $0.37016_{-0.041}^{+0.041}$ & $11399$ \\\\\n",
      "\\rowcolor{red!35}\t$t_{\\mathrm{NPLM}}$ & $0.01579_{-0.0058}^{+0.0042}$ & $0.01853_{-0.0041}^{+0.0041}$ & $16005$ & $0.03474_{-0.0077}^{+0.0059}$ & $0.03885_{-0.006}^{+0.005}$ & $14859$ \\\\\n",
      "\\rowcolor{blue!35}\t$t_{\\mathrm{NPLM}}$ & $0.00276_{-0.0011}^{+0.00083}$ & $0.00344_{-0.00072}^{+0.00071}$ & $28707$ & $0.01222_{-0.0051}^{+0.0024}$ & $0.01421_{-0.0018}^{+0.0021}$ & $26004$ \\\\\n",
      "\t\\toprule\n",
      "\t\\multicolumn{1}{c}{} & \\multicolumn{3}{c}{$\\mathcal{U}$-deformation} & \\multicolumn{3}{c}{Timing} \\\\\n",
      "Statistic & $\\epsilon_{95\\%\\mathrm{CL}}$ & $\\epsilon_{99\\%\\mathrm{CL}}$ & $t$ (s) & $t^{\\mathrm{null}}$ (s) \\\\\n",
      "\t\\midrule\n",
      "\t$t_{\\mathrm{SW}}$ & $0.2705_{-0.059}^{+0.047}$ & $0.30356_{-0.029}^{+0.045}$ & ${\\mathbf{1396}}$ & ${\\mathbf{271}}$ \\\\\n",
      "\t$t_{\\overline{\\mathrm{KS}}}$ & $0.23391_{-0.049}^{+0.024}$ & $0.25939_{-0.024}^{+0.027}$ & $8297$ & $324$ \\\\\n",
      "\t$t_{\\mathrm{SKS}}$ & $0.20877_{-0.082}^{+0.051}$ & $0.24937_{-0.046}^{+0.042}$ & $10459$ & $870$ \\\\\n",
      "\t$t_{\\mathrm{FGD}}$ & ${\\mathbf{0.17213_{-0.026}^{+0.014}}}$ & ${\\mathbf{0.19235_{-0.015}^{+0.016}}}$ & $2864$ & $497$ \\\\\n",
      "\t$t_{\\mathrm{MMD}}$ & $0.55884_{-0.11}^{+0.088}$ & $0.6454_{-0.07}^{+0.072}$ & $10439$ & $949$ \\\\\n",
      "\\rowcolor{red!35}\t$t_{\\mathrm{NPLM}}$ & $0.06096_{-0.015}^{+0.0096}$ & $0.06726_{-0.0094}^{+0.0067}$ & $18750$ & $2439$ \\\\\n",
      "\\rowcolor{blue!35}\t$t_{\\mathrm{NPLM}}$ & $0.02112_{-0.0086}^{+0.0039}$ & $0.02524_{-0.0037}^{+0.003}$ & $24756$ & $4468$ \\\\\n",
      "\t\\bottomrule\n",
      "\\end{tabular}\n"
     ]
    }
   ],
   "source": [
    "import re\n",
    "\n",
    "# Path to the old metrics results table\n",
    "file_path_nplm_jetnet_old = \"/leonardo_scratch/fast/INF24_pmlhep_1/sgrossi0/projects/TwoSampleTest/NPLM_JetNetMetrics/results/jet_features/tests/20K_preprocessed/results_table_updated.tex\"\n",
    "with open(file_path_nplm_jetnet_old, 'r') as file:\n",
    "    table_nplm_jetnet_old = file.read()\n",
    "\n",
    "\n",
    "# Extract rows containing \"$t_{\\mathrm{NPLM}}$\" and add coloring\n",
    "nplm_rows = []\n",
    "lines_nplm = tex_string.splitlines()\n",
    "for line in lines_nplm:\n",
    "    if \"$t_{\\mathrm{NPLM}}$\" in line:\n",
    "        nplm_rows.append(\"\\\\rowcolor{blue!35}\" + line)\n",
    "\n",
    "# Extract rows containing \"$t_{\\mathrm{NPLM}}$\" with red coloring from the old table\n",
    "nplm_old_rows = []\n",
    "lines_nplm_old = table_nplm_jetnet_old.splitlines()\n",
    "for line in lines_nplm_old:\n",
    "    if \"\\\\rowcolor{red!35}\t$t_{\\mathrm{NPLM}}$\" in line:\n",
    "        nplm_old_rows.append(line)\n",
    "\n",
    "# Extract rows for SW, KS, SKS, FGD, MMD, and LLR metrics\n",
    "sw_rows = []\n",
    "lines_sw = table_nplm_jetnet_old.splitlines()\n",
    "for line in lines_sw:\n",
    "    if \"$t_{\\mathrm{SW}}$\" in line:\n",
    "        sw_rows.append(line)\n",
    "\n",
    "ks_rows = []\n",
    "lines_ks = table_nplm_jetnet_old.splitlines()\n",
    "for line in lines_ks:\n",
    "    if \"$t_{\\overline{\\mathrm{KS}}}$\" in line:\n",
    "        ks_rows.append(line)\n",
    "\n",
    "sks_rows = []\n",
    "lines_sks = table_nplm_jetnet_old.splitlines()\n",
    "for line in lines_sks:\n",
    "    if \"$t_{\\mathrm{SKS}}$\" in line:\n",
    "        sks_rows.append(line)\n",
    "\n",
    "fgd_rows = []\n",
    "lines_fgd = table_nplm_jetnet_old.splitlines()\n",
    "for line in lines_fgd:\n",
    "    if \"$t_{\\mathrm{FGD}}$\" in line:\n",
    "        fgd_rows.append(line)\n",
    "\n",
    "mmd_rows = []\n",
    "lines_mmd = table_nplm_jetnet_old.splitlines()\n",
    "for line in lines_mmd:\n",
    "    if \"$t_{\\mathrm{MMD}}$\" in line:\n",
    "        mmd_rows.append(line)\n",
    "\n",
    "# Process old lines and construct the updated table\n",
    "lines_old = table_nplm_jetnet_old.splitlines()\n",
    "new_lines = []\n",
    "i = 0  # Index to track row additions\n",
    "\n",
    "for line in lines_old:\n",
    "    # Include lines unrelated to metrics\n",
    "    if (\n",
    "        \"$t_{\\\\mathrm{SW}}$\" not in line\n",
    "        and \"$t_{\\\\overline{\\\\mathrm{KS}}}$\" not in line\n",
    "        and \"$t_{\\\\mathrm{SKS}}$\" not in line\n",
    "        and \"$t_{\\\\mathrm{FGD}}$\" not in line\n",
    "        and \"$t_{\\\\mathrm{MMD}}$\" not in line\n",
    "        and \"$t_{\\\\mathrm{LLR}}$\" not in line\n",
    "        and \"\\\\rowcolor{red!35}\t$t_{\\mathrm{NPLM}}$\" not in line\n",
    "    ):\n",
    "        new_lines.append(line)\n",
    "    elif \"$t_{\\\\mathrm{SW}}$\" in line:\n",
    "        # Add SW line and append corresponding rows from other metrics\n",
    "        new_lines.append(line)\n",
    "        new_lines.append(ks_rows[i])\n",
    "        new_lines.append(sks_rows[i])\n",
    "        new_lines.append(fgd_rows[i])\n",
    "        new_lines.append(mmd_rows[i])\n",
    "        new_lines.append(nplm_old_rows[i])\n",
    "        new_lines.append(nplm_rows[i])\n",
    "        i = (i + 1) % len(nplm_rows)  # Ensure index doesn't exceed `nplm_rows` length\n",
    "    else:\n",
    "        pass\n",
    "\n",
    "# Combine lines into the updated table\n",
    "updated_table = \"\\n\".join(new_lines)\n",
    "\n",
    "# Print the updated table\n",
    "print(updated_table)\n"
   ]
  },
  {
   "cell_type": "code",
   "execution_count": 28,
   "metadata": {},
   "outputs": [
    {
     "name": "stdout",
     "output_type": "stream",
     "text": [
      "LaTeX table code has been written to results/jet_features/tests/20K_preprocessed/results_table_hyper_par.tex\n"
     ]
    }
   ],
   "source": [
    "shared.save_latex_nplm(updated_table, model_dir, f\"results_table_hyper_par.tex\")"
   ]
  },
  {
   "cell_type": "markdown",
   "metadata": {},
   "source": [
    "## Compare p-values for different epsilon values"
   ]
  },
  {
   "cell_type": "code",
   "execution_count": 26,
   "metadata": {},
   "outputs": [
    {
     "name": "stdout",
     "output_type": "stream",
     "text": [
      "Smallest epsilon values for each deformation in the 'central' bound (0.99 confidence level):\n",
      "  cov_diag: 0.04039237426440856\n",
      "  cov_off_diag: 0.01232863010615981\n",
      "  mean: 0.024072359484303973\n",
      "  power_abs_down: 0.043687632126605536\n",
      "  power_abs_up: 0.04130130465853199\n",
      "  random_normal: 0.11199432037574297\n",
      "  random_uniform: 0.19235148167081206\n",
      "[0.024072359484303973, 0.04039237426440856, 0.01232863010615981, 0.04130130465853199, 0.043687632126605536, 0.11199432037574297, 0.19235148167081206]\n"
     ]
    }
   ],
   "source": [
    "import json\n",
    "\n",
    "# Path to the other metrics results file\n",
    "path_other_metrics_results = \"/leonardo_scratch/fast/INF24_pmlhep_1/rtorre00/projects/JetNetMetrics/results/jet_features/tests/20K_preprocessed/exclusion_limits.json\"\n",
    "\n",
    "# Dictionary to store the smallest epsilon for each deformation\n",
    "smallest_epsilons = {}\n",
    "\n",
    "with open(path_other_metrics_results, 'r') as file:\n",
    "    other_metrics_results = json.load(file)\n",
    "\n",
    "# Iterate over the metrics and find the smallest epsilon for 0.99 confidence level in 'central' bound\n",
    "for key, value in other_metrics_results.items():\n",
    "    deformation = value.get(\"deformation\", \"unknown\")\n",
    "    bound = value.get(\"bound\", \"unknown\")\n",
    "    exclusion_list = value.get(\"exclusion_list\", [])\n",
    "    metric_name = value.get(\"name\") \n",
    "\n",
    "    # Only consider the 'central' bound\n",
    "    if bound == \"central\" and metric_name != \"lr\":\n",
    "        for entry in exclusion_list:\n",
    "            if isinstance(entry, list) and entry[0] == 0.99:\n",
    "                epsilon_value = entry[3]  # Epsilon value is at index 3\n",
    "                if deformation not in smallest_epsilons:\n",
    "                    smallest_epsilons[deformation] = epsilon_value\n",
    "                else:\n",
    "                    # Update if a smaller epsilon is found\n",
    "                    smallest_epsilons[deformation] = min(smallest_epsilons[deformation], epsilon_value)\n",
    "\n",
    "print(\"Smallest epsilon values for each deformation in the 'central' bound (0.99 confidence level):\")\n",
    "for deformation, epsilon in smallest_epsilons.items():\n",
    "    print(f\"  {deformation}: {epsilon}\")\n",
    "\n",
    "# Order the results as in tables: mean, cov_diag, cov_off_diag, pow_abs_up, pow_abs_down, random_normal, random_uniform    \n",
    "lowest_mean_eps = smallest_epsilons.get(\"mean\")\n",
    "lowest_cov_diag_eps = smallest_epsilons.get(\"cov_diag\")\n",
    "lowest_cov_off_diag_eps = smallest_epsilons.get(\"cov_off_diag\")\n",
    "lowest_power_abs_up_eps = smallest_epsilons.get(\"power_abs_up\")\n",
    "lowest_power_abs_down_eps = smallest_epsilons.get(\"power_abs_down\")\n",
    "lowest_random_normal_eps = smallest_epsilons.get(\"random_normal\")\n",
    "lowest_random_uniform_eps = smallest_epsilons.get(\"random_uniform\")\n",
    "\n",
    "input_values = [lowest_mean_eps, lowest_cov_diag_eps, lowest_cov_off_diag_eps, lowest_power_abs_up_eps, lowest_power_abs_down_eps, lowest_random_normal_eps, lowest_random_uniform_eps]\n",
    "\n",
    "print(input_values)"
   ]
  },
  {
   "cell_type": "code",
   "execution_count": 27,
   "metadata": {},
   "outputs": [
    {
     "name": "stdout",
     "output_type": "stream",
     "text": [
      "[0.024072359484303973, 0.04039237426440856, 0.01232863010615981, 0.04130130465853199, 0.043687632126605536, 0.11199432037574297, 0.19235148167081206]\n",
      "\n",
      "Checking deformation mean for input value: 0.024072359484303973\n",
      "  The closest epsilon to the input as been found:\n",
      "  Bound: upper, Epsilon value: 0.03125 (within 30% tolerance)\n",
      "  Position: 5, Corresponding NPLM metric value: 75836.29203332035\n",
      "  The corresponding p-value is: 0.0 %\n",
      "\n",
      "Checking deformation cov_diag for input value: 0.04039237426440856\n",
      "  The closest epsilon to the input as been found:\n",
      "  Bound: upper, Epsilon value: 0.0338442325592041 (within 17% tolerance)\n",
      "  Position: 22, Corresponding NPLM metric value: 7063.971186535517\n",
      "  The corresponding p-value is: 0.0 %\n",
      "\n",
      "Checking deformation cov_off_diag for input value: 0.01232863010615981\n",
      "  The closest epsilon to the input as been found:\n",
      "  Bound: upper, Epsilon value: 0.013368725776672363 (within 9% tolerance)\n",
      "  Position: 23, Corresponding NPLM metric value: 416.4345546598656\n",
      "  The corresponding p-value is: 0.0 %\n",
      "\n",
      "Checking deformation power_abs_up for input value: 0.04130130465853199\n",
      "  The closest epsilon to the input as been found:\n",
      "  Bound: lower, Epsilon value: 0.039320945739746094 (within 5% tolerance)\n",
      "  Position: 20, Corresponding NPLM metric value: 345.4152219714071\n",
      "  The corresponding p-value is: 0.0 %\n",
      "\n",
      "Checking deformation power_abs_down for input value: 0.043687632126605536\n",
      "  The closest epsilon to the input as been found:\n",
      "  Bound: upper, Epsilon value: 0.05058479309082031 (within 16% tolerance)\n",
      "  Position: 19, Corresponding NPLM metric value: 433.4359457722332\n",
      "  The corresponding p-value is: 0.0 %\n",
      "\n",
      "Checking deformation random_normal for input value: 0.11199432037574297\n",
      "  The closest epsilon to the input as been found:\n",
      "  Bound: upper, Epsilon value: 0.10060882568359375 (within 11% tolerance)\n",
      "  Position: 17, Corresponding NPLM metric value: 1658.3913608687246\n",
      "  The corresponding p-value is: 0.0 %\n",
      "\n",
      "Checking deformation random_uniform for input value: 0.19235148167081206\n",
      "  The closest epsilon to the input as been found:\n",
      "  Bound: upper, Epsilon value: 0.186737060546875 (within 3% tolerance)\n",
      "  Position: 15, Corresponding NPLM metric value: 2124.3964837487756\n",
      "  The corresponding p-value is: 0.0 %\n"
     ]
    }
   ],
   "source": [
    "# Input from previous panel: best results from other metrics \n",
    "print(input_values)\n",
    "\n",
    "# Corresponding deformations for each input value\n",
    "deformations_to_check = [\n",
    "    \"mean\", \"cov_diag\", \"cov_off_diag\", \n",
    "    \"power_abs_up\", \"power_abs_down\", \n",
    "    \"random_normal\", \"random_uniform\"\n",
    "]\n",
    "\n",
    "# Group results by deformation\n",
    "grouped_by_deformation = {}\n",
    "\n",
    "for key, value in global_results.items():\n",
    "    deformation = value.get('deformation', 'unknown')\n",
    "    bound = value.get('bound', 'unknown')\n",
    "    eps_list = value.get('eps_list', [])\n",
    "    metrics_mean_list = value.get('metrics_mean_list', [])  # Assume metrics_means exists in global_results\n",
    "\n",
    "    if deformation not in grouped_by_deformation:\n",
    "        grouped_by_deformation[deformation] = {}\n",
    "    grouped_by_deformation[deformation][bound] = {\n",
    "        \"eps_list\": eps_list,\n",
    "        \"metrics_mean_list\": metrics_mean_list,\n",
    "    }\n",
    "\n",
    "dist_null = np.sort(dist_null)\n",
    "\n",
    "p_values = []\n",
    "\n",
    "# Check proximity for each input value and its corresponding deformation\n",
    "for input_value, deformation in zip(input_values, deformations_to_check):\n",
    "    print(f\"\\nChecking deformation {deformation} for input value: {input_value}\")\n",
    "\n",
    "    bounds = grouped_by_deformation.get(deformation, {})\n",
    "    found_near = False\n",
    "    tolerance_multiplier = 0.01  \n",
    "\n",
    "    while tolerance_multiplier <= 10:  \n",
    "        tolerance = tolerance_multiplier * input_value  \n",
    "        closest_epsilon = None\n",
    "        closest_distance = float('inf')\n",
    "\n",
    "        for bound, data in bounds.items():\n",
    "            eps_list = data[\"eps_list\"]\n",
    "            metrics_mean_list = data[\"metrics_mean_list\"]\n",
    "\n",
    "            for idx, eps in enumerate(eps_list):\n",
    "                distance = abs(eps - input_value)\n",
    "                if distance <= tolerance and distance < closest_distance:\n",
    "                    closest_epsilon = (bound, eps, idx)  \n",
    "                    closest_distance = distance\n",
    "\n",
    "        if closest_epsilon:\n",
    "            bound, eps, position = closest_epsilon\n",
    "            metrics_mean_list_value = bounds[bound][\"metrics_mean_list\"][position]\n",
    "            print(\n",
    "                f\"  The closest epsilon to the input as been found:\\n\"\n",
    "                f\"  Bound: {bound}, Epsilon value: {eps} (within {tolerance_multiplier*100:.0f}% tolerance)\"\n",
    "            )\n",
    "            print(f\"  Position: {position + 1}, Corresponding NPLM metric value: {metrics_mean_list_value}\")\n",
    "            \n",
    "            count_greater = np.sum(dist_null > metrics_mean_list_value)\n",
    "            p_value = count_greater / len(dist_null)\n",
    "            \n",
    "            print(f\"  The corresponding p-value is: {100*p_value} %\")\n",
    "            found_near = True\n",
    "            break  \n",
    "\n",
    "        tolerance_multiplier += 0.01 \n",
    "\n",
    "    if not found_near:\n",
    "        print(\"  No epsilon values found within a tolerance of 10 times the input value.\")"
   ]
  },
  {
   "cell_type": "markdown",
   "metadata": {},
   "source": [
    "## Pairwise distance tests"
   ]
  },
  {
   "cell_type": "code",
   "execution_count": 44,
   "metadata": {},
   "outputs": [
    {
     "name": "stdout",
     "output_type": "stream",
     "text": [
      " The 90th percentile is: 4.2\n",
      " The number of points in the plot is: 49995000\n"
     ]
    },
    {
     "data": {
      "image/png": "[encoded data removed]",
      "text/plain": [
       "<Figure size 2000x1000 with 1 Axes>"
      ]
     },
     "metadata": {},
     "output_type": "display_data"
    },
    {
     "data": {
      "image/png": "[encoded data removed]",
      "text/plain": [
       "<Figure size 2000x1000 with 1 Axes>"
      ]
     },
     "metadata": {},
     "output_type": "display_data"
    }
   ],
   "source": [
    "from scipy.spatial.distance import pdist\n",
    "import math\n",
    "\n",
    "random_dist = tf.random.shuffle(dataset)\n",
    "\n",
    "ref_sample_for_sigma = random_dist[:10000] \n",
    "pairwise_distance = pdist(ref_sample_for_sigma)\n",
    "perc = 90\n",
    "percentile_90 = round(np.percentile(pairwise_distance,perc),1)\n",
    "\n",
    "print(f\" The 90th percentile is: {percentile_90}\")\n",
    "print(f\" The number of points in the plot is: {math.comb(10000,2)}\")\n",
    "\n",
    "plt.figure(figsize=(20, 10))\n",
    "plt.hist(pairwise_distance, bins=10000, color='skyblue', edgecolor='black', alpha=0.7)\n",
    "plt.axvline(percentile_90, color='red', linestyle='dashed', linewidth=2, label=f'90th percentile: {percentile_90}')\n",
    "plt.title('Histogram of Pairwise Distances')\n",
    "plt.xlabel('Pairwise Distance')\n",
    "plt.ylabel('Frequency')\n",
    "plt.legend()\n",
    "plt.show()\n",
    "\n",
    "plt.figure(figsize=(20, 10))\n",
    "plt.hist(pairwise_distance, bins=10000, color='skyblue', edgecolor='black', alpha=0.7)\n",
    "plt.axvline(percentile_90, color='red', linestyle='dashed', linewidth=2, label=f'90th percentile: {percentile_90}')\n",
    "plt.title('Histogram of Pairwise Distances')\n",
    "plt.yscale('log')\n",
    "plt.xlabel('Pairwise Distance')\n",
    "plt.ylabel('Frequency')\n",
    "plt.legend()\n",
    "plt.show()\n"
   ]
  },
  {
   "cell_type": "code",
   "execution_count": 17,
   "metadata": {},
   "outputs": [
    {
     "name": "stdout",
     "output_type": "stream",
     "text": [
      " The 90th percentile is: 4.3\n"
     ]
    }
   ],
   "source": [
    "from scipy.spatial.distance import pdist\n",
    "\n",
    "def shuffle_dataset(seed):\n",
    "    return tf.random.shuffle(dataset, seed=seed)\n",
    "\n",
    "l = len(dataset) // 2\n",
    "dstmp = shuffle_dataset(seed = 0)\n",
    "dist_1_null = tf.cast(dstmp[:l], tf.float64)\n",
    "\n",
    "# dstmp = shuffle_dataset(seed = 1000)\n",
    "# dist_1_null = tf.cast(dstmp[:l], tf.float64)\n",
    "\n",
    "ref_sample_for_sigma = dist_1_null[:10000] \n",
    "pairwise_distance = pdist(ref_sample_for_sigma)\n",
    "perc = 90\n",
    "percentile_90 = round(np.percentile(pairwise_distance,perc),1)\n",
    "\n",
    "print(f\" The 90th percentile is: {percentile_90}\")\n",
    "    "
   ]
  },
  {
   "cell_type": "code",
   "execution_count": 20,
   "metadata": {},
   "outputs": [
    {
     "name": "stdout",
     "output_type": "stream",
     "text": [
      " The 90th percentile is: 3.9\n"
     ]
    }
   ],
   "source": [
    "mean_4d = tf.zeros(4)  \n",
    "stddev_4d = tf.ones(4)  \n",
    "gaussian_4d = tfp.distributions.Normal(loc=mean_4d, scale=stddev_4d)\n",
    "\n",
    "ref_sample_for_sigma = gaussian_4d.sample(10000)\n",
    "pairwise_distance = pdist(ref_sample_for_sigma)\n",
    "perc = 90\n",
    "percentile_90 = round(np.percentile(pairwise_distance,perc),1)\n",
    "\n",
    "print(f\" The 90th percentile is: {percentile_90}\")"
   ]
  }
 ],
 "metadata": {
  "kernelspec": {
   "display_name": "tf2_custom_torch2.2",
   "language": "python",
   "name": "python3"
  },
  "language_info": {
   "codemirror_mode": {
    "name": "ipython",
    "version": 3
   },
   "file_extension": ".py",
   "mimetype": "text/x-python",
   "name": "python",
   "nbconvert_exporter": "python",
   "pygments_lexer": "ipython3",
   "version": "3.11.6"
  }
 },
 "nbformat": 4,
 "nbformat_minor": 2
}
