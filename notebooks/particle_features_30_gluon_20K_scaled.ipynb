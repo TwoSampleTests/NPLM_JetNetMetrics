{
 "cells": [
  {
   "cell_type": "markdown",
   "metadata": {},
   "source": [
    "# Initialize"
   ]
  },
  {
   "cell_type": "code",
   "execution_count": 26,
   "metadata": {},
   "outputs": [
    {
     "name": "stdout",
     "output_type": "stream",
     "text": [
      "/leonardo_scratch/fast/INF24_pmlhep_1/sgrossi0/projects/TwoSampleTest/NPLM_JetNetMetrics\n"
     ]
    },
    {
     "name": "stderr",
     "output_type": "stream",
     "text": [
      "/leonardo_scratch/fast/INF24_pmlhep_1/envs/tf2_custom_torch2.2/lib/python3.11/site-packages/IPython/core/magics/osm.py:417: UserWarning: This is now an optional IPython functionality, setting dhist requires you to install the `pickleshare` library.\n",
      "  self.shell.db['dhist'] = compress_dhist(dhist)[-100:]\n"
     ]
    }
   ],
   "source": [
    "%cd \"/leonardo_scratch/fast/INF24_pmlhep_1/sgrossi0/projects/TwoSampleTest/NPLM_JetNetMetrics\""
   ]
  },
  {
   "cell_type": "code",
   "execution_count": 27,
   "metadata": {},
   "outputs": [
    {
     "name": "stdout",
     "output_type": "stream",
     "text": [
      "2024-11-13 15:48:41.029902: Importing os...\n",
      "2024-11-13 15:48:41.030056: Importing sys...\n",
      "Visible devices: [1]\n",
      "2024-11-13 15:48:41.030304: Importing timer from timeit...\n",
      "2024-11-13 15:48:41.030374: Setting env variables for tf import (only device(s) [1] will be available)...\n",
      "2024-11-13 15:48:41.030502: Importing numpy...\n",
      "2024-11-13 15:48:41.030562: Importing matplotlib...\n",
      "2024-11-13 15:48:41.030621: Importing h5py...\n",
      "2024-11-13 15:48:41.030674: Importing importlib.util...\n",
      "2024-11-13 15:48:41.030727: Importing json...\n",
      "2024-11-13 15:48:41.030777: Importing pandas...\n",
      "2024-11-13 15:48:41.030828: Importing random...\n",
      "2024-11-13 15:48:41.030879: Importing scipy utils...\n",
      "2024-11-13 15:48:41.030982: Importing subprocess...\n",
      "2024-11-13 15:48:41.031034: Importing textwrap...\n",
      "2024-11-13 15:48:41.031085: Importing tensorflow...\n",
      "Tensorflow version: 2.16.1\n",
      "2024-11-13 15:48:41.031166: Importing tensorflow_probability...\n",
      "Tensorflow probability version: 0.24.0\n",
      "2024-11-13 15:48:41.031266: Importing timeit...\n",
      "2024-11-13 15:48:41.031323: Importing tqdm...\n",
      "2024-11-13 15:48:41.031377: Importing typing...\n",
      "2024-11-13 15:48:41.031442: Setting tf configs...\n",
      "2024-11-13 15:48:41.031550: Importing GMetrics module...\n",
      "2024-11-13 15:48:41.031686: Importing jetnet.evaluation.gen_metrics module...\n",
      "Successfully loaded GPU #1, model: NVIDIA A100-SXM-64GB\n",
      "Loaded 1 GPUs: ['NVIDIA A100-SXM-64GB']\n",
      "2024-11-13 15:48:41.061250: All done.\n"
     ]
    }
   ],
   "source": [
    "visible_devices = [1]\n",
    "from datetime import datetime\n",
    "print(datetime.now().strftime(\"%Y-%m-%d %H:%M:%S.%f\")+\":\", \"Importing os...\")\n",
    "import os\n",
    "print(datetime.now().strftime(\"%Y-%m-%d %H:%M:%S.%f\")+\":\", \"Importing sys...\")\n",
    "import sys\n",
    "if not any(\"ipykernel\" in arg for arg in sys.argv):\n",
    "    print(datetime.now().strftime(\"%Y-%m-%d %H:%M:%S.%f\")+\":\", \"Importing and initializing argparse...\")\n",
    "    import argparse\n",
    "    parser = argparse.ArgumentParser()\n",
    "    parser.add_argument(\"-v\", \"--visible_devices\", help=\"Set visible devices\", nargs='*', type=list, default=visible_devices)\n",
    "    args = parser.parse_args()\n",
    "    visible_devices = args.visible_devices if args.visible_devices else visible_devices\n",
    "    if not isinstance(visible_devices, list):\n",
    "        raise ValueError(\"Visible devices must be a list of integers\")\n",
    "    for i in visible_devices:\n",
    "        if not isinstance(i, int):\n",
    "            raise ValueError(\"Visible devices must be a list of integers\")\n",
    "print(\"Visible devices:\", visible_devices)\n",
    "print(datetime.now().strftime(\"%Y-%m-%d %H:%M:%S.%f\")+\":\", \"Importing timer from timeit...\")\n",
    "from timeit import default_timer as timer\n",
    "print(datetime.now().strftime(\"%Y-%m-%d %H:%M:%S.%f\")+\":\", \"Setting env variables for tf import (only device(s)\", visible_devices, \"will be available)...\")\n",
    "os.environ[\"CUDA_VISIBLE_DEVICES\"] = ','.join([str(i) for i in visible_devices]) # type: ignore\n",
    "os.environ['TF_CPP_MIN_LOG_LEVEL'] = '2'\n",
    "#os.environ['TF_XLA_FLAGS'] = '--tf_xla_enable_xla_devices'\n",
    "#os.environ['TF_XLA_FLAGS'] = '--tf_xla_auto_jit=2'\n",
    "print(datetime.now().strftime(\"%Y-%m-%d %H:%M:%S.%f\")+\":\", \"Importing numpy...\")\n",
    "import numpy as np # type: ignore\n",
    "print(datetime.now().strftime(\"%Y-%m-%d %H:%M:%S.%f\")+\":\", \"Importing matplotlib...\")\n",
    "from matplotlib import pyplot as plt\n",
    "print(datetime.now().strftime(\"%Y-%m-%d %H:%M:%S.%f\")+\":\", \"Importing h5py...\")\n",
    "import h5py # type: ignore\n",
    "print(datetime.now().strftime(\"%Y-%m-%d %H:%M:%S.%f\")+\":\", \"Importing importlib.util...\")\n",
    "import importlib.util\n",
    "print(datetime.now().strftime(\"%Y-%m-%d %H:%M:%S.%f\")+\":\", \"Importing json...\")\n",
    "import json\n",
    "print(datetime.now().strftime(\"%Y-%m-%d %H:%M:%S.%f\")+\":\", \"Importing pandas...\")\n",
    "import pandas as pd\n",
    "print(datetime.now().strftime(\"%Y-%m-%d %H:%M:%S.%f\")+\":\", \"Importing random...\")\n",
    "import random\n",
    "print(datetime.now().strftime(\"%Y-%m-%d %H:%M:%S.%f\")+\":\", \"Importing scipy utils...\")\n",
    "from scipy.stats import norm, lognorm, chi2, kstwo, kstwobign, ks_2samp, moment\n",
    "from scipy.special import kolmogorov\n",
    "from scipy.optimize import minimize, curve_fit, root, bisect\n",
    "print(datetime.now().strftime(\"%Y-%m-%d %H:%M:%S.%f\")+\":\", \"Importing subprocess...\")\n",
    "import subprocess\n",
    "print(datetime.now().strftime(\"%Y-%m-%d %H:%M:%S.%f\")+\":\", \"Importing textwrap...\")\n",
    "import textwrap\n",
    "print(datetime.now().strftime(\"%Y-%m-%d %H:%M:%S.%f\")+\":\", \"Importing tensorflow...\")\n",
    "import tensorflow as tf # type: ignore\n",
    "print(\"Tensorflow version:\", tf.__version__)\n",
    "print(datetime.now().strftime(\"%Y-%m-%d %H:%M:%S.%f\")+\":\", \"Importing tensorflow_probability...\")\n",
    "import tensorflow_probability as tfp # type: ignore\n",
    "tfd = tfp.distributions\n",
    "print(\"Tensorflow probability version:\", tfp.__version__)\n",
    "print(datetime.now().strftime(\"%Y-%m-%d %H:%M:%S.%f\")+\":\", \"Importing timeit...\")\n",
    "from timeit import default_timer as timer\n",
    "print(datetime.now().strftime(\"%Y-%m-%d %H:%M:%S.%f\")+\":\", \"Importing tqdm...\")\n",
    "from tqdm import tqdm\n",
    "print(datetime.now().strftime(\"%Y-%m-%d %H:%M:%S.%f\")+\":\", \"Importing typing...\")\n",
    "from typing import List, Tuple, Dict, Callable, Union, Optional, Any, Type\n",
    "print(datetime.now().strftime(\"%Y-%m-%d %H:%M:%S.%f\")+\":\", \"Setting tf configs...\")\n",
    "gpu_devices = tf.config.experimental.list_physical_devices('GPU')\n",
    "for gpu_device in gpu_devices:\n",
    "    tf.config.experimental.set_memory_growth(gpu_device, True)\n",
    "\n",
    "print(datetime.now().strftime(\"%Y-%m-%d %H:%M:%S.%f\")+\":\", \"Importing GMetrics module...\")\n",
    "\n",
    "import GMetrics # type: ignore\n",
    "from GMetrics.plotters import plot_corners, cornerplotter, plot_corr_matrix, plot_corr_matrix_side_by_side # type: ignore\n",
    "from GMetrics.more.deformations import deformed_distribution, deform_mean, deform_cov_diag, deform_cov_off_diag, deform_power_abs, deform_random\n",
    "from GMetrics.more.optimizers_deformations import compute_exclusion_bisection_dataset_np # type: ignore\n",
    "from GMetrics.utils import se_mean, se_std\n",
    "\n",
    "print(datetime.now().strftime(\"%Y-%m-%d %H:%M:%S.%f\")+\":\", \"Importing jetnet.evaluation.gen_metrics module...\")\n",
    "import jetnet\n",
    "\n",
    "def get_gpu_info():\n",
    "    try:\n",
    "        gpu_info = subprocess.check_output([\"nvidia-smi\", \"--query-gpu=gpu_name\", \"--format=csv,noheader\"]).decode('utf-8')\n",
    "        return gpu_info.strip().split('\\n')\n",
    "    except Exception as e:\n",
    "        print(e)\n",
    "        return None\n",
    "training_devices = []\n",
    "gpu_models = get_gpu_info()\n",
    "for i in visible_devices:\n",
    "    if gpu_models:\n",
    "        training_devices.append(gpu_models[i])\n",
    "        print(f\"Successfully loaded GPU #{i}, model: {gpu_models[i]}\")\n",
    "    else:\n",
    "        training_devices.append('undetermined')\n",
    "        print(f\"Failed to load GPU {i} model. Defaulting to 'undetermined'.\")\n",
    "print(f\"Loaded {len(training_devices)} GPUs: {training_devices}\")\n",
    "        \n",
    "print(datetime.now().strftime(\"%Y-%m-%d %H:%M:%S.%f\")+\":\", \"All done.\")"
   ]
  },
  {
   "cell_type": "markdown",
   "metadata": {},
   "source": [
    "# Load data"
   ]
  },
  {
   "cell_type": "code",
   "execution_count": 28,
   "metadata": {},
   "outputs": [],
   "source": [
    "data = jetnet.datasets.JetNet.getData(jet_type = \"g\",\n",
    "                                      data_dir = \"data/g\",\n",
    "                                      particle_features = \"all\",\n",
    "                                      jet_features = \"all\",\n",
    "                                      num_particles = 30,\n",
    "                                      split = \"all\",\n",
    "                                      split_fraction = None,\n",
    "                                      seed = 42,\n",
    "                                      download = False,\n",
    "                                     )"
   ]
  },
  {
   "cell_type": "code",
   "execution_count": 29,
   "metadata": {},
   "outputs": [],
   "source": [
    "def get_particle_features(relative_features,\n",
    "                          jet_features):\n",
    "    eta_rel = relative_features[:, :, 0]\n",
    "    phi_rel = relative_features[:, :, 1]\n",
    "    pt_rel = relative_features[:, :, 2]\n",
    "    mask = relative_features[:, :, 3]\n",
    "    eta_jet = jet_features[:, 2]\n",
    "    pt_jet = jet_features[:, 1]\n",
    "    eta_particle = eta_jet[:, None] + eta_rel\n",
    "    phi_paericle = phi_rel\n",
    "    pt_particle = pt_jet[:, None] * pt_rel\n",
    "    particle_features = tf.stack([eta_particle, phi_paericle, pt_particle, mask], axis = 2)\n",
    "    return particle_features"
   ]
  },
  {
   "cell_type": "code",
   "execution_count": 30,
   "metadata": {},
   "outputs": [
    {
     "name": "stdout",
     "output_type": "stream",
     "text": [
      "relative_features.shape: (177252, 30, 4)\n",
      "jet_features.shape: (177252, 5)\n",
      "particle_features.shape: (177252, 30, 4)\n"
     ]
    }
   ],
   "source": [
    "relative_features = tf.cast(data[0], tf.float64)                            #    ``[\"etarel\", \"phirel\", \"ptrel\", \"mask\"]``.\n",
    "jet_features = tf.cast(data[1], tf.float64)                                 #    ``[\"type\", \"pt\", \"eta\", \"mass\", \"num_particles\"]``.\n",
    "particle_features = get_particle_features(relative_features, jet_features)  #    ``[\"eta\", \"phi\", \"pt\", \"mask\"]``.\n",
    "print(f\"relative_features.shape: {relative_features.shape}\")\n",
    "print(f\"jet_features.shape: {jet_features.shape}\")\n",
    "print(f\"particle_features.shape: {particle_features.shape}\")"
   ]
  },
  {
   "cell_type": "markdown",
   "metadata": {},
   "source": [
    "## Init data"
   ]
  },
  {
   "cell_type": "code",
   "execution_count": 31,
   "metadata": {},
   "outputs": [
    {
     "name": "stdout",
     "output_type": "stream",
     "text": [
      "Directory alredy exists\n"
     ]
    }
   ],
   "source": [
    "results_dir = \"results/particle_features_30/\"\n",
    "figures_dir = os.path.join(results_dir, \"figures/\")\n",
    "if not os.path.exists(figures_dir):\n",
    "    os.makedirs(figures_dir)\n",
    "    print(\"Results directories were created\")\n",
    "else:\n",
    "    print(\"Directory alredy exists\")"
   ]
  },
  {
   "cell_type": "code",
   "execution_count": 32,
   "metadata": {},
   "outputs": [
    {
     "data": {
      "text/plain": [
       "TensorShape([177252, 90])"
      ]
     },
     "execution_count": 32,
     "metadata": {},
     "output_type": "execute_result"
    }
   ],
   "source": [
    "def preprocess_data(data,means,stds):\n",
    "    preprocess_data=(data-means)/stds\n",
    "    return preprocess_data\n",
    "\n",
    "def postprocess_data(data,means,stds):\n",
    "    postprocess_data=data*stds+means\n",
    "    return postprocess_data\n",
    "\n",
    "def get_reduced_particle_features(particle_features):\n",
    "    tmp = particle_features[:, :, :3]\n",
    "    shape = tmp.shape\n",
    "    particle_features_reshaped = tf.reshape(tmp, [-1, shape[1] * shape[2]])\n",
    "    return particle_features_reshaped\n",
    "\n",
    "particle_features_reduced = get_reduced_particle_features(particle_features)\n",
    "particle_features_reduced.shape"
   ]
  },
  {
   "cell_type": "markdown",
   "metadata": {},
   "source": [
    "# TwoSample Test"
   ]
  },
  {
   "cell_type": "code",
   "execution_count": 33,
   "metadata": {},
   "outputs": [
    {
     "name": "stdout",
     "output_type": "stream",
     "text": [
      "Directory results/particle_features_30/tests/20K_preprocessed/ already exists\n"
     ]
    }
   ],
   "source": [
    "tests_dir = os.path.join(results_dir, \"tests/\")\n",
    "model_dir = os.path.join(tests_dir, '20K_preprocessed/')\n",
    "if not os.path.exists(model_dir):\n",
    "    os.makedirs(model_dir)\n",
    "    print(f\"Directory {model_dir} has been created\")\n",
    "else:\n",
    "    print(f\"Directory {model_dir} already exists\")\n",
    "\n",
    "particle_features_reduced = get_reduced_particle_features(particle_features)\n",
    "\n",
    "mean = tf.reduce_mean(particle_features_reduced, axis=0)\n",
    "std = tf.math.reduce_std(particle_features_reduced, axis=0)\n",
    "    \n",
    "dataset = preprocess_data(particle_features_reduced, mean, std)"
   ]
  },
  {
   "cell_type": "markdown",
   "metadata": {},
   "source": [
    "## Bootstrapping Null Hypothesis"
   ]
  },
  {
   "cell_type": "code",
   "execution_count": 34,
   "metadata": {},
   "outputs": [
    {
     "name": "stdout",
     "output_type": "stream",
     "text": [
      "Directory results/particle_features_30/tests/20K_preprocessed/null_hypotheses/ already exists\n"
     ]
    }
   ],
   "source": [
    "null_hypotheses_dir = os.path.join(model_dir, 'null_hypotheses/')\n",
    "if not os.path.exists(null_hypotheses_dir):\n",
    "    os.makedirs(null_hypotheses_dir)\n",
    "    print(f\"Directory {null_hypotheses_dir} has been created\")\n",
    "else:\n",
    "    print(f\"Directory {null_hypotheses_dir} already exists\")    \n",
    "    \n",
    "metrics_config_file = os.path.join(model_dir, \"metrics_config.json\")"
   ]
  },
  {
   "cell_type": "code",
   "execution_count": 35,
   "metadata": {},
   "outputs": [
    {
     "name": "stdout",
     "output_type": "stream",
     "text": [
      "niter: 4, nbootstrap: 250\n",
      "Parsing input distribution...\n",
      "Input distribution is a numeric numpy array or tf.Tensor.\n",
      "Parsing input distribution...\n",
      "Input distribution is a numeric numpy array or tf.Tensor.\n",
      "Checking and setting numerical distributions.\n",
      "Returning dist_num.\n",
      "Returning dist_num.\n"
     ]
    }
   ],
   "source": [
    "niter_tot = 1_000\n",
    "batch_size_test = 20_000\n",
    "namples = len(dataset) // 2\n",
    "niter = namples // batch_size_test\n",
    "nbootstrap = niter_tot // niter\n",
    "niter_tot = niter * nbootstrap\n",
    "print(f\"niter: {niter}, nbootstrap: {nbootstrap}\")\n",
    "\n",
    "def shuffle_dataset(seed):\n",
    "    return tf.random.shuffle(dataset, seed=seed)\n",
    "\n",
    "start = timer()\n",
    "l = len(dataset) // 2\n",
    "dstmp = shuffle_dataset(seed = 0)\n",
    "dist_1_null = tf.cast(dstmp[:l], tf.float64)\n",
    "dist_2_null = tf.cast(dstmp[l:], tf.float64)\n",
    "del(dstmp)\n",
    "\n",
    "TwoSampleTestInputsNull = GMetrics.TwoSampleTestInputs(dist_1_input = dist_1_null[:niter*batch_size_test],\n",
    "                                                       dist_2_input = dist_2_null[:niter*batch_size_test],\n",
    "                                                       niter = niter,\n",
    "                                                       batch_size_test = batch_size_test,\n",
    "                                                       small_sample_threshold = 1e7,\n",
    "                                                       dtype_input = tf.float64,\n",
    "                                                       seed_input = 0,\n",
    "                                                       use_tf = True,\n",
    "                                                       mirror_strategy = False,\n",
    "                                                       verbose = True)\n",
    "\n",
    "NPLMMetric = GMetrics.NPLMMetric(TwoSampleTestInputsNull,\n",
    "                                 progress_bar = True,\n",
    "                                 verbose = True,\n",
    "                                 M = 2000, \n",
    "                                 lam = 1e-6, \n",
    "                                 iter_list = 1000000,\n",
    "                                 weight = 1) "
   ]
  },
  {
   "cell_type": "code",
   "execution_count": 36,
   "metadata": {},
   "outputs": [
    {
     "data": {
      "text/html": [
       "<div>\n",
       "<style scoped>\n",
       "    .dataframe tbody tr th:only-of-type {\n",
       "        vertical-align: middle;\n",
       "    }\n",
       "\n",
       "    .dataframe tbody tr th {\n",
       "        vertical-align: top;\n",
       "    }\n",
       "\n",
       "    .dataframe thead th {\n",
       "        text-align: right;\n",
       "    }\n",
       "</style>\n",
       "<table border=\"1\" class=\"dataframe\">\n",
       "  <thead>\n",
       "    <tr style=\"text-align: right;\">\n",
       "      <th></th>\n",
       "      <th>niter</th>\n",
       "      <th>batch_size_test</th>\n",
       "      <th>batch_size_gen</th>\n",
       "      <th>small_sample_threshold</th>\n",
       "      <th>dtype_input</th>\n",
       "      <th>seed</th>\n",
       "      <th>use_tf</th>\n",
       "      <th>mirror_strategy</th>\n",
       "      <th>strategy</th>\n",
       "      <th>verbose</th>\n",
       "      <th>is_symb_1</th>\n",
       "      <th>ndims_1</th>\n",
       "      <th>nsamples_1</th>\n",
       "      <th>is_symb_2</th>\n",
       "      <th>ndims_2</th>\n",
       "      <th>nsamples_2</th>\n",
       "      <th>dtype</th>\n",
       "      <th>ndims</th>\n",
       "      <th>nsamples</th>\n",
       "      <th>small_sample</th>\n",
       "    </tr>\n",
       "  </thead>\n",
       "  <tbody>\n",
       "    <tr>\n",
       "      <th>0</th>\n",
       "      <td>4</td>\n",
       "      <td>20000</td>\n",
       "      <td>1000</td>\n",
       "      <td>10000000</td>\n",
       "      <td>float64</td>\n",
       "      <td>0</td>\n",
       "      <td>True</td>\n",
       "      <td>False</td>\n",
       "      <td>None</td>\n",
       "      <td>True</td>\n",
       "      <td>False</td>\n",
       "      <td>90</td>\n",
       "      <td>80000</td>\n",
       "      <td>False</td>\n",
       "      <td>90</td>\n",
       "      <td>80000</td>\n",
       "      <td>float64</td>\n",
       "      <td>90</td>\n",
       "      <td>80000</td>\n",
       "      <td>True</td>\n",
       "    </tr>\n",
       "  </tbody>\n",
       "</table>\n",
       "</div>"
      ],
      "text/plain": [
       "   niter  batch_size_test  batch_size_gen  small_sample_threshold dtype_input  \\\n",
       "0      4            20000            1000                10000000     float64   \n",
       "\n",
       "   seed  use_tf  mirror_strategy strategy  verbose  is_symb_1  ndims_1  \\\n",
       "0     0    True            False     None     True      False       90   \n",
       "\n",
       "   nsamples_1  is_symb_2  ndims_2  nsamples_2    dtype  ndims  nsamples  \\\n",
       "0       80000      False       90       80000  float64     90     80000   \n",
       "\n",
       "   small_sample  \n",
       "0          True  "
      ]
     },
     "execution_count": 36,
     "metadata": {},
     "output_type": "execute_result"
    }
   ],
   "source": [
    "test_config_null = {}\n",
    "test_config_tmp = dict(TwoSampleTestInputsNull.__dict__)\n",
    "keys_to_remove = [\"_dist_1_input\", \"_dist_2_input\", \"_dist_1_num\", \"_dist_2_num\", \"_dist_1_symb\", \"_dist_2_symb\", \"_seed_generator\"]\n",
    "for key in keys_to_remove:\n",
    "    test_config_tmp.pop(key, None)\n",
    "for key, value in test_config_tmp.items():\n",
    "    new_key = key.lstrip('_')\n",
    "    \n",
    "    if isinstance(value, tf.Tensor):\n",
    "        new_value = value.numpy() # type: ignore\n",
    "    elif isinstance(value, np.ndarray):\n",
    "        new_value = value.tolist()\n",
    "    elif isinstance(value, np.generic):\n",
    "        new_value = value.item() # Convert NumPy scalars to Python scalars\n",
    "    elif isinstance(value, tf.DType):\n",
    "        new_value = value.name\n",
    "    elif isinstance(value, np.dtype):\n",
    "        new_value = np.dtype(value).name\n",
    "    else:\n",
    "        new_value = value\n",
    "    \n",
    "    test_config_null[new_key] = new_value\n",
    "\n",
    "pd.DataFrame([test_config_null])"
   ]
  },
  {
   "cell_type": "code",
   "execution_count": 37,
   "metadata": {},
   "outputs": [
    {
     "name": "stdout",
     "output_type": "stream",
     "text": [
      "{'NPLM': {'name': 'nplm', 'object_name': 'NPLMMetric', 'class_name': 'GMetrics.NPLMMetric', 'kwargs': {'M': 2000, 'lam': 1e-06, 'iter_list': 1000000, 'weight': 1}, 'result_key': 'metric_list', 'scale_func': <function <lambda> at 0x7f666bb893a0>, 'scale_func_string': 'lambda ns, ndims: 1', 'test_config': {'niter': 4, 'batch_size_test': 20000, 'batch_size_gen': 1000, 'small_sample_threshold': 10000000, 'dtype_input': 'float64', 'seed': 0, 'use_tf': True, 'mirror_strategy': False, 'strategy': None, 'verbose': True, 'is_symb_1': False, 'ndims_1': 90, 'nsamples_1': 80000, 'is_symb_2': False, 'ndims_2': 90, 'nsamples_2': 80000, 'dtype': 'float64', 'ndims': 90, 'nsamples': 80000, 'small_sample': True}, 'max_vectorize': 1000, 'latex': '$t_{\\\\mathrm{NPLM}}$', 'null_file': 'results/particle_features_30/tests/20K_preprocessed/null_hypotheses/NPLM.json'}}\n",
      "{'name': 'nplm', 'object_name': 'NPLMMetric', 'class_name': 'GMetrics.NPLMMetric', 'kwargs': {'M': 2000, 'lam': 1e-06, 'iter_list': 1000000, 'weight': 1}, 'result_key': 'metric_list', 'scale_func': <function <lambda> at 0x7f666bb893a0>, 'scale_func_string': 'lambda ns, ndims: 1', 'test_config': {'niter': 4, 'batch_size_test': 20000, 'batch_size_gen': 1000, 'small_sample_threshold': 10000000, 'dtype_input': 'float64', 'seed': 0, 'use_tf': True, 'mirror_strategy': False, 'strategy': None, 'verbose': True, 'is_symb_1': False, 'ndims_1': 90, 'nsamples_1': 80000, 'is_symb_2': False, 'ndims_2': 90, 'nsamples_2': 80000, 'dtype': 'float64', 'ndims': 90, 'nsamples': 80000, 'small_sample': True}, 'max_vectorize': 1000, 'latex': '$t_{\\\\mathrm{NPLM}}$', 'null_file': 'results/particle_features_30/tests/20K_preprocessed/null_hypotheses/NPLM.json'}\n"
     ]
    }
   ],
   "source": [
    "unique_key = \"config_flavor_nsamples_\"+str(TwoSampleTestInputsNull.batch_size_test)+\"_niter_\"+str(niter_tot)\n",
    "metrics_config = {unique_key: {\"NPLM\": {\"name\": \"nplm\",\n",
    "                                       \"object_name\": \"NPLMMetric\",\n",
    "                                       \"class_name\": \"GMetrics.NPLMMetric\",\n",
    "                                       \"kwargs\": {\"M\": 2000,\n",
    "                                                  \"lam\": 1e-6,\n",
    "                                                  \"iter_list\": 1000000,\n",
    "                                                  \"weight\" : 1},\n",
    "                                       \"result_key\": \"metric_list\", \n",
    "                                       \"scale_func\": lambda ns, ndims: 1,#(ns/ndims)**(3/2),\n",
    "                                       \"scale_func_string\": \"lambda ns, ndims: 1\",\n",
    "                                       \"test_config\": test_config_null,\n",
    "                                       \"max_vectorize\": 1000, # optimized for 5D\n",
    "                                       \"latex\": \"$t_{\\mathrm{NPLM}}$\",\n",
    "                                       \"null_file\": null_hypotheses_dir+\"NPLM.json\"}}}\n",
    "\n",
    "print(metrics_config[unique_key])\n",
    "nplm_config = metrics_config[unique_key][\"NPLM\"]\n",
    "print(nplm_config)"
   ]
  },
  {
   "cell_type": "code",
   "execution_count": 38,
   "metadata": {},
   "outputs": [
    {
     "name": "stdout",
     "output_type": "stream",
     "text": [
      "Loading nplm from results/particle_features_30/tests/20K_preprocessed/null_hypotheses/NPLM.json\n"
     ]
    }
   ],
   "source": [
    "file = nplm_config[\"null_file\"]\n",
    "name = nplm_config[\"name\"]\n",
    "max_vectorize = nplm_config[\"max_vectorize\"]\n",
    "obj = eval(nplm_config[\"object_name\"])\n",
    "if os.path.exists(file):\n",
    "     print(f\"Loading {name} from {file}\")\n",
    "     obj.Results.load_from_json(file)\n",
    "else:\n",
    "    print(f\"Computing and saving {name}\")\n",
    "    print(\"\\n===========================================================\")\n",
    "    print(f\"Testing from 0 to {niter} of {niter * nbootstrap} samples.\")\n",
    "    obj.Test_np()\n",
    "    for i in range(1, nbootstrap):\n",
    "        l = len(dataset) // 2\n",
    "        dstmp = shuffle_dataset(seed = 1000 * i + i)\n",
    "        dist_1_null = tf.cast(dstmp[:l], tf.float64)\n",
    "        dist_2_null = tf.cast(dstmp[l:], tf.float64)\n",
    "        #KSTestNull.Inputs.dist_1_input = dist_1 # This is the consistent way, but slower\n",
    "        TwoSampleTestInputsNull._dist_1_num = dist_1_null[:niter*batch_size_test] # Overwriting the _dist_1_num attribute. Less consistent, but         faster\n",
    "        #KSTestNull.Inputs.dist_2_input = dist_2 # This is the consistent way, but slower\n",
    "        TwoSampleTestInputsNull._dist_2_num = dist_2_null[:niter*batch_size_test] # Overwriting the _dist_2_num attribute. Less consistent, but         faster\n",
    "        print(\"\\n===========================================================\")\n",
    "        print(f\"Testing from {i * niter} to {(i+1) * niter} of {niter * nbootstrap} samples.\")\n",
    "        obj.Test_np()\n",
    "        del(dstmp)\n",
    "    end = timer()\n",
    "    print(f\"All done in: {end-start:.2f} s.\")\n",
    "    print(f\"Saving {name} to {file}\")\n",
    "    obj.Results.save_to_json(file)"
   ]
  },
  {
   "cell_type": "code",
   "execution_count": 39,
   "metadata": {},
   "outputs": [
    {
     "name": "stdout",
     "output_type": "stream",
     "text": [
      "ThresholdS for metric nplm: [[0.68, [680, 319], 2820.858180055283], [0.95, [950, 50], 2941.272806088968], [0.99, [990, 10], 3018.6534878633265]]\n",
      "Computing time for metric nplm: 4583.011284084525\n"
     ]
    },
    {
     "data": {
      "text/html": [
       "<div>\n",
       "<style scoped>\n",
       "    .dataframe tbody tr th:only-of-type {\n",
       "        vertical-align: middle;\n",
       "    }\n",
       "\n",
       "    .dataframe tbody tr th {\n",
       "        vertical-align: top;\n",
       "    }\n",
       "\n",
       "    .dataframe thead th {\n",
       "        text-align: right;\n",
       "    }\n",
       "</style>\n",
       "<table border=\"1\" class=\"dataframe\">\n",
       "  <thead>\n",
       "    <tr style=\"text-align: right;\">\n",
       "      <th></th>\n",
       "      <th>name</th>\n",
       "      <th>object_name</th>\n",
       "      <th>class_name</th>\n",
       "      <th>kwargs</th>\n",
       "      <th>result_key</th>\n",
       "      <th>scale_func</th>\n",
       "      <th>scale_func_string</th>\n",
       "      <th>test_config</th>\n",
       "      <th>max_vectorize</th>\n",
       "      <th>latex</th>\n",
       "      <th>null_file</th>\n",
       "      <th>thresholds</th>\n",
       "    </tr>\n",
       "  </thead>\n",
       "  <tbody>\n",
       "    <tr>\n",
       "      <th>0</th>\n",
       "      <td>nplm</td>\n",
       "      <td>NPLMMetric</td>\n",
       "      <td>GMetrics.NPLMMetric</td>\n",
       "      <td>{'M': 2000, 'lam': 1e-06, 'iter_list': 1000000...</td>\n",
       "      <td>metric_list</td>\n",
       "      <td>&lt;function &lt;lambda&gt; at 0x7f666bb893a0&gt;</td>\n",
       "      <td>lambda ns, ndims: 1</td>\n",
       "      <td>{'niter': 4, 'batch_size_test': 20000, 'batch_...</td>\n",
       "      <td>1000</td>\n",
       "      <td>$t_{\\mathrm{NPLM}}$</td>\n",
       "      <td>results/particle_features_30/tests/20K_preproc...</td>\n",
       "      <td>[[0.68, [680, 319], 2820.858180055283], [0.95,...</td>\n",
       "    </tr>\n",
       "  </tbody>\n",
       "</table>\n",
       "</div>"
      ],
      "text/plain": [
       "   name object_name           class_name  \\\n",
       "0  nplm  NPLMMetric  GMetrics.NPLMMetric   \n",
       "\n",
       "                                              kwargs   result_key  \\\n",
       "0  {'M': 2000, 'lam': 1e-06, 'iter_list': 1000000...  metric_list   \n",
       "\n",
       "                              scale_func    scale_func_string  \\\n",
       "0  <function <lambda> at 0x7f666bb893a0>  lambda ns, ndims: 1   \n",
       "\n",
       "                                         test_config  max_vectorize  \\\n",
       "0  {'niter': 4, 'batch_size_test': 20000, 'batch_...           1000   \n",
       "\n",
       "                 latex                                          null_file  \\\n",
       "0  $t_{\\mathrm{NPLM}}$  results/particle_features_30/tests/20K_preproc...   \n",
       "\n",
       "                                          thresholds  \n",
       "0  [[0.68, [680, 319], 2820.858180055283], [0.95,...  "
      ]
     },
     "execution_count": 39,
     "metadata": {},
     "output_type": "execute_result"
    }
   ],
   "source": [
    "cl_list = [0.68, 0.95, 0.99]\n",
    "null_times = []\n",
    "ndims = 90\n",
    "\n",
    "\n",
    "name = nplm_config[\"name\"]\n",
    "obj = eval(nplm_config[\"object_name\"])\n",
    "result_key = nplm_config[\"result_key\"]\n",
    "scale_func = nplm_config[\"scale_func\"]\n",
    "\n",
    "nsamples = obj.Inputs.batch_size_test\n",
    "ns = nsamples**2 /(2*nsamples)\n",
    "dist_null  = np.array(obj.Results[0].result_value[result_key])\n",
    "for i in range(1,len(obj.Results)):\n",
    "        dist_null = np.concatenate((dist_null, np.array(obj.Results[i].result_value[result_key])))\n",
    "\n",
    "metric_thresholds = [[cl, \n",
    "                        [int(cl*len(dist_null)), \n",
    "                        int((1-cl)*len(dist_null))], \n",
    "                        np.sort(dist_null)[int(len(dist_null)*cl)]] for cl in cl_list]\n",
    "\n",
    "print(f\"ThresholdS for metric {nplm_config['name']}: {metric_thresholds}\")\n",
    "\n",
    "null_time = obj.Results[0].__dict__['computing_time']\n",
    "for i in range(1,len(obj.Results)):\n",
    "        null_time += obj.Results[i].__dict__['computing_time']\n",
    "null_times.append([name, int(null_time)])\n",
    "print(f\"Computing time for metric {nplm_config['name']}: {null_time}\")\n",
    "\n",
    "nplm_config.update({\"thresholds\": metric_thresholds})\n",
    "    \n",
    "GMetrics.utils.save_update_metrics_config(metrics_config = metrics_config, metrics_config_file = metrics_config_file) # type: ignore"
   ]
  },
  {
   "cell_type": "markdown",
   "metadata": {},
   "source": [
    "### Plots of null-distributions"
   ]
  },
  {
   "cell_type": "code",
   "execution_count": 40,
   "metadata": {},
   "outputs": [
    {
     "name": "stdout",
     "output_type": "stream",
     "text": [
      "mu = 2776.4142564136055 +/- 300.4063317809351\n",
      "sigma = 97.46631376860321 +/- 2.1765855030618106\n",
      "68%CL = 2820.858180055283, 95%CL = 2941.272806088968, 99%CL = 3018.6534878633265\n",
      "mu = 2776.4142564136055 +/- 300.4063317809351\n",
      "sigma = 97.46631376860321 +/- 2.1765855030618106\n"
     ]
    },
    {
     "name": "stderr",
     "output_type": "stream",
     "text": [
      "/tmp/ipykernel_804237/1261576838.py:66: UserWarning: Attempt to set non-positive ylim on a log-scaled axis will be ignored.\n",
      "  ax[0].set_ylim(current_ylim0)\n",
      "/tmp/ipykernel_804237/1261576838.py:68: MatplotlibDeprecationWarning: The legendHandles attribute was deprecated in Matplotlib 3.7 and will be removed two minor releases later. Use legend_handles instead.\n",
      "  for handle in legend0.legendHandles[-3:]:\n",
      "/tmp/ipykernel_804237/1261576838.py:97: UserWarning: Attempt to set non-positive ylim on a log-scaled axis will be ignored.\n",
      "  ax[1].set_ylim(current_ylim1)\n",
      "/tmp/ipykernel_804237/1261576838.py:103: MatplotlibDeprecationWarning: The legendHandles attribute was deprecated in Matplotlib 3.7 and will be removed two minor releases later. Use legend_handles instead.\n",
      "  for handle in legend1.legendHandles[-3:]:\n"
     ]
    },
    {
     "data": {
      "image/png": "[encoded data removed]",
      "text/plain": [
       "<Figure size 1600x600 with 2 Axes>"
      ]
     },
     "metadata": {},
     "output_type": "display_data"
    },
    {
     "name": "stdout",
     "output_type": "stream",
     "text": [
      "Time elapsed: 1.0796396570513025 seconds.\n"
     ]
    },
    {
     "data": {
      "text/html": [
       "<div>\n",
       "<style scoped>\n",
       "    .dataframe tbody tr th:only-of-type {\n",
       "        vertical-align: middle;\n",
       "    }\n",
       "\n",
       "    .dataframe tbody tr th {\n",
       "        vertical-align: top;\n",
       "    }\n",
       "\n",
       "    .dataframe thead th {\n",
       "        text-align: right;\n",
       "    }\n",
       "</style>\n",
       "<table border=\"1\" class=\"dataframe\">\n",
       "  <thead>\n",
       "    <tr style=\"text-align: right;\">\n",
       "      <th></th>\n",
       "      <th>name</th>\n",
       "      <th>object_name</th>\n",
       "      <th>class_name</th>\n",
       "      <th>kwargs</th>\n",
       "      <th>result_key</th>\n",
       "      <th>scale_func</th>\n",
       "      <th>scale_func_string</th>\n",
       "      <th>test_config</th>\n",
       "      <th>max_vectorize</th>\n",
       "      <th>latex</th>\n",
       "      <th>null_file</th>\n",
       "      <th>thresholds</th>\n",
       "      <th>null_figure</th>\n",
       "    </tr>\n",
       "  </thead>\n",
       "  <tbody>\n",
       "    <tr>\n",
       "      <th>0</th>\n",
       "      <td>nplm</td>\n",
       "      <td>NPLMMetric</td>\n",
       "      <td>GMetrics.NPLMMetric</td>\n",
       "      <td>{'M': 2000, 'lam': 1e-06, 'iter_list': 1000000...</td>\n",
       "      <td>metric_list</td>\n",
       "      <td>&lt;function &lt;lambda&gt; at 0x7f666bb893a0&gt;</td>\n",
       "      <td>lambda ns, ndims: 1</td>\n",
       "      <td>{'niter': 4, 'batch_size_test': 20000, 'batch_...</td>\n",
       "      <td>1000</td>\n",
       "      <td>$t_{\\mathrm{NPLM}}$</td>\n",
       "      <td>results/particle_features_30/tests/20K_preproc...</td>\n",
       "      <td>[[0.68, [680, 319], 2820.858180055283], [0.95,...</td>\n",
       "      <td>results/particle_features_30/tests/20K_preproc...</td>\n",
       "    </tr>\n",
       "  </tbody>\n",
       "</table>\n",
       "</div>"
      ],
      "text/plain": [
       "   name object_name           class_name  \\\n",
       "0  nplm  NPLMMetric  GMetrics.NPLMMetric   \n",
       "\n",
       "                                              kwargs   result_key  \\\n",
       "0  {'M': 2000, 'lam': 1e-06, 'iter_list': 1000000...  metric_list   \n",
       "\n",
       "                              scale_func    scale_func_string  \\\n",
       "0  <function <lambda> at 0x7f666bb893a0>  lambda ns, ndims: 1   \n",
       "\n",
       "                                         test_config  max_vectorize  \\\n",
       "0  {'niter': 4, 'batch_size_test': 20000, 'batch_...           1000   \n",
       "\n",
       "                 latex                                          null_file  \\\n",
       "0  $t_{\\mathrm{NPLM}}$  results/particle_features_30/tests/20K_preproc...   \n",
       "\n",
       "                                          thresholds  \\\n",
       "0  [[0.68, [680, 319], 2820.858180055283], [0.95,...   \n",
       "\n",
       "                                         null_figure  \n",
       "0  results/particle_features_30/tests/20K_preproc...  "
      ]
     },
     "execution_count": 40,
     "metadata": {},
     "output_type": "execute_result"
    }
   ],
   "source": [
    "name = nplm_config[\"name\"]\n",
    "name_cap = name.upper()\n",
    "latex = nplm_config[\"latex\"]\n",
    "obj = eval(nplm_config[\"object_name\"])\n",
    "result_key = nplm_config[\"result_key\"]\n",
    "scale_func = nplm_config[\"scale_func\"]\n",
    "figure_file = nplm_config[\"null_file\"].replace(\"json\",\"pdf\")\n",
    "thresholds = nplm_config[\"thresholds\"]\n",
    "\n",
    "start = timer()\n",
    "\n",
    "nsamples = obj.Inputs.batch_size_test\n",
    "niter = obj.Inputs.niter\n",
    "ns = nsamples**2 /(2*nsamples)\n",
    "dist_null  = np.array(obj.Results[0].result_value[result_key])*scale_func(ns, ndims)\n",
    "for i in range(1,len(obj.Results)):\n",
    "    dist_null = np.concatenate((dist_null, np.array(obj.Results[i].result_value[result_key])))\n",
    "dist_null = dist_null * scale_func(ns, ndims)\n",
    "\n",
    "scale = 'log'\n",
    "num_bins = 50  # number of bins|\n",
    "\n",
    "mu, deltamu, sigma, deltasigma = (np.mean(dist_null), se_mean(dist_null), np.std(dist_null), se_std(dist_null))\n",
    "sigma_68, sigma_95, sigma_99 = [np.sort(dist_null)[int(len(dist_null)*cl)] for cl in [0.68, 0.95, 0.99]]\n",
    "print(f\"mu = {mu} +/- {deltamu}\")\n",
    "print(f\"sigma = {sigma} +/- {deltasigma}\")\n",
    "print(f\"68%CL = {sigma_68}, 95%CL = {sigma_95}, 99%CL = {sigma_99}\")\n",
    "\n",
    "print(\"mu =\", mu, \"+/-\", deltamu)\n",
    "print(\"sigma =\", sigma, \"+/-\", deltasigma)\n",
    "\n",
    "min_x, max_x = min(dist_null), max(dist_null) # lower and upper limit of the binning\n",
    "x = np.linspace(min_x, max_x, num_bins + 1)\n",
    "counts, bin_edges = np.histogram(dist_null, bins=x, density=True)\n",
    "cum_counts = np.cumsum(counts)/np.sum(counts)\n",
    "bin_centers = (bin_edges[:-1] + bin_edges[1:]) / 2\n",
    "\n",
    "fig, ax = plt.subplots(1, 2, figsize=(16, 6))\n",
    "\n",
    "dash_styles = ['-', '--', '-.']\n",
    "colors = [\"royalblue\", \"darkorange\", \"mediumseagreen\"]\n",
    "\n",
    "# Create step plot\n",
    "step_edges = np.convolve(bin_centers, [0.5, 0.5], 'valid')\n",
    "step_counts = counts[:-1]  # assuming counts is one element longer than step_edges\n",
    "\n",
    "ax[0].step(step_edges, step_counts, where='mid', linestyle='-', color = \"tomato\", label = \"Null distribution\")\n",
    "current_ylim0 = ax[0].get_ylim()\n",
    "ax[0].set_yscale(scale)\n",
    "ax[0].set_xlabel(r\"%s\"%latex, fontsize=16)\n",
    "ax[0].set_ylabel('Frequency', fontsize=16)\n",
    "ax[0].set_title('PDF for particle_features_30 null with $N = '+str(ndims)+'$, $n=m='+str(int(nsamples/1000))+'$K, $n_{\\mathrm{iter}} = '+str(int(niter_tot/1000))+'$K', fontsize=15)\n",
    "ax[0].tick_params(axis='x', labelsize=15)  # Set x-axis tick label size\n",
    "ax[0].tick_params(axis='y', labelsize=15)  # Set y-axis tick label size\n",
    "\n",
    "for i, threshold in enumerate(thresholds):\n",
    "    confidence_level, _, threshold_value = threshold\n",
    "    start_index = np.searchsorted(step_edges, threshold_value, side=\"right\") - 1\n",
    "    start_index = max(start_index, 0)\n",
    "    fill_x_range = np.concatenate([[threshold_value], step_edges[start_index+1:]])\n",
    "    fill_y_values = step_counts[start_index:]\n",
    "    if len(fill_x_range) > 1 and len(fill_y_values) > 0:\n",
    "        ax[0].fill_between(fill_x_range, 0, fill_y_values, color=colors[i], alpha=0.1, step='mid', label=f\"{int(confidence_level * 100)}% CL ($x>{format(threshold_value, '.2f')}   $)\")\n",
    "    ax[0].axvline(x=threshold_value, linestyle=dash_styles[i], color=colors[i], linewidth=1)\n",
    "\n",
    "ax[0].set_ylim(current_ylim0)  \n",
    "legend0 = ax[0].legend(loc='upper right', fontsize=15)\n",
    "for handle in legend0.legendHandles[-3:]:\n",
    "    handle.set_alpha(0.5)  # Set to desired alpha value\n",
    "\n",
    "# Create step plot\n",
    "step_edges = np.convolve(bin_centers, [0.5, 0.5], 'valid')\n",
    "step_counts = cum_counts[:-1]  # assuming counts is one element longer than step_edges\n",
    "\n",
    "ax[1].step(step_edges, step_counts, where='mid', linestyle='-', color = \"tomato\", label = \"Null distribution\")\n",
    "#ax[1].plot(bin_centers, cum_counts, linestyle = '-', color = \"tomato\", label = \"Null distribution\", drawstyle='steps-mid')\n",
    "current_ylim1 = ax[1].get_ylim()\n",
    "#for i, threshold in enumerate(thresholds):\n",
    "#    confidence_level, _, threshold_value = threshold\n",
    "#    ax[1].axhline(y=confidence_level, color=colors[i], linestyle=dash_styles[i], linewidth=0.5, alpha=1)\n",
    "ax[1].set_yscale(scale)\n",
    "ax[1].set_xlabel(r\"%s\"%latex, fontsize=16)\n",
    "ax[1].set_title('CDF for particle_features_30 null with $N = '+str(ndims)+'$, $n=m='+str(int(nsamples/1000))+'$K, $n_{\\mathrm{iter}} = '+str(int(niter_tot/1000))+'$K', fontsize=15)\n",
    "ax[1].tick_params(axis='x', labelsize=15)  # Set x-axis tick label size\n",
    "ax[1].tick_params(axis='y', labelsize=15)  # Set y-axis tick label size\n",
    "\n",
    "for i, threshold in enumerate(thresholds):\n",
    "    confidence_level, _, threshold_value = threshold\n",
    "    start_index = np.searchsorted(step_edges, threshold_value, side=\"right\") - 1\n",
    "    start_index = max(start_index, 0)\n",
    "    fill_x_range = np.concatenate([[threshold_value], step_edges[start_index+1:]])\n",
    "    fill_y_values = step_counts[start_index:]\n",
    "    if len(fill_x_range) > 1 and len(fill_y_values) > 0:\n",
    "        ax[1].fill_between(fill_x_range, 0, fill_y_values, color=colors[i], alpha=0.1, step='mid', label=f\"{int(confidence_level * 100)}% CL ($x>{format(threshold_value, '.2f')}   $)\")\n",
    "    ax[1].axvline(x=threshold_value, linestyle=dash_styles[i], color=colors[i], linewidth=1)\n",
    "\n",
    "ax[1].set_ylim(current_ylim1)  \n",
    "#for i, threshold in enumerate(thresholds):\n",
    "#    confidence, _, value = threshold\n",
    "#    ax[1].axvline(x=value, color=colors[i], linestyle=dash_styles[i], alpha=1, label=f\"{int(confidence_level * 100)} CL% ($x>{format(threshold_value,'.2f')}$)\")\n",
    "\n",
    "legend1 = ax[1].legend(loc='upper right', fontsize=15)\n",
    "for handle in legend1.legendHandles[-3:]:\n",
    "    handle.set_alpha(0.5)  # Set to desired alpha value\n",
    "\n",
    "plt.subplots_adjust(wspace=0.1)  # Adjust this value to your liking\n",
    "plt.tight_layout()\n",
    "plt.savefig(figure_file)\n",
    "plt.show()\n",
    "plt.close()\n",
    "\n",
    "nplm_config.update({\"null_figure\": figure_file})\n",
    "\n",
    "end = timer()\n",
    "print(\"Time elapsed:\", end-start, \"seconds.\")\n",
    "\n",
    "GMetrics.utils.save_update_metrics_config(metrics_config = metrics_config, metrics_config_file = metrics_config_file) # type: ignore"
   ]
  },
  {
   "cell_type": "markdown",
   "metadata": {},
   "source": [
    "## Alternative hypothesis"
   ]
  },
  {
   "cell_type": "markdown",
   "metadata": {},
   "source": [
    "### Scan and exclusion limits (bisection method)"
   ]
  },
  {
   "cell_type": "code",
   "execution_count": 41,
   "metadata": {},
   "outputs": [],
   "source": [
    "if test_config_null[\"use_tf\"]:\n",
    "    dtype = getattr(tf, test_config_null[\"dtype_input\"])\n",
    "else:\n",
    "    dtype = np.dtype(test_config_null[\"dtype_input\"])\n",
    "test_kwargs = {\"niter_null\": niter,\n",
    "               \"niter_alt\": 100, # this will be adapted to the boostrap size\n",
    "               \"batch_size_test\": test_config_null[\"batch_size_test\"],\n",
    "               \"batch_size_gen\": test_config_null[\"batch_size_gen\"],\n",
    "               \"small_sample_threshold\": test_config_null[\"small_sample_threshold\"],\n",
    "               \"dtype_input\": dtype,\n",
    "               \"seed_input\": test_config_null[\"seed\"],\n",
    "               \"use_tf\": test_config_null[\"use_tf\"],\n",
    "               \"mirror_strategy\": test_config_null[\"mirror_strategy\"],\n",
    "               \"verbose\": False}"
   ]
  },
  {
   "cell_type": "code",
   "execution_count": 42,
   "metadata": {},
   "outputs": [],
   "source": [
    "file_path = os.path.join(model_dir, \"exclusion_limits.json\")\n",
    "if os.path.exists(file_path):\n",
    "    try:\n",
    "        with open(file_path, \"r\") as file:\n",
    "            existing_data = json.load(file)\n",
    "    except json.JSONDecodeError:\n",
    "        existing_data = {}\n",
    "else:\n",
    "    existing_data = {}\n",
    "    \n",
    "# Sort the dictionary by keys\n",
    "existing_data = dict(sorted(existing_data.items()))\n",
    "\n",
    "# Save the sorted dictionary back to a JSON file\n",
    "with open(file_path, 'w') as f:\n",
    "    json.dump(existing_data, f, cls=GMetrics.utils.CustomEncoder, indent=4) # type: ignore"
   ]
  },
  {
   "cell_type": "code",
   "execution_count": 43,
   "metadata": {},
   "outputs": [
    {
     "name": "stdout",
     "output_type": "stream",
     "text": [
      "Upper bounds for nplm with mean deformation already loaded.\n",
      "Central bounds for nplm with mean deformation already loaded.\n",
      "Lower bounds for nplm with mean deformation already loaded.\n",
      "Upper bounds for nplm with cov_diag deformation already loaded.\n",
      "Central bounds for nplm with cov_diag deformation already loaded.\n",
      "Lower bounds for nplm with cov_diag deformation already loaded.\n",
      "Upper bounds for nplm with cov_off_diag deformation already loaded.\n",
      "Central bounds for nplm with cov_off_diag deformation already loaded.\n",
      "Lower bounds for nplm with cov_off_diag deformation already loaded.\n",
      "Upper bounds for nplm with power_abs_up deformation already loaded.\n",
      "Central bounds for nplm with power_abs_up deformation already loaded.\n",
      "Lower bounds for nplm with power_abs_up deformation already loaded.\n",
      "Upper bounds for nplm with power_abs_down deformation already loaded.\n",
      "Central bounds for nplm with power_abs_down deformation already loaded.\n",
      "Lower bounds for nplm with power_abs_down deformation already loaded.\n",
      "Upper bounds for nplm with random_normal deformation already loaded.\n",
      "Central bounds for nplm with random_normal deformation already loaded.\n",
      "Lower bounds for nplm with random_normal deformation already loaded.\n",
      "Upper bounds for nplm with random_uniform deformation already loaded.\n",
      "Central bounds for nplm with random_uniform deformation already loaded.\n",
      "Lower bounds for nplm with random_uniform deformation already loaded.\n",
      "dict_keys(['nplm_mean_upper_2024-10-31T02:24:24.090330', 'nplm_mean_central_2024-10-31T18:44:33.588340', 'nplm_mean_lower_2024-10-31T23:52:42.322438', 'nplm_cov_diag_upper_2024-11-01T02:07:10.898249', 'nplm_cov_diag_central_2024-11-01T06:39:01.485039', 'nplm_cov_diag_lower_2024-11-01T09:16:23.562097', 'nplm_cov_off_diag_upper_2024-11-01T13:57:04.183946', 'nplm_cov_off_diag_central_2024-11-01T18:10:10.172390', 'nplm_cov_off_diag_lower_2024-11-01T20:26:28.442742', 'nplm_power_abs_up_upper_2024-11-02T03:53:12.780394', 'nplm_power_abs_up_central_2024-11-02T07:19:36.679631', 'nplm_power_abs_up_lower_2024-11-02T10:06:51.317762', 'nplm_power_abs_down_upper_2024-11-02T21:09:04.412473', 'nplm_power_abs_down_central_2024-11-03T00:09:06.189961', 'nplm_power_abs_down_lower_2024-11-03T01:57:18.257571', 'nplm_random_normal_upper_2024-11-03T03:50:59.277325', 'nplm_random_normal_central_2024-11-03T06:17:32.886009', 'nplm_random_normal_lower_2024-11-03T07:46:26.143131', 'nplm_random_uniform_upper_2024-11-03T20:59:02.754161', 'nplm_random_uniform_central_2024-11-03T23:08:53.895126', 'nplm_random_uniform_lower_2024-11-04T00:37:02.012015'])\n"
     ]
    }
   ],
   "source": [
    "deformations = [\"mean\", \"cov_diag\", \"cov_off_diag\", \"power_abs_up\", \"power_abs_down\", \"random_normal\", \"random_uniform\"]\n",
    "bounds = [\"upper\", \"central\", \"lower\"]\n",
    "global_results = {}\n",
    "\n",
    "for deformation in deformations:\n",
    "    eps_max = 1.\n",
    "    for bound in bounds:\n",
    "        try:\n",
    "            result = {k: v for k, v in {k: v for k, v in existing_data.items() if v[\"null_config\"][\"name\"] == nplm_config[\"name\"] and v[\"deformation\"] == deformation and v[\"bound\"] == bound}.items() if v[\"exclusion_list\"] != []}\n",
    "        except:\n",
    "            result = {}\n",
    "        if result == {}:\n",
    "            print(f\"Computing {bound} bounds for {nplm_config['name']} with {deformation} deformation.\")\n",
    "            result = compute_exclusion_bisection_dataset_np(dataset = dataset,\n",
    "                                                            metric_config = nplm_config,\n",
    "                                                            test_kwargs = test_kwargs,\n",
    "                                                            model_dir = model_dir,\n",
    "                                                            deformation = deformation,\n",
    "                                                            seed_dist = 0,\n",
    "                                                            x_tol = 0.01,\n",
    "                                                            fn_tol = 0.05,\n",
    "                                                            bound = bound,\n",
    "                                                            eps_min = 0.,\n",
    "                                                            eps_max = eps_max,\n",
    "                                                            smear = 0.,\n",
    "                                                            max_iterations = 50,\n",
    "                                                            save = True,\n",
    "                                                            filename = \"exclusion_limits.json\",\n",
    "                                                            verbose = True)\n",
    "            eps_max = list(result.values())[0][\"exclusion_list\"][-1][3]\n",
    "        else:\n",
    "            print(f\"{bound.capitalize()} bounds for {nplm_config['name']} with {deformation} deformation already loaded.\")\n",
    "        global_results.update(result)\n",
    "        \n",
    "print(global_results.keys())"
   ]
  },
  {
   "cell_type": "markdown",
   "metadata": {},
   "source": [
    "## Show and save results"
   ]
  },
  {
   "cell_type": "code",
   "execution_count": 44,
   "metadata": {},
   "outputs": [],
   "source": [
    "import notebooks.shared as shared"
   ]
  },
  {
   "cell_type": "code",
   "execution_count": 45,
   "metadata": {},
   "outputs": [
    {
     "name": "stdout",
     "output_type": "stream",
     "text": [
      "Metric: nplm\n",
      "Metric: nplm\n",
      "Metric: nplm\n",
      "Metric: nplm\n",
      "Metric: nplm\n",
      "Metric: nplm\n",
      "Metric: nplm\n",
      "Metric: nplm\n",
      "Metric: nplm\n",
      "Metric: nplm\n",
      "Metric: nplm\n",
      "Metric: nplm\n",
      "Metric: nplm\n",
      "Metric: nplm\n",
      "Metric: nplm\n",
      "Metric: nplm\n",
      "Metric: nplm\n",
      "Metric: nplm\n",
      "Metric: nplm\n",
      "Metric: nplm\n",
      "Metric: nplm\n"
     ]
    }
   ],
   "source": [
    "results_df, times_df = shared.generate_result_dataframe_nplm(global_results, null_times)"
   ]
  },
  {
   "cell_type": "code",
   "execution_count": 46,
   "metadata": {},
   "outputs": [
    {
     "data": {
      "text/html": [
       "<div>\n",
       "<style scoped>\n",
       "    .dataframe tbody tr th:only-of-type {\n",
       "        vertical-align: middle;\n",
       "    }\n",
       "\n",
       "    .dataframe tbody tr th {\n",
       "        vertical-align: top;\n",
       "    }\n",
       "\n",
       "    .dataframe thead th {\n",
       "        text-align: right;\n",
       "    }\n",
       "</style>\n",
       "<table border=\"1\" class=\"dataframe\">\n",
       "  <thead>\n",
       "    <tr style=\"text-align: right;\">\n",
       "      <th></th>\n",
       "      <th>Statistic</th>\n",
       "      <th>$\\epsilon^{\\mu}_{95\\%\\mathrm{CL}}$</th>\n",
       "      <th>$\\epsilon^{\\mu}_{99\\%\\mathrm{CL}}$</th>\n",
       "      <th>$t^{\\mu}$ (s)</th>\n",
       "    </tr>\n",
       "  </thead>\n",
       "  <tbody>\n",
       "    <tr>\n",
       "      <th>2</th>\n",
       "      <td>NaN</td>\n",
       "      <td>$0.00245_{-0.00083}^{+0.00065}$</td>\n",
       "      <td>$0.00294_{-0.00061}^{+0.0006}$</td>\n",
       "      <td>$43949$</td>\n",
       "    </tr>\n",
       "  </tbody>\n",
       "</table>\n",
       "</div>"
      ],
      "text/plain": [
       "  Statistic $\\epsilon^{\\mu}_{95\\%\\mathrm{CL}}$  \\\n",
       "2       NaN    $0.00245_{-0.00083}^{+0.00065}$   \n",
       "\n",
       "  $\\epsilon^{\\mu}_{99\\%\\mathrm{CL}}$ $t^{\\mu}$ (s)  \n",
       "2     $0.00294_{-0.00061}^{+0.0006}$       $43949$  "
      ]
     },
     "metadata": {},
     "output_type": "display_data"
    },
    {
     "data": {
      "text/html": [
       "<div>\n",
       "<style scoped>\n",
       "    .dataframe tbody tr th:only-of-type {\n",
       "        vertical-align: middle;\n",
       "    }\n",
       "\n",
       "    .dataframe tbody tr th {\n",
       "        vertical-align: top;\n",
       "    }\n",
       "\n",
       "    .dataframe thead th {\n",
       "        text-align: right;\n",
       "    }\n",
       "</style>\n",
       "<table border=\"1\" class=\"dataframe\">\n",
       "  <thead>\n",
       "    <tr style=\"text-align: right;\">\n",
       "      <th></th>\n",
       "      <th>Statistic</th>\n",
       "      <th>$\\epsilon^{\\Sigma_{ii}}_{95\\%\\mathrm{CL}}$</th>\n",
       "      <th>$\\epsilon^{\\Sigma_{ii}}_{99\\%\\mathrm{CL}}$</th>\n",
       "      <th>$t^{\\Sigma_{ii}}$ (s)</th>\n",
       "    </tr>\n",
       "  </thead>\n",
       "  <tbody>\n",
       "    <tr>\n",
       "      <th>0</th>\n",
       "      <td>NaN</td>\n",
       "      <td>$0.00711_{-0.0028}^{+0.0022}$</td>\n",
       "      <td>$0.00866_{-0.0019}^{+0.0017}$</td>\n",
       "      <td>$41263$</td>\n",
       "    </tr>\n",
       "  </tbody>\n",
       "</table>\n",
       "</div>"
      ],
      "text/plain": [
       "  Statistic $\\epsilon^{\\Sigma_{ii}}_{95\\%\\mathrm{CL}}$  \\\n",
       "0       NaN              $0.00711_{-0.0028}^{+0.0022}$   \n",
       "\n",
       "  $\\epsilon^{\\Sigma_{ii}}_{99\\%\\mathrm{CL}}$ $t^{\\Sigma_{ii}}$ (s)  \n",
       "0              $0.00866_{-0.0019}^{+0.0017}$               $41263$  "
      ]
     },
     "metadata": {},
     "output_type": "display_data"
    },
    {
     "data": {
      "text/html": [
       "<div>\n",
       "<style scoped>\n",
       "    .dataframe tbody tr th:only-of-type {\n",
       "        vertical-align: middle;\n",
       "    }\n",
       "\n",
       "    .dataframe tbody tr th {\n",
       "        vertical-align: top;\n",
       "    }\n",
       "\n",
       "    .dataframe thead th {\n",
       "        text-align: right;\n",
       "    }\n",
       "</style>\n",
       "<table border=\"1\" class=\"dataframe\">\n",
       "  <thead>\n",
       "    <tr style=\"text-align: right;\">\n",
       "      <th></th>\n",
       "      <th>Statistic</th>\n",
       "      <th>$\\epsilon^{\\Sigma_{i\\neq j}}_{95\\%\\mathrm{CL}}$</th>\n",
       "      <th>$\\epsilon^{\\Sigma_{i\\neq j}}_{99\\%\\mathrm{CL}}$</th>\n",
       "      <th>$t^{\\Sigma_{i\\neq j}}$ (s)</th>\n",
       "    </tr>\n",
       "  </thead>\n",
       "  <tbody>\n",
       "    <tr>\n",
       "      <th>1</th>\n",
       "      <td>NaN</td>\n",
       "      <td>$0.0161_{-0.0063}^{+0.0043}$</td>\n",
       "      <td>$0.02015_{-0.0042}^{+0.0035}$</td>\n",
       "      <td>$32895$</td>\n",
       "    </tr>\n",
       "  </tbody>\n",
       "</table>\n",
       "</div>"
      ],
      "text/plain": [
       "  Statistic $\\epsilon^{\\Sigma_{i\\neq j}}_{95\\%\\mathrm{CL}}$  \\\n",
       "1       NaN                    $0.0161_{-0.0063}^{+0.0043}$   \n",
       "\n",
       "  $\\epsilon^{\\Sigma_{i\\neq j}}_{99\\%\\mathrm{CL}}$ $t^{\\Sigma_{i\\neq j}}$ (s)  \n",
       "1                   $0.02015_{-0.0042}^{+0.0035}$                    $32895$  "
      ]
     },
     "metadata": {},
     "output_type": "display_data"
    },
    {
     "data": {
      "text/html": [
       "<div>\n",
       "<style scoped>\n",
       "    .dataframe tbody tr th:only-of-type {\n",
       "        vertical-align: middle;\n",
       "    }\n",
       "\n",
       "    .dataframe tbody tr th {\n",
       "        vertical-align: top;\n",
       "    }\n",
       "\n",
       "    .dataframe thead th {\n",
       "        text-align: right;\n",
       "    }\n",
       "</style>\n",
       "<table border=\"1\" class=\"dataframe\">\n",
       "  <thead>\n",
       "    <tr style=\"text-align: right;\">\n",
       "      <th></th>\n",
       "      <th>Statistic</th>\n",
       "      <th>$\\epsilon^{\\rm{pow}_{+}}_{95\\%\\mathrm{CL}}$</th>\n",
       "      <th>$\\epsilon^{\\rm{pow}_{+}}_{99\\%\\mathrm{CL}}$</th>\n",
       "      <th>$t^{\\rm{pow}_{+}}$ (s)</th>\n",
       "    </tr>\n",
       "  </thead>\n",
       "  <tbody>\n",
       "    <tr>\n",
       "      <th>4</th>\n",
       "      <td>NaN</td>\n",
       "      <td>$0.02773_{-0.012}^{+0.01}$</td>\n",
       "      <td>$0.0342_{-0.0099}^{+0.011}$</td>\n",
       "      <td>$31569$</td>\n",
       "    </tr>\n",
       "  </tbody>\n",
       "</table>\n",
       "</div>"
      ],
      "text/plain": [
       "  Statistic $\\epsilon^{\\rm{pow}_{+}}_{95\\%\\mathrm{CL}}$  \\\n",
       "4       NaN                  $0.02773_{-0.012}^{+0.01}$   \n",
       "\n",
       "  $\\epsilon^{\\rm{pow}_{+}}_{99\\%\\mathrm{CL}}$ $t^{\\rm{pow}_{+}}$ (s)  \n",
       "4                 $0.0342_{-0.0099}^{+0.011}$                $31569$  "
      ]
     },
     "metadata": {},
     "output_type": "display_data"
    },
    {
     "data": {
      "text/html": [
       "<div>\n",
       "<style scoped>\n",
       "    .dataframe tbody tr th:only-of-type {\n",
       "        vertical-align: middle;\n",
       "    }\n",
       "\n",
       "    .dataframe tbody tr th {\n",
       "        vertical-align: top;\n",
       "    }\n",
       "\n",
       "    .dataframe thead th {\n",
       "        text-align: right;\n",
       "    }\n",
       "</style>\n",
       "<table border=\"1\" class=\"dataframe\">\n",
       "  <thead>\n",
       "    <tr style=\"text-align: right;\">\n",
       "      <th></th>\n",
       "      <th>Statistic</th>\n",
       "      <th>$\\epsilon^{\\rm{pow}_{-}}_{95\\%\\mathrm{CL}}$</th>\n",
       "      <th>$\\epsilon^{\\rm{pow}_{-}}_{99\\%\\mathrm{CL}}$</th>\n",
       "      <th>$t^{\\rm{pow}_{-}}$ (s)</th>\n",
       "    </tr>\n",
       "  </thead>\n",
       "  <tbody>\n",
       "    <tr>\n",
       "      <th>3</th>\n",
       "      <td>NaN</td>\n",
       "      <td>$0.0566_{-0.014}^{+0.011}$</td>\n",
       "      <td>$0.06276_{-0.0081}^{+0.011}$</td>\n",
       "      <td>$24114$</td>\n",
       "    </tr>\n",
       "  </tbody>\n",
       "</table>\n",
       "</div>"
      ],
      "text/plain": [
       "  Statistic $\\epsilon^{\\rm{pow}_{-}}_{95\\%\\mathrm{CL}}$  \\\n",
       "3       NaN                  $0.0566_{-0.014}^{+0.011}$   \n",
       "\n",
       "  $\\epsilon^{\\rm{pow}_{-}}_{99\\%\\mathrm{CL}}$ $t^{\\rm{pow}_{-}}$ (s)  \n",
       "3                $0.06276_{-0.0081}^{+0.011}$                $24114$  "
      ]
     },
     "metadata": {},
     "output_type": "display_data"
    },
    {
     "data": {
      "text/html": [
       "<div>\n",
       "<style scoped>\n",
       "    .dataframe tbody tr th:only-of-type {\n",
       "        vertical-align: middle;\n",
       "    }\n",
       "\n",
       "    .dataframe tbody tr th {\n",
       "        vertical-align: top;\n",
       "    }\n",
       "\n",
       "    .dataframe thead th {\n",
       "        text-align: right;\n",
       "    }\n",
       "</style>\n",
       "<table border=\"1\" class=\"dataframe\">\n",
       "  <thead>\n",
       "    <tr style=\"text-align: right;\">\n",
       "      <th></th>\n",
       "      <th>Statistic</th>\n",
       "      <th>$\\epsilon^{\\mathcal{N}}_{95\\%\\mathrm{CL}}$</th>\n",
       "      <th>$\\epsilon^{\\mathcal{N}}_{99\\%\\mathrm{CL}}$</th>\n",
       "      <th>$t^{\\mathcal{N}}$ (s)</th>\n",
       "    </tr>\n",
       "  </thead>\n",
       "  <tbody>\n",
       "    <tr>\n",
       "      <th>5</th>\n",
       "      <td>NaN</td>\n",
       "      <td>$0.11454_{-0.027}^{+0.019}$</td>\n",
       "      <td>$0.13012_{-0.017}^{+0.013}$</td>\n",
       "      <td>$20278$</td>\n",
       "    </tr>\n",
       "  </tbody>\n",
       "</table>\n",
       "</div>"
      ],
      "text/plain": [
       "  Statistic $\\epsilon^{\\mathcal{N}}_{95\\%\\mathrm{CL}}$  \\\n",
       "5       NaN                $0.11454_{-0.027}^{+0.019}$   \n",
       "\n",
       "  $\\epsilon^{\\mathcal{N}}_{99\\%\\mathrm{CL}}$ $t^{\\mathcal{N}}$ (s)  \n",
       "5                $0.13012_{-0.017}^{+0.013}$               $20278$  "
      ]
     },
     "metadata": {},
     "output_type": "display_data"
    },
    {
     "data": {
      "text/html": [
       "<div>\n",
       "<style scoped>\n",
       "    .dataframe tbody tr th:only-of-type {\n",
       "        vertical-align: middle;\n",
       "    }\n",
       "\n",
       "    .dataframe tbody tr th {\n",
       "        vertical-align: top;\n",
       "    }\n",
       "\n",
       "    .dataframe thead th {\n",
       "        text-align: right;\n",
       "    }\n",
       "</style>\n",
       "<table border=\"1\" class=\"dataframe\">\n",
       "  <thead>\n",
       "    <tr style=\"text-align: right;\">\n",
       "      <th></th>\n",
       "      <th>Statistic</th>\n",
       "      <th>$\\epsilon^{\\mathcal{U}}_{95\\%\\mathrm{CL}}$</th>\n",
       "      <th>$\\epsilon^{\\mathcal{U}}_{99\\%\\mathrm{CL}}$</th>\n",
       "      <th>$t^{\\mathcal{U}}$ (s)</th>\n",
       "    </tr>\n",
       "  </thead>\n",
       "  <tbody>\n",
       "    <tr>\n",
       "      <th>6</th>\n",
       "      <td>NaN</td>\n",
       "      <td>$0.19868_{-0.047}^{+0.033}$</td>\n",
       "      <td>$0.2244_{-0.029}^{+0.021}$</td>\n",
       "      <td>$19158$</td>\n",
       "    </tr>\n",
       "  </tbody>\n",
       "</table>\n",
       "</div>"
      ],
      "text/plain": [
       "  Statistic $\\epsilon^{\\mathcal{U}}_{95\\%\\mathrm{CL}}$  \\\n",
       "6       NaN                $0.19868_{-0.047}^{+0.033}$   \n",
       "\n",
       "  $\\epsilon^{\\mathcal{U}}_{99\\%\\mathrm{CL}}$ $t^{\\mathcal{U}}$ (s)  \n",
       "6                 $0.2244_{-0.029}^{+0.021}$               $19158$  "
      ]
     },
     "metadata": {},
     "output_type": "display_data"
    }
   ],
   "source": [
    "results_df_mean, results_df_cov_diag, results_df_cov_off_diag, results_df_power_abs_up, results_df_power_abs_down, results_df_random_normal, results_df_random_uniform = shared.get_individual_dfs(results_df, show = True)"
   ]
  },
  {
   "cell_type": "markdown",
   "metadata": {},
   "source": [
    "### Latex"
   ]
  },
  {
   "cell_type": "code",
   "execution_count": 47,
   "metadata": {},
   "outputs": [
    {
     "name": "stdout",
     "output_type": "stream",
     "text": [
      "\\begin{tabular}{l|llr|llr}\n",
      "\t\\toprule\n",
      "\t\\multicolumn{7}{c}{{\\bf Scaled Particle features with $\\mathbf{n=m=2\\cdot 10^{4}}$}} \\\\\n",
      "\t\\toprule\n",
      "\t\\multicolumn{1}{c}{} & \\multicolumn{3}{c}{$\\mu$-deformation} & \\multicolumn{3}{c}{$\\Sigma_{ii}$-deformation} \\\\\n",
      "\tStatistic & $\\epsilon_{95\\%\\mathrm{CL}}$ & $\\epsilon_{99\\%\\mathrm{CL}}$ & $t$ (s) & $\\epsilon_{95\\%\\mathrm{CL}}$ & $\\epsilon_{99\\%\\mathrm{CL}}$ & $t$ (s) \\\\\n",
      "\t\\midrule\n",
      "\t$t_{\\mathrm{NPLM}}$ & $0.00245_{-0.00083}^{+0.00065}$ & $0.00294_{-0.00061}^{+0.0006}$ & $43949$ & $0.00711_{-0.0028}^{+0.0022}$ & $0.00866_{-0.0019}^{+0.0017}$ & $41263$ \\\\\n",
      "\t\\toprule\n",
      "\t\\multicolumn{1}{c}{} & \\multicolumn{3}{c}{$\\Sigma_{i\\neq j}$-deformation} & \\multicolumn{3}{c}{$\\rm{pow}_{+}$-deformation} \\\\\n",
      "\tStatistic & $\\epsilon_{95\\%\\mathrm{CL}}$ & $\\epsilon_{99\\%\\mathrm{CL}}$ & $t$ (s) & $\\epsilon_{95\\%\\mathrm{CL}}$ & $\\epsilon_{99\\%\\mathrm{CL}}$ & $t$ (s) \\\\\n",
      "\t\\midrule\n",
      "\t$t_{\\mathrm{NPLM}}$ & $0.0161_{-0.0063}^{+0.0043}$ & $0.02015_{-0.0042}^{+0.0035}$ & $32895$ & $0.02773_{-0.012}^{+0.01}$ & $0.0342_{-0.0099}^{+0.011}$ & $31569$ \\\\\n",
      "\t\\toprule\n",
      "\t\\multicolumn{1}{c}{} & \\multicolumn{3}{c}{$\\rm{pow}_{-}$-deformation} & \\multicolumn{3}{c}{$\\mathcal{N}$-deformation} \\\\\n",
      "\tStatistic & $\\epsilon_{95\\%\\mathrm{CL}}$ & $\\epsilon_{99\\%\\mathrm{CL}}$ & $t$ (s) & $\\epsilon_{95\\%\\mathrm{CL}}$ & $\\epsilon_{99\\%\\mathrm{CL}}$ & $t$ (s) \\\\\n",
      "\t\\midrule\n",
      "\t$t_{\\mathrm{NPLM}}$ & $0.0566_{-0.014}^{+0.011}$ & $0.06276_{-0.0081}^{+0.011}$ & $24114$ & $0.11454_{-0.027}^{+0.019}$ & $0.13012_{-0.017}^{+0.013}$ & $20278$ \\\\\n",
      "\t\\toprule\n",
      "\t\\multicolumn{1}{c}{} & \\multicolumn{3}{c}{$\\mathcal{U}$-deformation} & \\multicolumn{3}{c}{Timing} \\\\\n",
      "\tStatistic & $\\epsilon_{95\\%\\mathrm{CL}}$ & $\\epsilon_{99\\%\\mathrm{CL}}$ & $t$ (s) & $t^{\\mathrm{null}}$ (s) \\\\\n",
      "\t\\midrule\n",
      "\t$t_{\\mathrm{NPLM}}$ & $0.19868_{-0.047}^{+0.033}$ & $0.2244_{-0.029}^{+0.021}$ & $19158$ & $4583$ \\\\\n",
      "\t\\bottomrule\n",
      "\\end{tabular}\n"
     ]
    },
    {
     "name": "stderr",
     "output_type": "stream",
     "text": [
      "/leonardo_scratch/fast/INF24_pmlhep_1/sgrossi0/projects/TwoSampleTest/NPLM_JetNetMetrics/notebooks/shared.py:544: FutureWarning: The behavior of Series.replace (and DataFrame.replace) with CategoricalDtype is deprecated. In a future version, replace will only be used for cases that preserve the categories. To change the categories, use ser.cat.rename_categories instead.\n",
      "  return df.replace(column_replacements)\n"
     ]
    }
   ],
   "source": [
    "#tex_string = shared.generate_result_latex_wide(results_df, times_df, nstring = \"10^{4}\")\n",
    "tex_string = shared.generate_result_latex_nplm(results_df, times_df, title = \"{\\\\bf Scaled Particle features with $\\\\mathbf{n=m=2\\cdot 10^{4}}$}\")\n",
    "print(tex_string)"
   ]
  },
  {
   "cell_type": "code",
   "execution_count": 48,
   "metadata": {},
   "outputs": [
    {
     "name": "stdout",
     "output_type": "stream",
     "text": [
      "LaTeX table code has been written to results/particle_features_30/tests/20K_preprocessed/results_table.tex\n"
     ]
    }
   ],
   "source": [
    "shared.save_latex(tex_string, model_dir)"
   ]
  },
  {
   "cell_type": "code",
   "execution_count": 49,
   "metadata": {},
   "outputs": [
    {
     "name": "stdout",
     "output_type": "stream",
     "text": [
      "\\begin{tabular}{l|llr|llr}\n",
      "\t\\toprule\n",
      "\t\\multicolumn{7}{c}{{\\bf Scaled Particle features with $\\mathbf{n=m=2\\cdot 10^{4}}$}} \\\\\n",
      "\t\\toprule\n",
      "\t\\multicolumn{1}{c}{} & \\multicolumn{3}{c}{$\\mu$-deformation} & \\multicolumn{3}{c}{$\\Sigma_{ii}$-deformation} \\\\\n",
      "\tStatistic & $\\epsilon_{95\\%\\mathrm{CL}}$ & $\\epsilon_{99\\%\\mathrm    {CL}}$ & $t$ (s) & $\\epsilon_{95\\%\\mathrm{CL}}$ & $\\epsilon_{99\\%\\mathrm{CL}}$ & $t$ (s) \\\\\n",
      "\t\\midrule\n",
      "\t$t_{\\mathrm{SW}}$ & $0.02051_{-0.0073}^{+0.0059}$ & $0.02921_{-0.003}^{+0.0058}$ & ${\\mathbf{1482}}$ & $0.02531_{-0.01}^{+0.0089}$ & $0.03339_{-0.0057}^{+0.01}$ & ${\\mathbf{1030}}$ \\\\\n",
      "\t$t_{\\overline{\\mathrm{KS}}}$ & ${\\mathbf{0.00993_{-0.0078}^{+0.0052}}}$ & ${\\mathbf{0.01668_{-0.0032}^{+0.0052}}}$ & $1875$ & $0.02465_{-0.019}^{+0.016}$ & $0.03767_{-0.0092}^{+0.017}$ & $2464$ \\\\\n",
      "\t$t_{\\mathrm{SKS}}$ & $0.01919_{-0.0065}^{+0.0052}$ & $0.02798_{-0.0067}^{+0.0013}$ & $3630$ & $0.03319_{-0.013}^{+0.0078}$ & $0.04406_{-0.014}^{+0.0065}$ & $4096$ \\\\\n",
      "\t$t_{\\mathrm{FGD}}$ & $0.02609_{-0.011}^{+0.0054}$ & $0.03056_{-0.0049}^{+0.0057}$ & $4986$ & ${\\mathbf{0.02305_{-0.0093}^{+0.0077}}}$ & ${\\mathbf{0.02833_{-0.0078}^{+0.0068}}}$ & $6023$ \\\\\n",
      "\t$t_{\\mathrm{MMD}}$ & $0.028_{-0.011}^{+0.0042}$ & $0.03484_{-0.0056}^{+0.0041}$ & $3875$ & $0.02671_{-0.011}^{+0.011}$ & $0.03206_{-0.0088}^{+0.012}$ & $4796$ \\\\\n",
      "\\rowcolor{red!35}\t$t_{\\mathrm{NPLM}}$ & $0.00245_{-0.00083}^{+0.00065}$ & $0.00294_{-0.00061}^{+0.0006}$ & $43949$ & $0.00711_{-0.0028}^{+0.0022}$ & $0.00866_{-0.0019}^{+0.0017}$ & $41263$ \\\\\n",
      "\t\\toprule\n",
      "\t\\multicolumn{1}{c}{} & \\multicolumn{3}{c}{$\\Sigma_{i\\neq j}$-deformation} & \\multicolumn{3}{c}{$\\rm{pow}_{+}$-deformation} \\\\\n",
      "Statistic & $\\epsilon_{95\\%\\mathrm{CL}}$ & $\\epsilon_{99\\%\\mathrm{CL}}$ & $t$ (s) & $\\epsilon_{95\\%\\mathrm{CL}}$ & $\\epsilon_{99\\%\\mathrm{CL}}$ & $t$ (s) \\\\\n",
      "\t\\midrule\n",
      "\t$t_{\\mathrm{SW}}$ & $0.05216_{-0.021}^{+0.0084}$ & $0.06924_{-0.012}^{+0.01}$ & ${\\mathbf{2288}}$ & $0.03068_{-0.014}^{+0.01}$ & $0.03771_{-0.0064}^{+0.009}$ & ${\\mathbf{968}}$ \\\\\n",
      "\t$t_{\\overline{\\mathrm{KS}}}$ & $1.03785_{-0.024}^{+0.009}$ & $1.04608_{-0.016}^{+0.0082}$ & $2734$ & ${\\mathbf{0.01587_{-0.013}^{+0.0085}}}$ & ${\\mathbf{0.02425_{-0.0046}^{+0.011}}}$ & $3768$ \\\\\n",
      "\t$t_{\\mathrm{SKS}}$ & $0.06232_{-0.028}^{+0.014}$ & $0.0766_{-0.0079}^{+0.018}$ & $7333$ & $0.04819_{-0.017}^{+0.016}$ & $0.06357_{-0.01}^{+0.02}$ & $5176$ \\\\\n",
      "\t$t_{\\mathrm{FGD}}$ & ${\\mathbf{0.00395_{-0.0014}^{+0.0012}}}$ & ${\\mathbf{0.00521_{-0.0012}^{+0.0016}}}$ & $10771$ & $0.0243_{-0.0098}^{+0.0079}$ & $0.02987_{-0.0082}^{+0.0072}$ & $4923$ \\\\\n",
      "\t$t_{\\mathrm{MMD}}$ & $0.03602_{-0.015}^{+0.013}$ & $0.04256_{-0.012}^{+0.014}$ & $41440$ & $0.03037_{-0.012}^{+0.011}$ & $0.03734_{-0.011}^{+0.0089}$ & $5925$ \\\\\n",
      "\\rowcolor{red!35}\t$t_{\\mathrm{NPLM}}$ & $0.0161_{-0.0063}^{+0.0043}$ & $0.02015_{-0.0042}^{+0.0035}$ & $32895$ & $0.02773_{-0.012}^{+0.01}$ & $0.0342_{-0.0099}^{+0.011}$ & $31569$ \\\\\n",
      "\t\\toprule\n",
      "\t\\multicolumn{1}{c}{} & \\multicolumn{3}{c}{$\\rm{pow}_{-}$-deformation} & \\multicolumn{3}{c}{$\\mathcal{N}$-deformation} \\\\\n",
      "Statistic & $\\epsilon_{95\\%\\mathrm{CL}}$ & $\\epsilon_{99\\%\\mathrm{CL}}$ & $t$ (s) & $\\epsilon_{95\\%\\mathrm{CL}}$ & $\\epsilon_{99\\%\\mathrm{CL}}$ & $t$ (s) \\\\\n",
      "\t\\midrule\n",
      "\t$t_{\\mathrm{SW}}$ & $0.03574_{-0.016}^{+0.0092}$ & $0.04394_{-0.011}^{+0.011}$ & ${\\mathbf{973}}$ & $0.13338_{-0.023}^{+0.031}$ & $0.15296_{-0.0054}^{+0.033}$ & ${\\mathbf{787}}$ \\\\\n",
      "\t$t_{\\overline{\\mathrm{KS}}}$ & ${\\mathbf{0.01675_{-0.013}^{+0.0096}}}$ & ${\\mathbf{0.0256_{-0.0076}^{+0.011}}}$ & $4374$ & $0.09466_{-0.023}^{+0.019}$ & $0.10855_{-0.021}^{+0.023}$ & $3825$ \\\\\n",
      "\t$t_{\\mathrm{SKS}}$ & $0.05724_{-0.025}^{+0.011}$ & $0.07036_{-0.0072}^{+0.017}$ & $5169$ & $0.13338_{-0.023}^{+0.031}$ & $0.15296_{-0.016}^{+0.033}$ & $4479$ \\\\\n",
      "\t$t_{\\mathrm{FGD}}$ & $0.02527_{-0.011}^{+0.0089}$ & $0.03169_{-0.0076}^{+0.0083}$ & $4913$ & ${\\mathbf{0.06571_{-0.012}^{+0.0056}}}$ & ${\\mathbf{0.07484_{-0.011}^{+0.003}}}$ & $4537$ \\\\\n",
      "\t$t_{\\mathrm{MMD}}$ & $0.03366_{-0.015}^{+0.01}$ & $0.04192_{-0.01}^{+0.011}$ & $6008$ & $0.35498_{-0.049}^{+0.028}$ & $0.40428_{-0.043}^{+0.016}$ & $4996$ \\\\\n",
      "\\rowcolor{red!35}\t$t_{\\mathrm{NPLM}}$ & $0.0566_{-0.014}^{+0.011}$ & $0.06276_{-0.0081}^{+0.011}$ & $24114$ & $0.11454_{-0.027}^{+0.019}$ & $0.13012_{-0.017}^{+0.013}$ & $20278$ \\\\\n",
      "\t\\toprule\n",
      "\t\\multicolumn{1}{c}{} & \\multicolumn{3}{c}{$\\mathcal{U}$-deformation} & \\multicolumn{3}{c}{Timing} \\\\\n",
      "Statistic & $\\epsilon_{95\\%\\mathrm{CL}}$ & $\\epsilon_{99\\%\\mathrm{CL}}$ & $t$ (s) & $t^{\\mathrm{null}}$ (s) \\\\\n",
      "\t\\midrule\n",
      "\t$t_{\\mathrm{SW}}$ & $0.22562_{-0.041}^{+0.048}$ & $0.2808_{-0.036}^{+0.033}$ & ${\\mathbf{765}}$ & ${\\mathbf{269}}$ \\\\\n",
      "\t$t_{\\overline{\\mathrm{KS}}}$ & $0.1547_{-0.043}^{+0.025}$ & $0.19254_{-0.046}^{+0.023}$ & $4034$ & $353$ \\\\\n",
      "\t$t_{\\mathrm{SKS}}$ & $0.22562_{-0.041}^{+0.048}$ & $0.2808_{-0.054}^{+0.033}$ & $4777$ & $857$ \\\\\n",
      "\t$t_{\\mathrm{FGD}}$ & ${\\mathbf{0.11465_{-0.027}^{+0.0084}}}$ & ${\\mathbf{0.11995_{-0.004}^{+0.016}}}$ & $4174$ & $1336$ \\\\\n",
      "\t$t_{\\mathrm{MMD}}$ & $0.61572_{-0.1}^{+0.041}$ & $0.70123_{-0.081}^{+0.029}$ & $2536$ & $862$ \\\\\n",
      "\\rowcolor{red!35}\t$t_{\\mathrm{NPLM}}$ & $0.19868_{-0.047}^{+0.033}$ & $0.2244_{-0.029}^{+0.021}$ & $19158$ & $4583$ \\\\\n",
      "\t\\bottomrule\n",
      "\\end{tabular}\n"
     ]
    }
   ],
   "source": [
    "import re\n",
    "      \n",
    "# Path to the old metrics results table\n",
    "file_path_other_metrics = \"/leonardo_scratch/fast/INF24_pmlhep_1/rtorre00/projects/JetNetMetrics/results/particle_features_30/tests/20K_preprocessed/results_table.tex\"\n",
    "with open(file_path_other_metrics, 'r') as file:\n",
    "    table_other_metrics = file.read()\n",
    "\n",
    "# in the NPLM table isolate the rows with NPLM results and color them in red\n",
    "nplm_rows = []\n",
    "lines_nplm = tex_string.splitlines()\n",
    "for line in lines_nplm:\n",
    "\tif \"$t_{\\mathrm{NPLM}}$\" in line:\n",
    "\t\tnplm_rows.append(\"\\\\rowcolor{red!35}\"+line)\n",
    "\telse:\n",
    "\t\tpass\n",
    "\n",
    "sw_rows = []\n",
    "lines_sw = table_other_metrics.splitlines()\n",
    "for line in lines_sw:\n",
    "\tif \"$t_{\\mathrm{SW}}$\" in line:\n",
    "\t\tsw_rows.append(line)\n",
    "\telse:\n",
    "\t\tpass\n",
    "\n",
    "ks_rows = []\n",
    "lines_ks = table_other_metrics.splitlines()\n",
    "for line in lines_ks:\n",
    "\tif \"$t_{\\overline{\\mathrm{KS}}}$\" in line:\n",
    "\t\tks_rows.append(line)\n",
    "\telse:\n",
    "\t\tpass\n",
    "\n",
    "sks_rows = []\n",
    "lines_sks = table_other_metrics.splitlines()\n",
    "for line in lines_sks:\n",
    "\tif \"$t_{\\mathrm{SKS}}$\" in line:\n",
    "\t\tsks_rows.append(line)\n",
    "\telse:\n",
    "\t\tpass\n",
    "\n",
    "fgd_rows = []\n",
    "lines_fgd = table_other_metrics.splitlines()\n",
    "for line in lines_fgd:\n",
    "\tif \"$t_{\\mathrm{FGD}}$\" in line:\n",
    "\t\tfgd_rows.append(line)\n",
    "\telse:\n",
    "\t\tpass\n",
    "\n",
    "mmd_rows = []\n",
    "lines_mmd = table_other_metrics.splitlines()\n",
    "for line in lines_mmd:\n",
    "\tif \"$t_{\\mathrm{MMD}}$\" in line:\n",
    "\t\tmmd_rows.append(line)\n",
    "\telse:\n",
    "\t\tpass\n",
    "\n",
    "lines_old = table_other_metrics.splitlines()\n",
    "new_lines = []\n",
    "i = 0  \n",
    "\n",
    "# add the NPLM results between the MMD and the LLR results in the old metric\n",
    "for lines in lines_old:\n",
    "    if \"$t_{\\\\mathrm{SW}}$\" in lines:\n",
    "        new_lines.append(lines)\n",
    "        new_lines.append(ks_rows[i])\n",
    "        new_lines.append(sks_rows[i])\n",
    "        new_lines.append(fgd_rows[i])\n",
    "        new_lines.append(mmd_rows[i])\n",
    "        new_lines.append(nplm_rows[i])\n",
    "        i = (i + 1) % len(nplm_rows)\n",
    "    elif \"$\\epsilon^{\\\\rm   {pow}_{+}}_{99\\%\\mathrm{CL}}$\" in lines:\n",
    "        new_lines.append(\"Statistic & $\\epsilon_{95\\%\\mathrm{CL}}$ & $\\epsilon_{99\\%\\mathrm{CL}}$ & $t$ (s) & $\\epsilon_{95\\%\\mathrm{CL}}$ & $\\epsilon_{99\\%\\mathrm{CL}}$ & $t$ (s) \\\\\\\\\")\n",
    "    elif \"$\\epsilon^    {\\mathcal{N}}_{99\\%\\mathrm{CL}}$\" in lines:\n",
    "        new_lines.append(\"Statistic & $\\epsilon_{95\\%\\mathrm{CL}}$ & $\\epsilon_{99\\%\\mathrm{CL}}$ & $t$ (s) & $\\epsilon_{95\\%\\mathrm{CL}}$ & $\\epsilon_{99\\%\\mathrm{CL}}$ & $t$ (s) \\\\\\\\\")\n",
    "    elif \"$\\epsilon^    {\\mathcal{U}}_{99\\%\\mathrm{CL}}$\" in lines:\n",
    "        new_lines.append(\"Statistic & $\\epsilon_{95\\%\\mathrm{CL}}$ & $\\epsilon_{99\\%\\mathrm{CL}}$ & $t$ (s) & $t^{\\mathrm{null}}$ (s) \\\\\\\\\")\n",
    "    elif \"$t_{\\overline{\\mathrm{KS}}}$\" in lines:\n",
    "        pass\n",
    "    elif \"$t_{\\mathrm{SKS}}$\" in lines:\n",
    "        pass\n",
    "    elif \"$t_{\\mathrm{FGD}}$\" in lines:\n",
    "        pass\n",
    "    elif \"$t_{\\mathrm{MMD}}$\" in lines:\n",
    "        pass\n",
    "    elif \"$t_{\\mathrm{LLR}}$\" in lines:\n",
    "        pass\n",
    "    else:\n",
    "        new_lines.append(lines)\n",
    "\n",
    "updated_table = \"\\n\".join(new_lines)\n",
    "\n",
    "print(updated_table)"
   ]
  },
  {
   "cell_type": "code",
   "execution_count": 50,
   "metadata": {},
   "outputs": [
    {
     "name": "stdout",
     "output_type": "stream",
     "text": [
      "LaTeX table code has been written to results/particle_features_30/tests/20K_preprocessed/results_table_updated.tex\n"
     ]
    }
   ],
   "source": [
    "shared.save_update_latex(updated_table, model_dir)"
   ]
  }
 ],
 "metadata": {
  "kernelspec": {
   "display_name": "tf2_custom_torch2.2",
   "language": "python",
   "name": "python3"
  },
  "language_info": {
   "codemirror_mode": {
    "name": "ipython",
    "version": 3
   },
   "file_extension": ".py",
   "mimetype": "text/x-python",
   "name": "python",
   "nbconvert_exporter": "python",
   "pygments_lexer": "ipython3",
   "version": "3.11.6"
  }
 },
 "nbformat": 4,
 "nbformat_minor": 2
}
