{
 "cells": [
  {
   "cell_type": "markdown",
   "metadata": {},
   "source": [
    "# Initialize"
   ]
  },
  {
   "cell_type": "code",
   "execution_count": 1,
   "metadata": {},
   "outputs": [
    {
     "name": "stdout",
     "output_type": "stream",
     "text": [
      "/leonardo_scratch/fast/INF24_pmlhep_1/sgrossi0/projects/TwoSampleTest/NPLM_JetNetMetrics\n"
     ]
    },
    {
     "name": "stderr",
     "output_type": "stream",
     "text": [
      "/leonardo_scratch/fast/INF24_pmlhep_1/envs/tf2_custom_torch2.2/lib/python3.11/site-packages/IPython/core/magics/osm.py:417: UserWarning: This is now an optional IPython functionality, setting dhist requires you to install the `pickleshare` library.\n",
      "  self.shell.db['dhist'] = compress_dhist(dhist)[-100:]\n"
     ]
    }
   ],
   "source": [
    "%cd \"/leonardo_scratch/fast/INF24_pmlhep_1/sgrossi0/projects/TwoSampleTest/NPLM_JetNetMetrics\""
   ]
  },
  {
   "cell_type": "code",
   "execution_count": 2,
   "metadata": {},
   "outputs": [
    {
     "name": "stdout",
     "output_type": "stream",
     "text": [
      "2024-11-12 16:08:29.779857: Importing os...\n",
      "2024-11-12 16:08:29.780016: Importing sys...\n",
      "Visible devices: [2]\n",
      "2024-11-12 16:08:29.780251: Importing timer from timeit...\n",
      "2024-11-12 16:08:29.780321: Setting env variables for tf import (only device(s) [2] will be available)...\n",
      "2024-11-12 16:08:29.780445: Importing numpy...\n",
      "2024-11-12 16:08:29.887733: Importing matplotlib...\n",
      "2024-11-12 16:08:30.236647: Importing h5py...\n",
      "2024-11-12 16:08:30.267057: Importing importlib.util...\n",
      "2024-11-12 16:08:30.267158: Importing json...\n",
      "2024-11-12 16:08:30.267220: Importing pandas...\n",
      "2024-11-12 16:08:30.687657: Importing random...\n",
      "2024-11-12 16:08:30.687802: Importing scipy utils...\n",
      "2024-11-12 16:08:31.170374: Importing subprocess...\n",
      "2024-11-12 16:08:31.170513: Importing textwrap...\n",
      "2024-11-12 16:08:31.170575: Importing tensorflow...\n",
      "Tensorflow version: 2.16.1\n",
      "2024-11-12 16:08:34.443749: Importing tensorflow_probability...\n",
      "Tensorflow probability version: 0.24.0\n",
      "2024-11-12 16:08:35.527152: Importing timeit...\n",
      "2024-11-12 16:08:35.527244: Importing tqdm...\n",
      "2024-11-12 16:08:35.534882: Importing typing...\n",
      "2024-11-12 16:08:35.534993: Setting tf configs...\n",
      "2024-11-12 16:08:35.607582: Importing GMetrics module...\n"
     ]
    },
    {
     "name": "stderr",
     "output_type": "stream",
     "text": [
      "/leonardo_scratch/fast/INF24_pmlhep_1/envs/tf2_custom_torch2.2/lib/python3.11/site-packages/jetnet/utils/utils.py:7: FutureWarning: In version 2024.7.0 (target date: 2024-06-30 11:59:59-05:00), this will be an error.\n",
      "To raise these warnings as errors (and get stack traces to find out where they're called), run\n",
      "    import warnings\n",
      "    warnings.filterwarnings(\"error\", module=\"coffea.*\")\n",
      "after the first `import coffea` or use `@pytest.mark.filterwarnings(\"error:::coffea.*\")` in pytest.\n",
      "Issue: coffea.nanoevents.methods.vector will be removed and replaced with scikit-hep vector. Nanoevents schemas internal to coffea will be migrated. Otherwise please consider using that package!.\n",
      "  from coffea.nanoevents.methods import vector\n"
     ]
    },
    {
     "name": "stdout",
     "output_type": "stream",
     "text": [
      "2024-11-12 16:08:41.140000: Importing jetnet.evaluation.gen_metrics module...\n",
      "Successfully loaded GPU #2, model: NVIDIA A100-SXM-64GB\n",
      "Loaded 1 GPUs: ['NVIDIA A100-SXM-64GB']\n",
      "2024-11-12 16:08:41.170644: All done.\n"
     ]
    }
   ],
   "source": [
    "visible_devices = [2]\n",
    "from datetime import datetime\n",
    "print(datetime.now().strftime(\"%Y-%m-%d %H:%M:%S.%f\")+\":\", \"Importing os...\")\n",
    "import os\n",
    "print(datetime.now().strftime(\"%Y-%m-%d %H:%M:%S.%f\")+\":\", \"Importing sys...\")\n",
    "import sys\n",
    "if not any(\"ipykernel\" in arg for arg in sys.argv):\n",
    "    print(datetime.now().strftime(\"%Y-%m-%d %H:%M:%S.%f\")+\":\", \"Importing and initializing argparse...\")\n",
    "    import argparse\n",
    "    parser = argparse.ArgumentParser()\n",
    "    parser.add_argument(\"-v\", \"--visible_devices\", help=\"Set visible devices\", nargs='*', type=list, default=visible_devices)\n",
    "    args = parser.parse_args()\n",
    "    visible_devices = args.visible_devices if args.visible_devices else visible_devices\n",
    "    if not isinstance(visible_devices, list):\n",
    "        raise ValueError(\"Visible devices must be a list of integers\")\n",
    "    for i in visible_devices:\n",
    "        if not isinstance(i, int):\n",
    "            raise ValueError(\"Visible devices must be a list of integers\")\n",
    "print(\"Visible devices:\", visible_devices)\n",
    "print(datetime.now().strftime(\"%Y-%m-%d %H:%M:%S.%f\")+\":\", \"Importing timer from timeit...\")\n",
    "from timeit import default_timer as timer\n",
    "print(datetime.now().strftime(\"%Y-%m-%d %H:%M:%S.%f\")+\":\", \"Setting env variables for tf import (only device(s)\", visible_devices, \"will be available)...\")\n",
    "os.environ[\"CUDA_VISIBLE_DEVICES\"] = ','.join([str(i) for i in visible_devices]) # type: ignore\n",
    "os.environ['TF_CPP_MIN_LOG_LEVEL'] = '2'\n",
    "#os.environ['TF_XLA_FLAGS'] = '--tf_xla_enable_xla_devices'\n",
    "#os.environ['TF_XLA_FLAGS'] = '--tf_xla_auto_jit=2'\n",
    "print(datetime.now().strftime(\"%Y-%m-%d %H:%M:%S.%f\")+\":\", \"Importing numpy...\")\n",
    "import numpy as np # type: ignore\n",
    "print(datetime.now().strftime(\"%Y-%m-%d %H:%M:%S.%f\")+\":\", \"Importing matplotlib...\")\n",
    "from matplotlib import pyplot as plt\n",
    "print(datetime.now().strftime(\"%Y-%m-%d %H:%M:%S.%f\")+\":\", \"Importing h5py...\")\n",
    "import h5py # type: ignore\n",
    "print(datetime.now().strftime(\"%Y-%m-%d %H:%M:%S.%f\")+\":\", \"Importing importlib.util...\")\n",
    "import importlib.util\n",
    "print(datetime.now().strftime(\"%Y-%m-%d %H:%M:%S.%f\")+\":\", \"Importing json...\")\n",
    "import json\n",
    "print(datetime.now().strftime(\"%Y-%m-%d %H:%M:%S.%f\")+\":\", \"Importing pandas...\")\n",
    "import pandas as pd\n",
    "print(datetime.now().strftime(\"%Y-%m-%d %H:%M:%S.%f\")+\":\", \"Importing random...\")\n",
    "import random\n",
    "print(datetime.now().strftime(\"%Y-%m-%d %H:%M:%S.%f\")+\":\", \"Importing scipy utils...\")\n",
    "from scipy.stats import norm, lognorm, chi2, kstwo, kstwobign, ks_2samp, moment\n",
    "from scipy.special import kolmogorov\n",
    "from scipy.optimize import minimize, curve_fit, root, bisect\n",
    "print(datetime.now().strftime(\"%Y-%m-%d %H:%M:%S.%f\")+\":\", \"Importing subprocess...\")\n",
    "import subprocess\n",
    "print(datetime.now().strftime(\"%Y-%m-%d %H:%M:%S.%f\")+\":\", \"Importing textwrap...\")\n",
    "import textwrap\n",
    "print(datetime.now().strftime(\"%Y-%m-%d %H:%M:%S.%f\")+\":\", \"Importing tensorflow...\")\n",
    "import tensorflow as tf # type: ignore\n",
    "print(\"Tensorflow version:\", tf.__version__)\n",
    "print(datetime.now().strftime(\"%Y-%m-%d %H:%M:%S.%f\")+\":\", \"Importing tensorflow_probability...\")\n",
    "import tensorflow_probability as tfp # type: ignore\n",
    "tfd = tfp.distributions\n",
    "print(\"Tensorflow probability version:\", tfp.__version__)\n",
    "print(datetime.now().strftime(\"%Y-%m-%d %H:%M:%S.%f\")+\":\", \"Importing timeit...\")\n",
    "from timeit import default_timer as timer\n",
    "print(datetime.now().strftime(\"%Y-%m-%d %H:%M:%S.%f\")+\":\", \"Importing tqdm...\")\n",
    "from tqdm import tqdm\n",
    "print(datetime.now().strftime(\"%Y-%m-%d %H:%M:%S.%f\")+\":\", \"Importing typing...\")\n",
    "from typing import List, Tuple, Dict, Callable, Union, Optional, Any, Type\n",
    "print(datetime.now().strftime(\"%Y-%m-%d %H:%M:%S.%f\")+\":\", \"Setting tf configs...\")\n",
    "gpu_devices = tf.config.experimental.list_physical_devices('GPU')\n",
    "for gpu_device in gpu_devices:\n",
    "    tf.config.experimental.set_memory_growth(gpu_device, True)\n",
    "\n",
    "print(datetime.now().strftime(\"%Y-%m-%d %H:%M:%S.%f\")+\":\", \"Importing GMetrics module...\")\n",
    "\n",
    "import GMetrics # type: ignore\n",
    "from GMetrics.plotters import plot_corners, cornerplotter, plot_corr_matrix, plot_corr_matrix_side_by_side # type: ignore\n",
    "from GMetrics.more.deformations import deformed_distribution, deform_mean, deform_cov_diag, deform_cov_off_diag, deform_power_abs, deform_random\n",
    "from GMetrics.more.optimizers_deformations import compute_exclusion_bisection_dataset_np # type: ignore\n",
    "from GMetrics.utils import se_mean, se_std\n",
    "\n",
    "print(datetime.now().strftime(\"%Y-%m-%d %H:%M:%S.%f\")+\":\", \"Importing jetnet.evaluation.gen_metrics module...\")\n",
    "import jetnet\n",
    "\n",
    "def get_gpu_info():\n",
    "    try:\n",
    "        gpu_info = subprocess.check_output([\"nvidia-smi\", \"--query-gpu=gpu_name\", \"--format=csv,noheader\"]).decode('utf-8')\n",
    "        return gpu_info.strip().split('\\n')\n",
    "    except Exception as e:\n",
    "        print(e)\n",
    "        return None\n",
    "training_devices = []\n",
    "gpu_models = get_gpu_info()\n",
    "for i in visible_devices:\n",
    "    if gpu_models:\n",
    "        training_devices.append(gpu_models[i])\n",
    "        print(f\"Successfully loaded GPU #{i}, model: {gpu_models[i]}\")\n",
    "    else:\n",
    "        training_devices.append('undetermined')\n",
    "        print(f\"Failed to load GPU {i} model. Defaulting to 'undetermined'.\")\n",
    "print(f\"Loaded {len(training_devices)} GPUs: {training_devices}\")\n",
    "        \n",
    "print(datetime.now().strftime(\"%Y-%m-%d %H:%M:%S.%f\")+\":\", \"All done.\")"
   ]
  },
  {
   "cell_type": "markdown",
   "metadata": {},
   "source": [
    "# Load data"
   ]
  },
  {
   "cell_type": "code",
   "execution_count": 3,
   "metadata": {},
   "outputs": [],
   "source": [
    "data = jetnet.datasets.JetNet.getData(jet_type = \"g\",\n",
    "                                      data_dir = \"data/g\",\n",
    "                                      particle_features = \"all\",\n",
    "                                      jet_features = \"all\",\n",
    "                                      num_particles = 30,\n",
    "                                      split = \"all\",\n",
    "                                      split_fraction = None,\n",
    "                                      seed = 42,\n",
    "                                      download = False,\n",
    "                                     )"
   ]
  },
  {
   "cell_type": "code",
   "execution_count": 4,
   "metadata": {},
   "outputs": [],
   "source": [
    "def get_particle_features(relative_features,\n",
    "                          jet_features):\n",
    "    eta_rel = relative_features[:, :, 0]\n",
    "    phi_rel = relative_features[:, :, 1]\n",
    "    pt_rel = relative_features[:, :, 2]\n",
    "    mask = relative_features[:, :, 3]\n",
    "    eta_jet = jet_features[:, 2]\n",
    "    pt_jet = jet_features[:, 1]\n",
    "    eta_particle = eta_jet[:, None] + eta_rel\n",
    "    phi_paericle = phi_rel\n",
    "    pt_particle = pt_jet[:, None] * pt_rel\n",
    "    particle_features = tf.stack([eta_particle, phi_paericle, pt_particle, mask], axis = 2)\n",
    "    return particle_features"
   ]
  },
  {
   "cell_type": "code",
   "execution_count": 5,
   "metadata": {},
   "outputs": [
    {
     "name": "stdout",
     "output_type": "stream",
     "text": [
      "relative_features.shape: (177252, 30, 4)\n",
      "jet_features.shape: (177252, 5)\n",
      "particle_features.shape: (177252, 30, 4)\n"
     ]
    }
   ],
   "source": [
    "relative_features = tf.cast(data[0], tf.float64)                            #    ``[\"etarel\", \"phirel\", \"ptrel\", \"mask\"]``.\n",
    "jet_features = tf.cast(data[1], tf.float64)                                 #    ``[\"type\", \"pt\", \"eta\", \"mass\", \"num_particles\"]``.\n",
    "particle_features = get_particle_features(relative_features, jet_features)  #    ``[\"eta\", \"phi\", \"pt\", \"mask\"]``.\n",
    "print(f\"relative_features.shape: {relative_features.shape}\")\n",
    "print(f\"jet_features.shape: {jet_features.shape}\")\n",
    "print(f\"particle_features.shape: {particle_features.shape}\")"
   ]
  },
  {
   "cell_type": "markdown",
   "metadata": {},
   "source": [
    "## Init data"
   ]
  },
  {
   "cell_type": "code",
   "execution_count": 6,
   "metadata": {},
   "outputs": [
    {
     "name": "stdout",
     "output_type": "stream",
     "text": [
      "Directory alredy exists\n"
     ]
    }
   ],
   "source": [
    "results_dir = \"results/particle_features_30/\"\n",
    "figures_dir = os.path.join(results_dir, \"figures/\")\n",
    "if not os.path.exists(figures_dir):\n",
    "    os.makedirs(figures_dir)\n",
    "    print(\"Results directories were created\")\n",
    "else:\n",
    "    print(\"Directory alredy exists\")"
   ]
  },
  {
   "cell_type": "code",
   "execution_count": 7,
   "metadata": {},
   "outputs": [
    {
     "data": {
      "text/plain": [
       "TensorShape([177252, 90])"
      ]
     },
     "execution_count": 7,
     "metadata": {},
     "output_type": "execute_result"
    }
   ],
   "source": [
    "def preprocess_data(data,means,stds):\n",
    "    preprocess_data=(data-means)/stds\n",
    "    return preprocess_data\n",
    "\n",
    "def postprocess_data(data,means,stds):\n",
    "    postprocess_data=data*stds+means\n",
    "    return postprocess_data\n",
    "\n",
    "def get_reduced_particle_features(particle_features):\n",
    "    tmp = particle_features[:, :, :3]\n",
    "    shape = tmp.shape\n",
    "    particle_features_reshaped = tf.reshape(tmp, [-1, shape[1] * shape[2]])\n",
    "    return particle_features_reshaped\n",
    "\n",
    "particle_features_reduced = get_reduced_particle_features(particle_features)\n",
    "particle_features_reduced.shape"
   ]
  },
  {
   "cell_type": "markdown",
   "metadata": {},
   "source": [
    "# TwoSample Test"
   ]
  },
  {
   "cell_type": "code",
   "execution_count": 8,
   "metadata": {},
   "outputs": [
    {
     "name": "stdout",
     "output_type": "stream",
     "text": [
      "Directory results/particle_features_30/tests/50K/ already exists\n"
     ]
    }
   ],
   "source": [
    "tests_dir = os.path.join(results_dir, \"tests/\")\n",
    "model_dir = os.path.join(tests_dir, '50K/')\n",
    "if not os.path.exists(model_dir):\n",
    "    os.makedirs(model_dir)\n",
    "    print(f\"Directory {model_dir} has been created\")\n",
    "else:\n",
    "    print(f\"Directory {model_dir} already exists\")\n",
    "    \n",
    "dataset = get_reduced_particle_features(particle_features)"
   ]
  },
  {
   "cell_type": "markdown",
   "metadata": {},
   "source": [
    "## Bootstrapping Null Hypothesis"
   ]
  },
  {
   "cell_type": "code",
   "execution_count": 9,
   "metadata": {},
   "outputs": [
    {
     "name": "stdout",
     "output_type": "stream",
     "text": [
      "Directory results/particle_features_30/tests/50K/null_hypotheses/ already exists\n"
     ]
    }
   ],
   "source": [
    "null_hypotheses_dir = os.path.join(model_dir, 'null_hypotheses/')\n",
    "if not os.path.exists(null_hypotheses_dir):\n",
    "    os.makedirs(null_hypotheses_dir)\n",
    "    print(f\"Directory {null_hypotheses_dir} has been created\")\n",
    "else:\n",
    "    print(f\"Directory {null_hypotheses_dir} already exists\")    \n",
    "    \n",
    "metrics_config_file = os.path.join(model_dir, \"metrics_config.json\")"
   ]
  },
  {
   "cell_type": "code",
   "execution_count": 10,
   "metadata": {},
   "outputs": [
    {
     "name": "stdout",
     "output_type": "stream",
     "text": [
      "niter: 1, nbootstrap: 1000\n",
      "Parsing input distribution...\n",
      "Input distribution is a numeric numpy array or tf.Tensor.\n",
      "Parsing input distribution...\n",
      "Input distribution is a numeric numpy array or tf.Tensor.\n",
      "Checking and setting numerical distributions.\n",
      "Returning dist_num.\n",
      "Returning dist_num.\n"
     ]
    }
   ],
   "source": [
    "niter_tot = 1_000\n",
    "batch_size_test = 50_000\n",
    "namples = len(dataset) // 2\n",
    "niter = namples // batch_size_test\n",
    "nbootstrap = niter_tot // niter\n",
    "niter_tot = niter * nbootstrap\n",
    "print(f\"niter: {niter}, nbootstrap: {nbootstrap}\")\n",
    "\n",
    "def shuffle_dataset(seed):\n",
    "    return tf.random.shuffle(dataset, seed=seed)\n",
    "\n",
    "start = timer()\n",
    "l = len(dataset) // 2\n",
    "dstmp = shuffle_dataset(seed = 0)\n",
    "dist_1_null = tf.cast(dstmp[:l], tf.float64)\n",
    "dist_2_null = tf.cast(dstmp[l:], tf.float64)\n",
    "del(dstmp)\n",
    "\n",
    "TwoSampleTestInputsNull = GMetrics.TwoSampleTestInputs(dist_1_input = dist_1_null[:niter*batch_size_test],\n",
    "                                                       dist_2_input = dist_2_null[:niter*batch_size_test],\n",
    "                                                       niter = niter,\n",
    "                                                       batch_size_test = batch_size_test,\n",
    "                                                       small_sample_threshold = 1e7,\n",
    "                                                       dtype_input = tf.float64,\n",
    "                                                       seed_input = 0,\n",
    "                                                       use_tf = True,\n",
    "                                                       mirror_strategy = False,\n",
    "                                                       verbose = True)\n",
    "\n",
    "NPLMMetric = GMetrics.NPLMMetric(TwoSampleTestInputsNull,\n",
    "                                 progress_bar = True,\n",
    "                                 verbose = True,\n",
    "                                 M = 3000, \n",
    "                                 lam = 1e-6, \n",
    "                                 iter_list = 1000000,\n",
    "                                 weight = 1) "
   ]
  },
  {
   "cell_type": "code",
   "execution_count": 11,
   "metadata": {},
   "outputs": [
    {
     "data": {
      "text/html": [
       "<div>\n",
       "<style scoped>\n",
       "    .dataframe tbody tr th:only-of-type {\n",
       "        vertical-align: middle;\n",
       "    }\n",
       "\n",
       "    .dataframe tbody tr th {\n",
       "        vertical-align: top;\n",
       "    }\n",
       "\n",
       "    .dataframe thead th {\n",
       "        text-align: right;\n",
       "    }\n",
       "</style>\n",
       "<table border=\"1\" class=\"dataframe\">\n",
       "  <thead>\n",
       "    <tr style=\"text-align: right;\">\n",
       "      <th></th>\n",
       "      <th>niter</th>\n",
       "      <th>batch_size_test</th>\n",
       "      <th>batch_size_gen</th>\n",
       "      <th>small_sample_threshold</th>\n",
       "      <th>dtype_input</th>\n",
       "      <th>seed</th>\n",
       "      <th>use_tf</th>\n",
       "      <th>mirror_strategy</th>\n",
       "      <th>strategy</th>\n",
       "      <th>verbose</th>\n",
       "      <th>is_symb_1</th>\n",
       "      <th>ndims_1</th>\n",
       "      <th>nsamples_1</th>\n",
       "      <th>is_symb_2</th>\n",
       "      <th>ndims_2</th>\n",
       "      <th>nsamples_2</th>\n",
       "      <th>dtype</th>\n",
       "      <th>ndims</th>\n",
       "      <th>nsamples</th>\n",
       "      <th>small_sample</th>\n",
       "    </tr>\n",
       "  </thead>\n",
       "  <tbody>\n",
       "    <tr>\n",
       "      <th>0</th>\n",
       "      <td>1</td>\n",
       "      <td>50000</td>\n",
       "      <td>1000</td>\n",
       "      <td>10000000</td>\n",
       "      <td>float64</td>\n",
       "      <td>0</td>\n",
       "      <td>True</td>\n",
       "      <td>False</td>\n",
       "      <td>None</td>\n",
       "      <td>True</td>\n",
       "      <td>False</td>\n",
       "      <td>90</td>\n",
       "      <td>50000</td>\n",
       "      <td>False</td>\n",
       "      <td>90</td>\n",
       "      <td>50000</td>\n",
       "      <td>float64</td>\n",
       "      <td>90</td>\n",
       "      <td>50000</td>\n",
       "      <td>True</td>\n",
       "    </tr>\n",
       "  </tbody>\n",
       "</table>\n",
       "</div>"
      ],
      "text/plain": [
       "   niter  batch_size_test  batch_size_gen  small_sample_threshold dtype_input  \\\n",
       "0      1            50000            1000                10000000     float64   \n",
       "\n",
       "   seed  use_tf  mirror_strategy strategy  verbose  is_symb_1  ndims_1  \\\n",
       "0     0    True            False     None     True      False       90   \n",
       "\n",
       "   nsamples_1  is_symb_2  ndims_2  nsamples_2    dtype  ndims  nsamples  \\\n",
       "0       50000      False       90       50000  float64     90     50000   \n",
       "\n",
       "   small_sample  \n",
       "0          True  "
      ]
     },
     "execution_count": 11,
     "metadata": {},
     "output_type": "execute_result"
    }
   ],
   "source": [
    "test_config_null = {}\n",
    "test_config_tmp = dict(TwoSampleTestInputsNull.__dict__)\n",
    "keys_to_remove = [\"_dist_1_input\", \"_dist_2_input\", \"_dist_1_num\", \"_dist_2_num\", \"_dist_1_symb\", \"_dist_2_symb\", \"_seed_generator\"]\n",
    "for key in keys_to_remove:\n",
    "    test_config_tmp.pop(key, None)\n",
    "for key, value in test_config_tmp.items():\n",
    "    new_key = key.lstrip('_')\n",
    "    \n",
    "    if isinstance(value, tf.Tensor):\n",
    "        new_value = value.numpy() # type: ignore\n",
    "    elif isinstance(value, np.ndarray):\n",
    "        new_value = value.tolist()\n",
    "    elif isinstance(value, np.generic):\n",
    "        new_value = value.item() # Convert NumPy scalars to Python scalars\n",
    "    elif isinstance(value, tf.DType):\n",
    "        new_value = value.name\n",
    "    elif isinstance(value, np.dtype):\n",
    "        new_value = np.dtype(value).name\n",
    "    else:\n",
    "        new_value = value\n",
    "    \n",
    "    test_config_null[new_key] = new_value\n",
    "\n",
    "pd.DataFrame([test_config_null])"
   ]
  },
  {
   "cell_type": "code",
   "execution_count": 12,
   "metadata": {},
   "outputs": [
    {
     "name": "stdout",
     "output_type": "stream",
     "text": [
      "{'NPLM': {'name': 'nplm', 'object_name': 'NPLMMetric', 'class_name': 'GMetrics.NPLMMetric', 'kwargs': {'M': 3000, 'lam': 1e-06, 'iter_list': 1000000, 'weight': 1}, 'result_key': 'metric_list', 'scale_func': <function <lambda> at 0x7f1e94af6b60>, 'scale_func_string': 'lambda ns, ndims: 1', 'test_config': {'niter': 1, 'batch_size_test': 50000, 'batch_size_gen': 1000, 'small_sample_threshold': 10000000, 'dtype_input': 'float64', 'seed': 0, 'use_tf': True, 'mirror_strategy': False, 'strategy': None, 'verbose': True, 'is_symb_1': False, 'ndims_1': 90, 'nsamples_1': 50000, 'is_symb_2': False, 'ndims_2': 90, 'nsamples_2': 50000, 'dtype': 'float64', 'ndims': 90, 'nsamples': 50000, 'small_sample': True}, 'max_vectorize': 1000, 'latex': '$t_{\\\\mathrm{NPLM}}$', 'null_file': 'results/particle_features_30/tests/50K/null_hypotheses/NPLM.json'}}\n",
      "{'name': 'nplm', 'object_name': 'NPLMMetric', 'class_name': 'GMetrics.NPLMMetric', 'kwargs': {'M': 3000, 'lam': 1e-06, 'iter_list': 1000000, 'weight': 1}, 'result_key': 'metric_list', 'scale_func': <function <lambda> at 0x7f1e94af6b60>, 'scale_func_string': 'lambda ns, ndims: 1', 'test_config': {'niter': 1, 'batch_size_test': 50000, 'batch_size_gen': 1000, 'small_sample_threshold': 10000000, 'dtype_input': 'float64', 'seed': 0, 'use_tf': True, 'mirror_strategy': False, 'strategy': None, 'verbose': True, 'is_symb_1': False, 'ndims_1': 90, 'nsamples_1': 50000, 'is_symb_2': False, 'ndims_2': 90, 'nsamples_2': 50000, 'dtype': 'float64', 'ndims': 90, 'nsamples': 50000, 'small_sample': True}, 'max_vectorize': 1000, 'latex': '$t_{\\\\mathrm{NPLM}}$', 'null_file': 'results/particle_features_30/tests/50K/null_hypotheses/NPLM.json'}\n"
     ]
    }
   ],
   "source": [
    "unique_key = \"config_flavor_nsamples_\"+str(TwoSampleTestInputsNull.batch_size_test)+\"_niter_\"+str(niter_tot)\n",
    "metrics_config = {unique_key: {\"NPLM\": {\"name\": \"nplm\",\n",
    "                                       \"object_name\": \"NPLMMetric\",\n",
    "                                       \"class_name\": \"GMetrics.NPLMMetric\",\n",
    "                                       \"kwargs\": {\"M\": 3000,\n",
    "                                                  \"lam\": 1e-6,\n",
    "                                                  \"iter_list\": 1000000,\n",
    "                                                  \"weight\" : 1},\n",
    "                                       \"result_key\": \"metric_list\", \n",
    "                                       \"scale_func\": lambda ns, ndims: 1,#(ns/ndims)**(3/2),\n",
    "                                       \"scale_func_string\": \"lambda ns, ndims: 1\",\n",
    "                                       \"test_config\": test_config_null,\n",
    "                                       \"max_vectorize\": 1000, # optimized for 5D\n",
    "                                       \"latex\": \"$t_{\\mathrm{NPLM}}$\",\n",
    "                                       \"null_file\": null_hypotheses_dir+\"NPLM.json\"}}}\n",
    "\n",
    "print(metrics_config[unique_key])\n",
    "nplm_config = metrics_config[unique_key][\"NPLM\"]\n",
    "print(nplm_config)"
   ]
  },
  {
   "cell_type": "code",
   "execution_count": 13,
   "metadata": {},
   "outputs": [
    {
     "name": "stdout",
     "output_type": "stream",
     "text": [
      "Loading nplm from results/particle_features_30/tests/50K/null_hypotheses/NPLM.json\n"
     ]
    }
   ],
   "source": [
    "file = nplm_config[\"null_file\"]\n",
    "name = nplm_config[\"name\"]\n",
    "max_vectorize = nplm_config[\"max_vectorize\"]\n",
    "obj = eval(nplm_config[\"object_name\"])\n",
    "if os.path.exists(file):\n",
    "     print(f\"Loading {name} from {file}\")\n",
    "     obj.Results.load_from_json(file)\n",
    "else:\n",
    "    print(f\"Computing and saving {name}\")\n",
    "    print(\"\\n===========================================================\")\n",
    "    print(f\"Testing from 0 to {niter} of {niter * nbootstrap} samples.\")\n",
    "    obj.Test_np()\n",
    "    for i in range(1, nbootstrap):\n",
    "        l = len(dataset) // 2\n",
    "        dstmp = shuffle_dataset(seed = 1000 * i + i)\n",
    "        dist_1_null = tf.cast(dstmp[:l], tf.float64)\n",
    "        dist_2_null = tf.cast(dstmp[l:], tf.float64)\n",
    "        #KSTestNull.Inputs.dist_1_input = dist_1 # This is the consistent way, but slower\n",
    "        TwoSampleTestInputsNull._dist_1_num = dist_1_null[:niter*batch_size_test] # Overwriting the _dist_1_num attribute. Less consistent, but         faster\n",
    "        #KSTestNull.Inputs.dist_2_input = dist_2 # This is the consistent way, but slower\n",
    "        TwoSampleTestInputsNull._dist_2_num = dist_2_null[:niter*batch_size_test] # Overwriting the _dist_2_num attribute. Less consistent, but         faster\n",
    "        print(\"\\n===========================================================\")\n",
    "        print(f\"Testing from {i * niter} to {(i+1) * niter} of {niter * nbootstrap} samples.\")\n",
    "        obj.Test_np()\n",
    "        del(dstmp)\n",
    "    end = timer()\n",
    "    print(f\"All done in: {end-start:.2f} s.\")\n",
    "    print(f\"Saving {name} to {file}\")\n",
    "    obj.Results.save_to_json(file)"
   ]
  },
  {
   "cell_type": "code",
   "execution_count": 14,
   "metadata": {},
   "outputs": [
    {
     "name": "stdout",
     "output_type": "stream",
     "text": [
      "ThresholdS for metric nplm: [[0.68, [680, 319], 6420.613027743601], [0.95, [950, 50], 6598.856384488308], [0.99, [990, 10], 6689.566216282976]]\n",
      "Computing time for metric nplm: 6457.576944808126\n"
     ]
    },
    {
     "data": {
      "text/html": [
       "<div>\n",
       "<style scoped>\n",
       "    .dataframe tbody tr th:only-of-type {\n",
       "        vertical-align: middle;\n",
       "    }\n",
       "\n",
       "    .dataframe tbody tr th {\n",
       "        vertical-align: top;\n",
       "    }\n",
       "\n",
       "    .dataframe thead th {\n",
       "        text-align: right;\n",
       "    }\n",
       "</style>\n",
       "<table border=\"1\" class=\"dataframe\">\n",
       "  <thead>\n",
       "    <tr style=\"text-align: right;\">\n",
       "      <th></th>\n",
       "      <th>name</th>\n",
       "      <th>object_name</th>\n",
       "      <th>class_name</th>\n",
       "      <th>kwargs</th>\n",
       "      <th>result_key</th>\n",
       "      <th>scale_func</th>\n",
       "      <th>scale_func_string</th>\n",
       "      <th>test_config</th>\n",
       "      <th>max_vectorize</th>\n",
       "      <th>latex</th>\n",
       "      <th>null_file</th>\n",
       "      <th>thresholds</th>\n",
       "    </tr>\n",
       "  </thead>\n",
       "  <tbody>\n",
       "    <tr>\n",
       "      <th>0</th>\n",
       "      <td>nplm</td>\n",
       "      <td>NPLMMetric</td>\n",
       "      <td>GMetrics.NPLMMetric</td>\n",
       "      <td>{'M': 3000, 'lam': 1e-06, 'iter_list': 1000000...</td>\n",
       "      <td>metric_list</td>\n",
       "      <td>&lt;function &lt;lambda&gt; at 0x7f1e94af6b60&gt;</td>\n",
       "      <td>lambda ns, ndims: 1</td>\n",
       "      <td>{'niter': 1, 'batch_size_test': 50000, 'batch_...</td>\n",
       "      <td>1000</td>\n",
       "      <td>$t_{\\mathrm{NPLM}}$</td>\n",
       "      <td>results/particle_features_30/tests/50K/null_hy...</td>\n",
       "      <td>[[0.68, [680, 319], 6420.613027743601], [0.95,...</td>\n",
       "    </tr>\n",
       "  </tbody>\n",
       "</table>\n",
       "</div>"
      ],
      "text/plain": [
       "   name object_name           class_name  \\\n",
       "0  nplm  NPLMMetric  GMetrics.NPLMMetric   \n",
       "\n",
       "                                              kwargs   result_key  \\\n",
       "0  {'M': 3000, 'lam': 1e-06, 'iter_list': 1000000...  metric_list   \n",
       "\n",
       "                              scale_func    scale_func_string  \\\n",
       "0  <function <lambda> at 0x7f1e94af6b60>  lambda ns, ndims: 1   \n",
       "\n",
       "                                         test_config  max_vectorize  \\\n",
       "0  {'niter': 1, 'batch_size_test': 50000, 'batch_...           1000   \n",
       "\n",
       "                 latex                                          null_file  \\\n",
       "0  $t_{\\mathrm{NPLM}}$  results/particle_features_30/tests/50K/null_hy...   \n",
       "\n",
       "                                          thresholds  \n",
       "0  [[0.68, [680, 319], 6420.613027743601], [0.95,...  "
      ]
     },
     "execution_count": 14,
     "metadata": {},
     "output_type": "execute_result"
    }
   ],
   "source": [
    "cl_list = [0.68, 0.95, 0.99]\n",
    "null_times = []\n",
    "ndims = 90\n",
    "\n",
    "\n",
    "name = nplm_config[\"name\"]\n",
    "obj = eval(nplm_config[\"object_name\"])\n",
    "result_key = nplm_config[\"result_key\"]\n",
    "scale_func = nplm_config[\"scale_func\"]\n",
    "\n",
    "nsamples = obj.Inputs.batch_size_test\n",
    "ns = nsamples**2 /(2*nsamples)\n",
    "dist_null  = np.array(obj.Results[0].result_value[result_key])\n",
    "for i in range(1,len(obj.Results)):\n",
    "    dist_null = np.concatenate((dist_null, np.array(obj.Results[i].result_value[result_key])))\n",
    "    \n",
    "metric_thresholds = [[cl, \n",
    "                        [int(cl*len(dist_null)), \n",
    "                        int((1-cl)*len(dist_null))], \n",
    "                        np.sort(dist_null)[int(len(dist_null)*cl)]] for cl in cl_list]\n",
    "\n",
    "print(f\"ThresholdS for metric {nplm_config['name']}: {metric_thresholds}\")\n",
    "\n",
    "null_time = obj.Results[0].__dict__['computing_time']\n",
    "for i in range(1,len(obj.Results)):\n",
    "        null_time += obj.Results[i].__dict__['computing_time']\n",
    "null_times.append([name, int(null_time)])\n",
    "print(f\"Computing time for metric {nplm_config['name']}: {null_time}\")\n",
    "\n",
    "nplm_config.update({\"thresholds\": metric_thresholds})\n",
    "    \n",
    "GMetrics.utils.save_update_metrics_config(metrics_config = metrics_config, metrics_config_file = metrics_config_file) # type: ignore"
   ]
  },
  {
   "cell_type": "markdown",
   "metadata": {},
   "source": [
    "### Plots of null-distributions"
   ]
  },
  {
   "cell_type": "code",
   "execution_count": 15,
   "metadata": {},
   "outputs": [
    {
     "name": "stdout",
     "output_type": "stream",
     "text": [
      "mu = 6353.198012025003 +/- 713.1748715965442\n",
      "sigma = 150.17512990649297 +/- 3.6111540158866386\n",
      "68%CL = 6420.613027743601, 95%CL = 6598.856384488308, 99%CL = 6689.566216282976\n",
      "mu = 6353.198012025003 +/- 713.1748715965442\n",
      "sigma = 150.17512990649297 +/- 3.6111540158866386\n"
     ]
    },
    {
     "name": "stderr",
     "output_type": "stream",
     "text": [
      "/tmp/ipykernel_890139/1261576838.py:66: UserWarning: Attempt to set non-positive ylim on a log-scaled axis will be ignored.\n",
      "  ax[0].set_ylim(current_ylim0)\n",
      "/tmp/ipykernel_890139/1261576838.py:68: MatplotlibDeprecationWarning: The legendHandles attribute was deprecated in Matplotlib 3.7 and will be removed two minor releases later. Use legend_handles instead.\n",
      "  for handle in legend0.legendHandles[-3:]:\n",
      "/tmp/ipykernel_890139/1261576838.py:97: UserWarning: Attempt to set non-positive ylim on a log-scaled axis will be ignored.\n",
      "  ax[1].set_ylim(current_ylim1)\n",
      "/tmp/ipykernel_890139/1261576838.py:103: MatplotlibDeprecationWarning: The legendHandles attribute was deprecated in Matplotlib 3.7 and will be removed two minor releases later. Use legend_handles instead.\n",
      "  for handle in legend1.legendHandles[-3:]:\n"
     ]
    },
    {
     "data": {
      "image/png": "[encoded data removed]",
      "text/plain": [
       "<Figure size 1600x600 with 2 Axes>"
      ]
     },
     "metadata": {},
     "output_type": "display_data"
    },
    {
     "name": "stdout",
     "output_type": "stream",
     "text": [
      "Time elapsed: 1.1445851009339094 seconds.\n"
     ]
    },
    {
     "data": {
      "text/html": [
       "<div>\n",
       "<style scoped>\n",
       "    .dataframe tbody tr th:only-of-type {\n",
       "        vertical-align: middle;\n",
       "    }\n",
       "\n",
       "    .dataframe tbody tr th {\n",
       "        vertical-align: top;\n",
       "    }\n",
       "\n",
       "    .dataframe thead th {\n",
       "        text-align: right;\n",
       "    }\n",
       "</style>\n",
       "<table border=\"1\" class=\"dataframe\">\n",
       "  <thead>\n",
       "    <tr style=\"text-align: right;\">\n",
       "      <th></th>\n",
       "      <th>name</th>\n",
       "      <th>object_name</th>\n",
       "      <th>class_name</th>\n",
       "      <th>kwargs</th>\n",
       "      <th>result_key</th>\n",
       "      <th>scale_func</th>\n",
       "      <th>scale_func_string</th>\n",
       "      <th>test_config</th>\n",
       "      <th>max_vectorize</th>\n",
       "      <th>latex</th>\n",
       "      <th>null_file</th>\n",
       "      <th>thresholds</th>\n",
       "      <th>null_figure</th>\n",
       "    </tr>\n",
       "  </thead>\n",
       "  <tbody>\n",
       "    <tr>\n",
       "      <th>0</th>\n",
       "      <td>nplm</td>\n",
       "      <td>NPLMMetric</td>\n",
       "      <td>GMetrics.NPLMMetric</td>\n",
       "      <td>{'M': 3000, 'lam': 1e-06, 'iter_list': 1000000...</td>\n",
       "      <td>metric_list</td>\n",
       "      <td>&lt;function &lt;lambda&gt; at 0x7f1e94af6b60&gt;</td>\n",
       "      <td>lambda ns, ndims: 1</td>\n",
       "      <td>{'niter': 1, 'batch_size_test': 50000, 'batch_...</td>\n",
       "      <td>1000</td>\n",
       "      <td>$t_{\\mathrm{NPLM}}$</td>\n",
       "      <td>results/particle_features_30/tests/50K/null_hy...</td>\n",
       "      <td>[[0.68, [680, 319], 6420.613027743601], [0.95,...</td>\n",
       "      <td>results/particle_features_30/tests/50K/null_hy...</td>\n",
       "    </tr>\n",
       "  </tbody>\n",
       "</table>\n",
       "</div>"
      ],
      "text/plain": [
       "   name object_name           class_name  \\\n",
       "0  nplm  NPLMMetric  GMetrics.NPLMMetric   \n",
       "\n",
       "                                              kwargs   result_key  \\\n",
       "0  {'M': 3000, 'lam': 1e-06, 'iter_list': 1000000...  metric_list   \n",
       "\n",
       "                              scale_func    scale_func_string  \\\n",
       "0  <function <lambda> at 0x7f1e94af6b60>  lambda ns, ndims: 1   \n",
       "\n",
       "                                         test_config  max_vectorize  \\\n",
       "0  {'niter': 1, 'batch_size_test': 50000, 'batch_...           1000   \n",
       "\n",
       "                 latex                                          null_file  \\\n",
       "0  $t_{\\mathrm{NPLM}}$  results/particle_features_30/tests/50K/null_hy...   \n",
       "\n",
       "                                          thresholds  \\\n",
       "0  [[0.68, [680, 319], 6420.613027743601], [0.95,...   \n",
       "\n",
       "                                         null_figure  \n",
       "0  results/particle_features_30/tests/50K/null_hy...  "
      ]
     },
     "execution_count": 15,
     "metadata": {},
     "output_type": "execute_result"
    }
   ],
   "source": [
    "name = nplm_config[\"name\"]\n",
    "name_cap = name.upper()\n",
    "latex = nplm_config[\"latex\"]\n",
    "obj = eval(nplm_config[\"object_name\"])\n",
    "result_key = nplm_config[\"result_key\"]\n",
    "scale_func = nplm_config[\"scale_func\"]\n",
    "figure_file = nplm_config[\"null_file\"].replace(\"json\",\"pdf\")\n",
    "thresholds = nplm_config[\"thresholds\"]\n",
    "\n",
    "start = timer()\n",
    "\n",
    "nsamples = obj.Inputs.batch_size_test\n",
    "niter = obj.Inputs.niter\n",
    "ns = nsamples**2 /(2*nsamples)\n",
    "dist_null  = np.array(obj.Results[0].result_value[result_key])*scale_func(ns, ndims)\n",
    "for i in range(1,len(obj.Results)):\n",
    "    dist_null = np.concatenate((dist_null, np.array(obj.Results[i].result_value[result_key])))\n",
    "dist_null = dist_null * scale_func(ns, ndims)\n",
    "\n",
    "scale = 'log'\n",
    "num_bins = 50  # number of bins|\n",
    "\n",
    "mu, deltamu, sigma, deltasigma = (np.mean(dist_null), se_mean(dist_null), np.std(dist_null), se_std(dist_null))\n",
    "sigma_68, sigma_95, sigma_99 = [np.sort(dist_null)[int(len(dist_null)*cl)] for cl in [0.68, 0.95, 0.99]]\n",
    "print(f\"mu = {mu} +/- {deltamu}\")\n",
    "print(f\"sigma = {sigma} +/- {deltasigma}\")\n",
    "print(f\"68%CL = {sigma_68}, 95%CL = {sigma_95}, 99%CL = {sigma_99}\")\n",
    "\n",
    "print(\"mu =\", mu, \"+/-\", deltamu)\n",
    "print(\"sigma =\", sigma, \"+/-\", deltasigma)\n",
    "\n",
    "min_x, max_x = min(dist_null), max(dist_null) # lower and upper limit of the binning\n",
    "x = np.linspace(min_x, max_x, num_bins + 1)\n",
    "counts, bin_edges = np.histogram(dist_null, bins=x, density=True)\n",
    "cum_counts = np.cumsum(counts)/np.sum(counts)\n",
    "bin_centers = (bin_edges[:-1] + bin_edges[1:]) / 2\n",
    "\n",
    "fig, ax = plt.subplots(1, 2, figsize=(16, 6))\n",
    "\n",
    "dash_styles = ['-', '--', '-.']\n",
    "colors = [\"royalblue\", \"darkorange\", \"mediumseagreen\"]\n",
    "\n",
    "# Create step plot\n",
    "step_edges = np.convolve(bin_centers, [0.5, 0.5], 'valid')\n",
    "step_counts = counts[:-1]  # assuming counts is one element longer than step_edges\n",
    "\n",
    "ax[0].step(step_edges, step_counts, where='mid', linestyle='-', color = \"tomato\", label = \"Null distribution\")\n",
    "current_ylim0 = ax[0].get_ylim()\n",
    "ax[0].set_yscale(scale)\n",
    "ax[0].set_xlabel(r\"%s\"%latex, fontsize=16)\n",
    "ax[0].set_ylabel('Frequency', fontsize=16)\n",
    "ax[0].set_title('PDF for particle_features_30 null with $N = '+str(ndims)+'$, $n=m='+str(int(nsamples/1000))+'$K, $n_{\\mathrm{iter}} = '+str(int(niter_tot/1000))+'$K', fontsize=15)\n",
    "ax[0].tick_params(axis='x', labelsize=15)  # Set x-axis tick label size\n",
    "ax[0].tick_params(axis='y', labelsize=15)  # Set y-axis tick label size\n",
    "\n",
    "for i, threshold in enumerate(thresholds):\n",
    "    confidence_level, _, threshold_value = threshold\n",
    "    start_index = np.searchsorted(step_edges, threshold_value, side=\"right\") - 1\n",
    "    start_index = max(start_index, 0)\n",
    "    fill_x_range = np.concatenate([[threshold_value], step_edges[start_index+1:]])\n",
    "    fill_y_values = step_counts[start_index:]\n",
    "    if len(fill_x_range) > 1 and len(fill_y_values) > 0:\n",
    "        ax[0].fill_between(fill_x_range, 0, fill_y_values, color=colors[i], alpha=0.1, step='mid', label=f\"{int(confidence_level * 100)}% CL ($x>{format(threshold_value, '.2f')}   $)\")\n",
    "    ax[0].axvline(x=threshold_value, linestyle=dash_styles[i], color=colors[i], linewidth=1)\n",
    "\n",
    "ax[0].set_ylim(current_ylim0)  \n",
    "legend0 = ax[0].legend(loc='upper right', fontsize=15)\n",
    "for handle in legend0.legendHandles[-3:]:\n",
    "    handle.set_alpha(0.5)  # Set to desired alpha value\n",
    "\n",
    "# Create step plot\n",
    "step_edges = np.convolve(bin_centers, [0.5, 0.5], 'valid')\n",
    "step_counts = cum_counts[:-1]  # assuming counts is one element longer than step_edges\n",
    "\n",
    "ax[1].step(step_edges, step_counts, where='mid', linestyle='-', color = \"tomato\", label = \"Null distribution\")\n",
    "#ax[1].plot(bin_centers, cum_counts, linestyle = '-', color = \"tomato\", label = \"Null distribution\", drawstyle='steps-mid')\n",
    "current_ylim1 = ax[1].get_ylim()\n",
    "#for i, threshold in enumerate(thresholds):\n",
    "#    confidence_level, _, threshold_value = threshold\n",
    "#    ax[1].axhline(y=confidence_level, color=colors[i], linestyle=dash_styles[i], linewidth=0.5, alpha=1)\n",
    "ax[1].set_yscale(scale)\n",
    "ax[1].set_xlabel(r\"%s\"%latex, fontsize=16)\n",
    "ax[1].set_title('CDF for particle_features_30 null with $N = '+str(ndims)+'$, $n=m='+str(int(nsamples/1000))+'$K, $n_{\\mathrm{iter}} = '+str(int(niter_tot/1000))+'$K', fontsize=15)\n",
    "ax[1].tick_params(axis='x', labelsize=15)  # Set x-axis tick label size\n",
    "ax[1].tick_params(axis='y', labelsize=15)  # Set y-axis tick label size\n",
    "\n",
    "for i, threshold in enumerate(thresholds):\n",
    "    confidence_level, _, threshold_value = threshold\n",
    "    start_index = np.searchsorted(step_edges, threshold_value, side=\"right\") - 1\n",
    "    start_index = max(start_index, 0)\n",
    "    fill_x_range = np.concatenate([[threshold_value], step_edges[start_index+1:]])\n",
    "    fill_y_values = step_counts[start_index:]\n",
    "    if len(fill_x_range) > 1 and len(fill_y_values) > 0:\n",
    "        ax[1].fill_between(fill_x_range, 0, fill_y_values, color=colors[i], alpha=0.1, step='mid', label=f\"{int(confidence_level * 100)}% CL ($x>{format(threshold_value, '.2f')}   $)\")\n",
    "    ax[1].axvline(x=threshold_value, linestyle=dash_styles[i], color=colors[i], linewidth=1)\n",
    "\n",
    "ax[1].set_ylim(current_ylim1)  \n",
    "#for i, threshold in enumerate(thresholds):\n",
    "#    confidence, _, value = threshold\n",
    "#    ax[1].axvline(x=value, color=colors[i], linestyle=dash_styles[i], alpha=1, label=f\"{int(confidence_level * 100)} CL% ($x>{format(threshold_value,'.2f')}$)\")\n",
    "\n",
    "legend1 = ax[1].legend(loc='upper right', fontsize=15)\n",
    "for handle in legend1.legendHandles[-3:]:\n",
    "    handle.set_alpha(0.5)  # Set to desired alpha value\n",
    "\n",
    "plt.subplots_adjust(wspace=0.1)  # Adjust this value to your liking\n",
    "plt.tight_layout()\n",
    "plt.savefig(figure_file)\n",
    "plt.show()\n",
    "plt.close()\n",
    "\n",
    "nplm_config.update({\"null_figure\": figure_file})\n",
    "\n",
    "end = timer()\n",
    "print(\"Time elapsed:\", end-start, \"seconds.\")\n",
    "\n",
    "GMetrics.utils.save_update_metrics_config(metrics_config = metrics_config, metrics_config_file = metrics_config_file) # type: ignore"
   ]
  },
  {
   "cell_type": "markdown",
   "metadata": {},
   "source": [
    "## Alternative hypothesis"
   ]
  },
  {
   "cell_type": "markdown",
   "metadata": {},
   "source": [
    "### Scan and exclusion limits (bisection method)"
   ]
  },
  {
   "cell_type": "code",
   "execution_count": 16,
   "metadata": {},
   "outputs": [],
   "source": [
    "if test_config_null[\"use_tf\"]:\n",
    "    dtype = getattr(tf, test_config_null[\"dtype_input\"])\n",
    "else:\n",
    "    dtype = np.dtype(test_config_null[\"dtype_input\"])\n",
    "test_kwargs = {\"niter_null\": niter,\n",
    "               \"niter_alt\": 100, # this will be adapted to the boostrap size\n",
    "               \"batch_size_test\": test_config_null[\"batch_size_test\"],\n",
    "               \"batch_size_gen\": test_config_null[\"batch_size_gen\"],\n",
    "               \"small_sample_threshold\": test_config_null[\"small_sample_threshold\"],\n",
    "               \"dtype_input\": dtype,\n",
    "               \"seed_input\": test_config_null[\"seed\"],\n",
    "               \"use_tf\": test_config_null[\"use_tf\"],\n",
    "               \"mirror_strategy\": test_config_null[\"mirror_strategy\"],\n",
    "               \"verbose\": False}"
   ]
  },
  {
   "cell_type": "code",
   "execution_count": 17,
   "metadata": {},
   "outputs": [],
   "source": [
    "file_path = os.path.join(model_dir, \"exclusion_limits.json\")\n",
    "if os.path.exists(file_path):\n",
    "    try:\n",
    "        with open(file_path, \"r\") as file:\n",
    "            existing_data = json.load(file)\n",
    "    except json.JSONDecodeError:\n",
    "        existing_data = {}\n",
    "else:\n",
    "    existing_data = {}\n",
    "    \n",
    "# Sort the dictionary by keys\n",
    "existing_data = dict(sorted(existing_data.items()))\n",
    "\n",
    "# Save the sorted dictionary back to a JSON file\n",
    "with open(file_path, 'w') as f:\n",
    "    json.dump(existing_data, f, cls=GMetrics.utils.CustomEncoder, indent=4) # type: ignore"
   ]
  },
  {
   "cell_type": "code",
   "execution_count": 18,
   "metadata": {},
   "outputs": [
    {
     "name": "stdout",
     "output_type": "stream",
     "text": [
      "Upper bounds for nplm with mean deformation already loaded.\n",
      "Central bounds for nplm with mean deformation already loaded.\n",
      "Lower bounds for nplm with mean deformation already loaded.\n",
      "Upper bounds for nplm with cov_diag deformation already loaded.\n",
      "Central bounds for nplm with cov_diag deformation already loaded.\n",
      "Lower bounds for nplm with cov_diag deformation already loaded.\n",
      "Upper bounds for nplm with cov_off_diag deformation already loaded.\n",
      "Central bounds for nplm with cov_off_diag deformation already loaded.\n",
      "Lower bounds for nplm with cov_off_diag deformation already loaded.\n",
      "Upper bounds for nplm with power_abs_up deformation already loaded.\n",
      "Central bounds for nplm with power_abs_up deformation already loaded.\n",
      "Lower bounds for nplm with power_abs_up deformation already loaded.\n",
      "Upper bounds for nplm with power_abs_down deformation already loaded.\n",
      "Central bounds for nplm with power_abs_down deformation already loaded.\n",
      "Lower bounds for nplm with power_abs_down deformation already loaded.\n",
      "Upper bounds for nplm with random_normal deformation already loaded.\n",
      "Central bounds for nplm with random_normal deformation already loaded.\n",
      "Lower bounds for nplm with random_normal deformation already loaded.\n",
      "Upper bounds for nplm with random_uniform deformation already loaded.\n",
      "Central bounds for nplm with random_uniform deformation already loaded.\n",
      "Lower bounds for nplm with random_uniform deformation already loaded.\n",
      "dict_keys(['nplm_mean_upper_2024-10-31T18:39:47.355667', 'nplm_mean_central_2024-11-01T01:53:16.509777', 'nplm_mean_lower_2024-11-09T19:27:01.988020', 'nplm_cov_diag_upper_2024-11-03T20:56:12.429011', 'nplm_cov_diag_central_2024-11-04T02:59:38.745747', 'nplm_cov_diag_lower_2024-11-06T10:44:57.662666', 'nplm_cov_off_diag_upper_2024-11-06T19:02:38.180893', 'nplm_cov_off_diag_central_2024-11-06T23:43:05.713870', 'nplm_cov_off_diag_lower_2024-11-07T02:26:27.187315', 'nplm_power_abs_up_upper_2024-11-07T10:06:18.246110', 'nplm_power_abs_up_central_2024-11-07T17:09:02.446418', 'nplm_power_abs_up_lower_2024-11-07T21:09:59.514238', 'nplm_power_abs_down_upper_2024-11-08T00:42:37.518936', 'nplm_power_abs_down_central_2024-11-08T06:19:35.230772', 'nplm_power_abs_down_lower_2024-11-08T10:07:18.268125', 'nplm_random_normal_upper_2024-11-08T15:15:10.046303', 'nplm_random_normal_central_2024-11-08T20:05:21.439314', 'nplm_random_normal_lower_2024-11-08T22:35:31.217383', 'nplm_random_uniform_upper_2024-11-09T01:28:21.061532', 'nplm_random_uniform_central_2024-11-09T05:54:58.382526', 'nplm_random_uniform_lower_2024-11-09T10:35:41.126253'])\n"
     ]
    }
   ],
   "source": [
    "deformations = [\"mean\", \"cov_diag\", \"cov_off_diag\", \"power_abs_up\", \"power_abs_down\", \"random_normal\", \"random_uniform\"]\n",
    "bounds = [\"upper\", \"central\", \"lower\"]\n",
    "global_results = {}\n",
    "\n",
    "for deformation in deformations:\n",
    "    eps_max = 1\n",
    "    for bound in bounds:\n",
    "        try:\n",
    "            result = {k: v for k, v in {k: v for k, v in existing_data.items() if v[\"null_config\"][\"name\"] == nplm_config[\"name\"] and v[\"deformation\"] == deformation and v[\"bound\"] == bound}.items() if v[\"exclusion_list\"] != []}\n",
    "        except:\n",
    "            result = {}\n",
    "        if result == {}:\n",
    "            print(f\"Computing {bound} bounds for {nplm_config['name']} with {deformation} deformation.\")\n",
    "            result = compute_exclusion_bisection_dataset_np(dataset = dataset,\n",
    "                                                            metric_config = nplm_config,\n",
    "                                                            test_kwargs = test_kwargs,\n",
    "                                                            model_dir = model_dir,\n",
    "                                                            deformation = deformation,\n",
    "                                                            seed_dist = 0,\n",
    "                                                            x_tol = 0.01,\n",
    "                                                            fn_tol = 0.05,\n",
    "                                                            bound = bound,\n",
    "                                                            eps_min = 0.,\n",
    "                                                            eps_max = eps_max,\n",
    "                                                            smear = 0.,\n",
    "                                                            max_iterations = 50,\n",
    "                                                            save = True,\n",
    "                                                            filename = \"exclusion_limits.json\",\n",
    "                                                            verbose = True)\n",
    "            eps_max = list(result.values())[0][\"exclusion_list\"][-1][3]\n",
    "        else:\n",
    "            print(f\"{bound.capitalize()} bounds for {nplm_config['name']} with {deformation} deformation already loaded.\")\n",
    "        global_results.update(result)\n",
    "        \n",
    "print(global_results.keys())"
   ]
  },
  {
   "cell_type": "markdown",
   "metadata": {},
   "source": [
    "## Show and save results"
   ]
  },
  {
   "cell_type": "code",
   "execution_count": 19,
   "metadata": {},
   "outputs": [],
   "source": [
    "import notebooks.shared as shared"
   ]
  },
  {
   "cell_type": "code",
   "execution_count": 20,
   "metadata": {},
   "outputs": [
    {
     "name": "stdout",
     "output_type": "stream",
     "text": [
      "Metric: nplm\n",
      "Metric: nplm\n",
      "Metric: nplm\n",
      "Metric: nplm\n",
      "Metric: nplm\n",
      "Metric: nplm\n",
      "Metric: nplm\n",
      "Metric: nplm\n",
      "Metric: nplm\n",
      "Metric: nplm\n",
      "Metric: nplm\n",
      "Metric: nplm\n",
      "Metric: nplm\n",
      "Metric: nplm\n",
      "Metric: nplm\n",
      "Metric: nplm\n",
      "Metric: nplm\n",
      "Metric: nplm\n",
      "Metric: nplm\n",
      "Metric: nplm\n",
      "Metric: nplm\n"
     ]
    }
   ],
   "source": [
    "results_df, times_df = shared.generate_result_dataframe_nplm(global_results, null_times)"
   ]
  },
  {
   "cell_type": "code",
   "execution_count": 21,
   "metadata": {},
   "outputs": [
    {
     "data": {
      "text/html": [
       "<div>\n",
       "<style scoped>\n",
       "    .dataframe tbody tr th:only-of-type {\n",
       "        vertical-align: middle;\n",
       "    }\n",
       "\n",
       "    .dataframe tbody tr th {\n",
       "        vertical-align: top;\n",
       "    }\n",
       "\n",
       "    .dataframe thead th {\n",
       "        text-align: right;\n",
       "    }\n",
       "</style>\n",
       "<table border=\"1\" class=\"dataframe\">\n",
       "  <thead>\n",
       "    <tr style=\"text-align: right;\">\n",
       "      <th></th>\n",
       "      <th>Statistic</th>\n",
       "      <th>$\\epsilon^{\\mu}_{95\\%\\mathrm{CL}}$</th>\n",
       "      <th>$\\epsilon^{\\mu}_{99\\%\\mathrm{CL}}$</th>\n",
       "      <th>$t^{\\mu}$ (s)</th>\n",
       "    </tr>\n",
       "  </thead>\n",
       "  <tbody>\n",
       "    <tr>\n",
       "      <th>2</th>\n",
       "      <td>NaN</td>\n",
       "      <td>$0.01_{-0.0039}^{+0.0029}$</td>\n",
       "      <td>$0.0117_{-0.0037}^{+0.0026}$</td>\n",
       "      <td>$50262$</td>\n",
       "    </tr>\n",
       "  </tbody>\n",
       "</table>\n",
       "</div>"
      ],
      "text/plain": [
       "  Statistic $\\epsilon^{\\mu}_{95\\%\\mathrm{CL}}$  \\\n",
       "2       NaN         $0.01_{-0.0039}^{+0.0029}$   \n",
       "\n",
       "  $\\epsilon^{\\mu}_{99\\%\\mathrm{CL}}$ $t^{\\mu}$ (s)  \n",
       "2       $0.0117_{-0.0037}^{+0.0026}$       $50262$  "
      ]
     },
     "metadata": {},
     "output_type": "display_data"
    },
    {
     "data": {
      "text/html": [
       "<div>\n",
       "<style scoped>\n",
       "    .dataframe tbody tr th:only-of-type {\n",
       "        vertical-align: middle;\n",
       "    }\n",
       "\n",
       "    .dataframe tbody tr th {\n",
       "        vertical-align: top;\n",
       "    }\n",
       "\n",
       "    .dataframe thead th {\n",
       "        text-align: right;\n",
       "    }\n",
       "</style>\n",
       "<table border=\"1\" class=\"dataframe\">\n",
       "  <thead>\n",
       "    <tr style=\"text-align: right;\">\n",
       "      <th></th>\n",
       "      <th>Statistic</th>\n",
       "      <th>$\\epsilon^{\\Sigma_{ii}}_{95\\%\\mathrm{CL}}$</th>\n",
       "      <th>$\\epsilon^{\\Sigma_{ii}}_{99\\%\\mathrm{CL}}$</th>\n",
       "      <th>$t^{\\Sigma_{ii}}$ (s)</th>\n",
       "    </tr>\n",
       "  </thead>\n",
       "  <tbody>\n",
       "    <tr>\n",
       "      <th>0</th>\n",
       "      <td>NaN</td>\n",
       "      <td>$0.02053_{-0.0072}^{+0.0062}$</td>\n",
       "      <td>$0.02442_{-0.0073}^{+0.0055}$</td>\n",
       "      <td>$63916$</td>\n",
       "    </tr>\n",
       "  </tbody>\n",
       "</table>\n",
       "</div>"
      ],
      "text/plain": [
       "  Statistic $\\epsilon^{\\Sigma_{ii}}_{95\\%\\mathrm{CL}}$  \\\n",
       "0       NaN              $0.02053_{-0.0072}^{+0.0062}$   \n",
       "\n",
       "  $\\epsilon^{\\Sigma_{ii}}_{99\\%\\mathrm{CL}}$ $t^{\\Sigma_{ii}}$ (s)  \n",
       "0              $0.02442_{-0.0073}^{+0.0055}$               $63916$  "
      ]
     },
     "metadata": {},
     "output_type": "display_data"
    },
    {
     "data": {
      "text/html": [
       "<div>\n",
       "<style scoped>\n",
       "    .dataframe tbody tr th:only-of-type {\n",
       "        vertical-align: middle;\n",
       "    }\n",
       "\n",
       "    .dataframe tbody tr th {\n",
       "        vertical-align: top;\n",
       "    }\n",
       "\n",
       "    .dataframe thead th {\n",
       "        text-align: right;\n",
       "    }\n",
       "</style>\n",
       "<table border=\"1\" class=\"dataframe\">\n",
       "  <thead>\n",
       "    <tr style=\"text-align: right;\">\n",
       "      <th></th>\n",
       "      <th>Statistic</th>\n",
       "      <th>$\\epsilon^{\\Sigma_{i\\neq j}}_{95\\%\\mathrm{CL}}$</th>\n",
       "      <th>$\\epsilon^{\\Sigma_{i\\neq j}}_{99\\%\\mathrm{CL}}$</th>\n",
       "      <th>$t^{\\Sigma_{i\\neq j}}$ (s)</th>\n",
       "    </tr>\n",
       "  </thead>\n",
       "  <tbody>\n",
       "    <tr>\n",
       "      <th>1</th>\n",
       "      <td>NaN</td>\n",
       "      <td>$0.098_{-0.021}^{+0.019}$</td>\n",
       "      <td>$0.10798_{-0.02}^{+0.018}$</td>\n",
       "      <td>$37094$</td>\n",
       "    </tr>\n",
       "  </tbody>\n",
       "</table>\n",
       "</div>"
      ],
      "text/plain": [
       "  Statistic $\\epsilon^{\\Sigma_{i\\neq j}}_{95\\%\\mathrm{CL}}$  \\\n",
       "1       NaN                       $0.098_{-0.021}^{+0.019}$   \n",
       "\n",
       "  $\\epsilon^{\\Sigma_{i\\neq j}}_{99\\%\\mathrm{CL}}$ $t^{\\Sigma_{i\\neq j}}$ (s)  \n",
       "1                      $0.10798_{-0.02}^{+0.018}$                    $37094$  "
      ]
     },
     "metadata": {},
     "output_type": "display_data"
    },
    {
     "data": {
      "text/html": [
       "<div>\n",
       "<style scoped>\n",
       "    .dataframe tbody tr th:only-of-type {\n",
       "        vertical-align: middle;\n",
       "    }\n",
       "\n",
       "    .dataframe tbody tr th {\n",
       "        vertical-align: top;\n",
       "    }\n",
       "\n",
       "    .dataframe thead th {\n",
       "        text-align: right;\n",
       "    }\n",
       "</style>\n",
       "<table border=\"1\" class=\"dataframe\">\n",
       "  <thead>\n",
       "    <tr style=\"text-align: right;\">\n",
       "      <th></th>\n",
       "      <th>Statistic</th>\n",
       "      <th>$\\epsilon^{\\rm{pow}_{+}}_{95\\%\\mathrm{CL}}$</th>\n",
       "      <th>$\\epsilon^{\\rm{pow}_{+}}_{99\\%\\mathrm{CL}}$</th>\n",
       "      <th>$t^{\\rm{pow}_{+}}$ (s)</th>\n",
       "    </tr>\n",
       "  </thead>\n",
       "  <tbody>\n",
       "    <tr>\n",
       "      <th>4</th>\n",
       "      <td>NaN</td>\n",
       "      <td>$0.02759_{-0.012}^{+0.0087}$</td>\n",
       "      <td>$0.03227_{-0.0084}^{+0.0062}$</td>\n",
       "      <td>$52579$</td>\n",
       "    </tr>\n",
       "  </tbody>\n",
       "</table>\n",
       "</div>"
      ],
      "text/plain": [
       "  Statistic $\\epsilon^{\\rm{pow}_{+}}_{95\\%\\mathrm{CL}}$  \\\n",
       "4       NaN                $0.02759_{-0.012}^{+0.0087}$   \n",
       "\n",
       "  $\\epsilon^{\\rm{pow}_{+}}_{99\\%\\mathrm{CL}}$ $t^{\\rm{pow}_{+}}$ (s)  \n",
       "4               $0.03227_{-0.0084}^{+0.0062}$                $52579$  "
      ]
     },
     "metadata": {},
     "output_type": "display_data"
    },
    {
     "data": {
      "text/html": [
       "<div>\n",
       "<style scoped>\n",
       "    .dataframe tbody tr th:only-of-type {\n",
       "        vertical-align: middle;\n",
       "    }\n",
       "\n",
       "    .dataframe tbody tr th {\n",
       "        vertical-align: top;\n",
       "    }\n",
       "\n",
       "    .dataframe thead th {\n",
       "        text-align: right;\n",
       "    }\n",
       "</style>\n",
       "<table border=\"1\" class=\"dataframe\">\n",
       "  <thead>\n",
       "    <tr style=\"text-align: right;\">\n",
       "      <th></th>\n",
       "      <th>Statistic</th>\n",
       "      <th>$\\epsilon^{\\rm{pow}_{-}}_{95\\%\\mathrm{CL}}$</th>\n",
       "      <th>$\\epsilon^{\\rm{pow}_{-}}_{99\\%\\mathrm{CL}}$</th>\n",
       "      <th>$t^{\\rm{pow}_{-}}$ (s)</th>\n",
       "    </tr>\n",
       "  </thead>\n",
       "  <tbody>\n",
       "    <tr>\n",
       "      <th>3</th>\n",
       "      <td>NaN</td>\n",
       "      <td>$0.02358_{-0.01}^{+0.0073}$</td>\n",
       "      <td>$0.02822_{-0.0076}^{+0.0066}$</td>\n",
       "      <td>$49370$</td>\n",
       "    </tr>\n",
       "  </tbody>\n",
       "</table>\n",
       "</div>"
      ],
      "text/plain": [
       "  Statistic $\\epsilon^{\\rm{pow}_{-}}_{95\\%\\mathrm{CL}}$  \\\n",
       "3       NaN                 $0.02358_{-0.01}^{+0.0073}$   \n",
       "\n",
       "  $\\epsilon^{\\rm{pow}_{-}}_{99\\%\\mathrm{CL}}$ $t^{\\rm{pow}_{-}}$ (s)  \n",
       "3               $0.02822_{-0.0076}^{+0.0066}$                $49370$  "
      ]
     },
     "metadata": {},
     "output_type": "display_data"
    },
    {
     "data": {
      "text/html": [
       "<div>\n",
       "<style scoped>\n",
       "    .dataframe tbody tr th:only-of-type {\n",
       "        vertical-align: middle;\n",
       "    }\n",
       "\n",
       "    .dataframe tbody tr th {\n",
       "        vertical-align: top;\n",
       "    }\n",
       "\n",
       "    .dataframe thead th {\n",
       "        text-align: right;\n",
       "    }\n",
       "</style>\n",
       "<table border=\"1\" class=\"dataframe\">\n",
       "  <thead>\n",
       "    <tr style=\"text-align: right;\">\n",
       "      <th></th>\n",
       "      <th>Statistic</th>\n",
       "      <th>$\\epsilon^{\\mathcal{N}}_{95\\%\\mathrm{CL}}$</th>\n",
       "      <th>$\\epsilon^{\\mathcal{N}}_{99\\%\\mathrm{CL}}$</th>\n",
       "      <th>$t^{\\mathcal{N}}$ (s)</th>\n",
       "    </tr>\n",
       "  </thead>\n",
       "  <tbody>\n",
       "    <tr>\n",
       "      <th>5</th>\n",
       "      <td>NaN</td>\n",
       "      <td>$0.03585_{-0.0088}^{+0.0063}$</td>\n",
       "      <td>$0.03943_{-0.0057}^{+0.0049}$</td>\n",
       "      <td>$36790$</td>\n",
       "    </tr>\n",
       "  </tbody>\n",
       "</table>\n",
       "</div>"
      ],
      "text/plain": [
       "  Statistic $\\epsilon^{\\mathcal{N}}_{95\\%\\mathrm{CL}}$  \\\n",
       "5       NaN              $0.03585_{-0.0088}^{+0.0063}$   \n",
       "\n",
       "  $\\epsilon^{\\mathcal{N}}_{99\\%\\mathrm{CL}}$ $t^{\\mathcal{N}}$ (s)  \n",
       "5              $0.03943_{-0.0057}^{+0.0049}$               $36790$  "
      ]
     },
     "metadata": {},
     "output_type": "display_data"
    },
    {
     "data": {
      "text/html": [
       "<div>\n",
       "<style scoped>\n",
       "    .dataframe tbody tr th:only-of-type {\n",
       "        vertical-align: middle;\n",
       "    }\n",
       "\n",
       "    .dataframe tbody tr th {\n",
       "        vertical-align: top;\n",
       "    }\n",
       "\n",
       "    .dataframe thead th {\n",
       "        text-align: right;\n",
       "    }\n",
       "</style>\n",
       "<table border=\"1\" class=\"dataframe\">\n",
       "  <thead>\n",
       "    <tr style=\"text-align: right;\">\n",
       "      <th></th>\n",
       "      <th>Statistic</th>\n",
       "      <th>$\\epsilon^{\\mathcal{U}}_{95\\%\\mathrm{CL}}$</th>\n",
       "      <th>$\\epsilon^{\\mathcal{U}}_{99\\%\\mathrm{CL}}$</th>\n",
       "      <th>$t^{\\mathcal{U}}$ (s)</th>\n",
       "    </tr>\n",
       "  </thead>\n",
       "  <tbody>\n",
       "    <tr>\n",
       "      <th>6</th>\n",
       "      <td>NaN</td>\n",
       "      <td>$0.06235_{-0.011}^{+0.0092}$</td>\n",
       "      <td>$0.06766_{-0.0076}^{+0.0073}$</td>\n",
       "      <td>$40531$</td>\n",
       "    </tr>\n",
       "  </tbody>\n",
       "</table>\n",
       "</div>"
      ],
      "text/plain": [
       "  Statistic $\\epsilon^{\\mathcal{U}}_{95\\%\\mathrm{CL}}$  \\\n",
       "6       NaN               $0.06235_{-0.011}^{+0.0092}$   \n",
       "\n",
       "  $\\epsilon^{\\mathcal{U}}_{99\\%\\mathrm{CL}}$ $t^{\\mathcal{U}}$ (s)  \n",
       "6              $0.06766_{-0.0076}^{+0.0073}$               $40531$  "
      ]
     },
     "metadata": {},
     "output_type": "display_data"
    }
   ],
   "source": [
    "results_df_mean, results_df_cov_diag, results_df_cov_off_diag, results_df_power_abs_up, results_df_power_abs_down, results_df_random_normal, results_df_random_uniform = shared.get_individual_dfs(results_df, show = True)"
   ]
  },
  {
   "cell_type": "markdown",
   "metadata": {},
   "source": [
    "### Latex"
   ]
  },
  {
   "cell_type": "code",
   "execution_count": 22,
   "metadata": {},
   "outputs": [
    {
     "name": "stdout",
     "output_type": "stream",
     "text": [
      "\\begin{tabular}{l|llr|llr}\n",
      "\t\\toprule\n",
      "\t\\multicolumn{7}{c}{{\\bf Particle features with $\\mathbf{n=m=5\\cdot 10^{4}}$}} \\\\\n",
      "\t\\toprule\n",
      "\t\\multicolumn{1}{c}{} & \\multicolumn{3}{c}{$\\mu$-deformation} & \\multicolumn{3}{c}{$\\Sigma_{ii}$-deformation} \\\\\n",
      "\tStatistic & $\\epsilon_{95\\%\\mathrm{CL}}$ & $\\epsilon_{99\\%\\mathrm{CL}}$ & $t$ (s) & $\\epsilon_{95\\%\\mathrm{CL}}$ & $\\epsilon_{99\\%\\mathrm{CL}}$ & $t$ (s) \\\\\n",
      "\t\\midrule\n",
      "\t$t_{\\mathrm{NPLM}}$ & $0.01_{-0.0039}^{+0.0029}$ & $0.0117_{-0.0037}^{+0.0026}$ & $50262$ & $0.02053_{-0.0072}^{+0.0062}$ & $0.02442_{-0.0073}^{+0.0055}$ & $63916$ \\\\\n",
      "\t\\toprule\n",
      "\t\\multicolumn{1}{c}{} & \\multicolumn{3}{c}{$\\Sigma_{i\\neq j}$-deformation} & \\multicolumn{3}{c}{$\\rm{pow}_{+}$-deformation} \\\\\n",
      "\tStatistic & $\\epsilon_{95\\%\\mathrm{CL}}$ & $\\epsilon_{99\\%\\mathrm{CL}}$ & $t$ (s) & $\\epsilon_{95\\%\\mathrm{CL}}$ & $\\epsilon_{99\\%\\mathrm{CL}}$ & $t$ (s) \\\\\n",
      "\t\\midrule\n",
      "\t$t_{\\mathrm{NPLM}}$ & $0.098_{-0.021}^{+0.019}$ & $0.10798_{-0.02}^{+0.018}$ & $37094$ & $0.02759_{-0.012}^{+0.0087}$ & $0.03227_{-0.0084}^{+0.0062}$ & $52579$ \\\\\n",
      "\t\\toprule\n",
      "\t\\multicolumn{1}{c}{} & \\multicolumn{3}{c}{$\\rm{pow}_{-}$-deformation} & \\multicolumn{3}{c}{$\\mathcal{N}$-deformation} \\\\\n",
      "\tStatistic & $\\epsilon_{95\\%\\mathrm{CL}}$ & $\\epsilon_{99\\%\\mathrm{CL}}$ & $t$ (s) & $\\epsilon_{95\\%\\mathrm{CL}}$ & $\\epsilon_{99\\%\\mathrm{CL}}$ & $t$ (s) \\\\\n",
      "\t\\midrule\n",
      "\t$t_{\\mathrm{NPLM}}$ & $0.02358_{-0.01}^{+0.0073}$ & $0.02822_{-0.0076}^{+0.0066}$ & $49370$ & $0.03585_{-0.0088}^{+0.0063}$ & $0.03943_{-0.0057}^{+0.0049}$ & $36790$ \\\\\n",
      "\t\\toprule\n",
      "\t\\multicolumn{1}{c}{} & \\multicolumn{3}{c}{$\\mathcal{U}$-deformation} & \\multicolumn{3}{c}{Timing} \\\\\n",
      "\tStatistic & $\\epsilon_{95\\%\\mathrm{CL}}$ & $\\epsilon_{99\\%\\mathrm{CL}}$ & $t$ (s) & $t^{\\mathrm{null}}$ (s) \\\\\n",
      "\t\\midrule\n",
      "\t$t_{\\mathrm{NPLM}}$ & $0.06235_{-0.011}^{+0.0092}$ & $0.06766_{-0.0076}^{+0.0073}$ & $40531$ & $6457$ \\\\\n",
      "\t\\bottomrule\n",
      "\\end{tabular}\n"
     ]
    },
    {
     "name": "stderr",
     "output_type": "stream",
     "text": [
      "/leonardo_scratch/fast/INF24_pmlhep_1/sgrossi0/projects/TwoSampleTest/NPLM_JetNetMetrics/notebooks/shared.py:544: FutureWarning: The behavior of Series.replace (and DataFrame.replace) with CategoricalDtype is deprecated. In a future version, replace will only be used for cases that preserve the categories. To change the categories, use ser.cat.rename_categories instead.\n",
      "  return df.replace(column_replacements)\n"
     ]
    }
   ],
   "source": [
    "#tex_string = shared.generate_result_latex_wide(results_df, times_df, nstring = \"10^{4}\")\n",
    "tex_string = shared.generate_result_latex_nplm(results_df, times_df, title = \"{\\\\bf Particle features with $\\\\mathbf{n=m=5\\cdot 10^{4}}$}\")\n",
    "print(tex_string)"
   ]
  },
  {
   "cell_type": "code",
   "execution_count": 23,
   "metadata": {},
   "outputs": [
    {
     "name": "stdout",
     "output_type": "stream",
     "text": [
      "LaTeX table code has been written to results/particle_features_30/tests/50K/results_table.tex\n"
     ]
    }
   ],
   "source": [
    "shared.save_latex(tex_string, model_dir)"
   ]
  },
  {
   "cell_type": "code",
   "execution_count": 24,
   "metadata": {},
   "outputs": [
    {
     "name": "stdout",
     "output_type": "stream",
     "text": [
      "\\begin{tabular}{l|llr|llr}\n",
      "\t\\toprule\n",
      "\t\\multicolumn{7}{c}{{\\bf Particle features with $\\mathbf{n=m=10^{4}}$}} \\\\\n",
      "\t\\toprule\n",
      "\t\\multicolumn{1}{c}{} & \\multicolumn{3}{c}{$\\mu$-deformation} & \\multicolumn{3}{c}{$\\Sigma_{ii}$-deformation} \\\\\n",
      "\tStatistic & $\\epsilon_{95\\%\\mathrm{CL}}$ & $\\epsilon_{99\\%\\mathrm    {CL}}$ & $t$ (s) & $\\epsilon_{95\\%\\mathrm{CL}}$ & $\\epsilon_{99\\%\\mathrm{CL}}$ & $t$ (s) \\\\\n",
      "\t\\midrule\n",
      "\t$t_{\\mathrm{SW}}$ & $0.05604_{-0.027}^{+0.02}$ & $0.08216_{-0.018}^{+0.02}$ & ${\\mathbf{666}}$ & $0.06258_{-0.031}^{+0.019}$ & $0.08827_{-0.023}^{+0.02}$ & ${\\mathbf{665}}$ \\\\\n",
      "\t$t_{\\overline{\\mathrm{KS}}}$ & ${\\mathbf{0.01913_{-0.0097}^{+0.0053}}}$ & ${\\mathbf{0.02873_{-0.0066}^{+0.0044}}}$ & $780$ & ${\\mathbf{0.04819_{-0.026}^{+0.016}}}$ & ${\\mathbf{0.06797_{-0.016}^{+0.015}}}$ & $901$ \\\\\n",
      "\t$t_{\\mathrm{SKS}}$ & $0.0359_{-0.015}^{+0.009}$ & $0.05064_{-0.0091}^{+0.011}$ & $1700$ & $0.05551_{-0.017}^{+0.017}$ & $0.07997_{-0.023}^{+0.011}$ & $1814$ \\\\\n",
      "\t$t_{\\mathrm{FGD}}$ & $0.10082_{-0.047}^{+0.028}$ & $0.14525_{-0.026}^{+0.02}$ & $2099$ & $0.08325_{-0.038}^{+0.038}$ & $0.1248_{-0.032}^{+0.037}$ & $2281$ \\\\\n",
      "\t$t_{\\mathrm{MMD}}$ & $0.35978_{-0.21}^{+0.16}$ & $0.42433_{-0.077}^{+0.21}$ & $1667$ & $0.14414_{-0.074}^{+0.14}$ & $0.19209_{-0.064}^{+0.11}$ & $1976$ \\\\\n",
      "\\rowcolor{red!35}\t$t_{\\mathrm{NPLM}}$ & $0.01_{-0.0039}^{+0.0029}$ & $0.0117_{-0.0037}^{+0.0026}$ & $50262$ & $0.02053_{-0.0072}^{+0.0062}$ & $0.02442_{-0.0073}^{+0.0055}$ & $63916$ \\\\\n",
      "\t\\toprule\n",
      "\t\\multicolumn{1}{c}{} & \\multicolumn{3}{c}{$\\Sigma_{i\\neq j}$-deformation} & \\multicolumn{3}{c}{$\\rm{pow}_{+}$-deformation} \\\\\n",
      "\tStatistic & $\\epsilon_{95\\%\\mathrm{CL}}$ & $\\epsilon_{99\\%\\mathrm{CL}}$ & $t$ (s) & $\\epsilon_{95\\%\\mathrm{CL}}$ & $\\epsilon^{\\rm   {pow}_{+}}_{99\\%\\mathrm{CL}}$ & $t$ (s) \\\\\n",
      "\t\\midrule\n",
      "\t$t_{\\mathrm{SW}}$ & $0.10263_{-0.049}^{+0.034}$ & $0.15046_{-0.027}^{+0.037}$ & $610$ & $0.0551_{-0.026}^{+0.027}$ & $0.08079_{-0.024}^{+0.02}$ & ${\\mathbf{646}}$ \\\\\n",
      "\t$t_{\\overline{\\mathrm{KS}}}$ & $1.03125_{-0.011}^{+0.014}$ & $1.05323_{-0.016}^{+0.0083}$ & ${\\mathbf{514}}$ & ${\\mathbf{0.03145_{-0.017}^{+0.0096}}}$ & ${\\mathbf{0.04437_{-0.01}^{+0.01}}}$ & $1173$ \\\\\n",
      "\t$t_{\\mathrm{SKS}}$ & $0.10355_{-0.046}^{+0.018}$ & $0.13745_{-0.035}^{+0.02}$ & $1561$ & $0.07643_{-0.029}^{+0.045}$ & $0.1222_{-0.035}^{+0.036}$ & $2054$ \\\\\n",
      "\t$t_{\\mathrm{FGD}}$ & ${\\mathbf{0.06692_{-0.03}^{+0.015}}}$ & ${\\mathbf{0.10049_{-0.018}^{+0.015}}}$ & $2573$ & $0.04829_{-0.023}^{+0.037}$ & $0.07078_{-0.024}^{+0.029}$ & $2509$ \\\\\n",
      "\t$t_{\\mathrm{MMD}}$ & $0.56517_{-0.27}^{+0.19}$ & $0.81424_{-0.14}^{+0.11}$ & $1538$ & $0.04086_{-0.02}^{+1.9}$ & $0.0578_{-0.024}^{+1.9}$ & $2221$ \\\\\n",
      "\\rowcolor{red!35}\t$t_{\\mathrm{NPLM}}$ & $0.098_{-0.021}^{+0.019}$ & $0.10798_{-0.02}^{+0.018}$ & $37094$ & $0.02759_{-0.012}^{+0.0087}$ & $0.03227_{-0.0084}^{+0.0062}$ & $52579$ \\\\\n",
      "\t\\toprule\n",
      "\t\\multicolumn{1}{c}{} & \\multicolumn{3}{c}{$\\rm{pow}_{-}$-deformation} & \\multicolumn{3}{c}{$\\mathcal{N}$-deformation} \\\\\n",
      "\tStatistic & $\\epsilon_{95\\%\\mathrm{CL}}$ & $\\epsilon^  {\\rm{pow}_{-}}_{99\\%\\mathrm{CL}}$ & $t$ (s) & $\\epsilon_{95\\%\\mathrm{CL}}$ & $\\epsilon^    {\\mathcal{N}}_{99\\%\\mathrm{CL}}$ & $t$ (s) \\\\\n",
      "\t\\midrule\n",
      "\t$t_{\\mathrm{SW}}$ & $0.06258_{-0.033}^{+0.019}$ & $0.08256_{-0.018}^{+0.026}$ & ${\\mathbf{562}}$ & $0.15131_{-0.041}^{+0.044}$ & $0.20084_{-0.04}^{+0.03}$ & ${\\mathbf{484}}$ \\\\\n",
      "\t$t_{\\overline{\\mathrm{KS}}}$ & ${\\mathbf{0.03145_{-0.018}^{+0.0096}}}$ & ${\\mathbf{0.0415_{-0.0096}^{+0.013}}}$ & $1304$ & ${\\mathbf{0.11951_{-0.034}^{+0.025}}}$ & ${\\mathbf{0.14874_{-0.02}^{+0.018}}}$ & $1189$ \\\\\n",
      "\t$t_{\\mathrm{SKS}}$ & $0.08005_{-0.03}^{+0.025}$ & $0.1025_{-0.03}^{+0.029}$ & $2153$ & $0.1299_{-0.03}^{+0.015}$ & $0.15264_{-0.02}^{+0.014}$ & $1923$ \\\\\n",
      "\t$t_{\\mathrm{FGD}}$ & $0.04585_{-0.016}^{+0.045}$ & $0.08288_{-0.033}^{+0.042}$ & $2697$ & $0.22562_{-0.06}^{+0.048}$ & $0.27252_{-0.033}^{+0.041}$ & $2163$ \\\\\n",
      "\t$t_{\\mathrm{MMD}}$ & $0.05178_{-0.029}^{+0.032}$ & $0.06297_{-0.014}^{+0.044}$ & $2784$ & $0.47936_{-0.14}^{+0.19}$ & $0.55252_{-0.093}^{+0.16}$ & $2867$ \\\\\n",
      "\\rowcolor{red!35}\t$t_{\\mathrm{NPLM}}$ & $0.02358_{-0.01}^{+0.0073}$ & $0.02822_{-0.0076}^{+0.0066}$ & $49370$ & $0.03585_{-0.0088}^{+0.0063}$ & $0.03943_{-0.0057}^{+0.0049}$ & $36790$ \\\\\n",
      "\t\\toprule\n",
      "\t\\multicolumn{1}{c}{} & \\multicolumn{3}{c}{$\\mathcal{U}$-deformation} & \\multicolumn{3}{c}{Timing} \\\\\n",
      "\tStatistic & $\\epsilon_{95\\%\\mathrm{CL}}$ & $\\epsilon^    {\\mathcal{U}}_{99\\%\\mathrm{CL}}$ & $t$ (s) & $t^{\\mathrm{null}}$ (s) \\\\\n",
      "\t\\midrule\n",
      "\t$t_{\\mathrm{FGD}}$ & $0.38649_{-0.1}^{+0.067}$ & $0.47155_{-0.058}^{+0.066}$ & $2050$ & $627$ \\\\\n",
      "\t$t_{\\mathrm{LLR}}$ & - & - & - & - \\\\\n",
      "\t$t_{\\mathrm{MMD}}$ & $0.79199_{-0.19}^{+0.31}$ & $0.97349_{-0.19}^{+0.23}$ & $2427$ & $381$ \\\\\n",
      "\\rowcolor{red!35}\t$t_{\\mathrm{NPLM}}$ & $0.06235_{-0.011}^{+0.0092}$ & $0.06766_{-0.0076}^{+0.0073}$ & $40531$ & $6457$ \\\\\n",
      "\t$t_{\\mathrm{SKS}}$ & $0.21465_{-0.039}^{+0.043}$ & $0.26715_{-0.034}^{+0.032}$ & $1874$ & $416$ \\\\\n",
      "\t$t_{\\mathrm{SW}}$ & $0.28278_{-0.09}^{+0.045}$ & $0.35194_{-0.07}^{+0.041}$ & ${\\mathbf{446}}$ & ${\\mathbf{145}}$ \\\\\n",
      "\t$t_{\\overline{\\mathrm{KS}}}$ & ${\\mathbf{0.1977_{-0.055}^{+0.029}}}$ & ${\\mathbf{0.24605_{-0.032}^{+0.029}}}$ & $1225$ & $179$ \\\\\n",
      "\t\\bottomrule\n",
      "\\end{tabular}\n"
     ]
    }
   ],
   "source": [
    "import re\n",
    "      \n",
    "# Path to the old metrics results table\n",
    "file_path_other_metrics = \"/leonardo_scratch/fast/INF24_pmlhep_1/rtorre00/projects/JetNetMetrics/results/particle_features_30/tests/10K/results_table.tex\"\n",
    "with open(file_path_other_metrics, 'r') as file:\n",
    "    table_other_metrics = file.read()\n",
    "\n",
    "# in the NPLM table isolate the rows with NPLM results and color them in red\n",
    "nplm_rows = []\n",
    "lines_nplm = tex_string.splitlines()\n",
    "for line in lines_nplm:\n",
    "\tif \"$t_{\\mathrm{NPLM}}$\" in line:\n",
    "\t\tnplm_rows.append(\"\\\\rowcolor{red!35}\"+line)\n",
    "\telse:\n",
    "\t\tpass\n",
    "\n",
    "lines_old = table_other_metrics.splitlines()\n",
    "new_lines = []\n",
    "nplm_index = 0  \n",
    "\n",
    "# add the NPLM results between the MMD and the LLR results in the old metric\n",
    "for line in lines_old:\n",
    "    if \"$t_{\\mathrm{MMD}}$\" in line:\n",
    "        new_lines.append(line)\n",
    "        new_lines.append(nplm_rows[nplm_index])\n",
    "        nplm_index = (nplm_index + 1) % len(nplm_rows)  \n",
    "    else:\n",
    "        new_lines.append(line)\n",
    "\n",
    "updated_table = \"\\n\".join(new_lines)\n",
    "\n",
    "print(updated_table)\n"
   ]
  },
  {
   "cell_type": "code",
   "execution_count": 25,
   "metadata": {},
   "outputs": [
    {
     "name": "stdout",
     "output_type": "stream",
     "text": [
      "LaTeX table code has been written to results/particle_features_30/tests/50K/results_table_updated.tex\n"
     ]
    }
   ],
   "source": [
    "shared.save_update_latex(updated_table, model_dir)"
   ]
  }
 ],
 "metadata": {
  "kernelspec": {
   "display_name": "tf2_custom_torch2.2",
   "language": "python",
   "name": "python3"
  },
  "language_info": {
   "codemirror_mode": {
    "name": "ipython",
    "version": 3
   },
   "file_extension": ".py",
   "mimetype": "text/x-python",
   "name": "python",
   "nbconvert_exporter": "python",
   "pygments_lexer": "ipython3",
   "version": "3.11.6"
  }
 },
 "nbformat": 4,
 "nbformat_minor": 2
}
